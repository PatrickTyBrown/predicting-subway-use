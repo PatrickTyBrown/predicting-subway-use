{
 "cells": [
  {
   "cell_type": "code",
   "execution_count": 37,
   "id": "f139f1b9-daac-4d5a-834d-d5b3abd4cba7",
   "metadata": {},
   "outputs": [],
   "source": [
    "import pandas as pd\n",
    "import sqlalchemy\n",
    "import pickle\n",
    "import os\n",
    "import matplotlib.pyplot as plt"
   ]
  },
  {
   "cell_type": "code",
   "execution_count": 2,
   "id": "23ae048e",
   "metadata": {},
   "outputs": [],
   "source": [
    "def pickle_file(obj, path):\n",
    "    file = open(path, 'ab')\n",
    "    pickle.dump(obj, file)\n",
    "    file.close()\n",
    "\n",
    "def load_pickle(path):\n",
    "    file = open(path, 'rb')\n",
    "    obj = pickle.load(file)\n",
    "    file.close()\n",
    "    return obj\n",
    "\n",
    "# Sanity Check to verify that \"C/A\", \"UNIT\", \"SCP\", \"STATION\", \"DATE_TIME\" is unique\n",
    "def unique_check(df):\n",
    "    (df\n",
    "    .groupby([\"C/A\", \"UNIT\", \"SCP\", \"STATION\", \"DATETIME\"])\n",
    "    .ENTRIES.count()\n",
    "    .reset_index()\n",
    "    .sort_values(\"ENTRIES\", ascending=False)).head(5)\n",
    "    \n",
    "# pickle_file(stations, 'station_list')\n",
    "def get_daily_counts(row, max_counter, max_difference, entry=True):\n",
    "    col_current1 = \"ENTRIES\" \n",
    "    col_prev1 = \"PREV_ENTRIES\"\n",
    "    col_current2 = \"EXITS\"\n",
    "    col_prev2 = \"PREV_EXITS\"\n",
    "\n",
    "    counter1 = row[col_current1] - row[col_prev1]\n",
    "    counter2 = row[col_current2] - row[col_prev2]\n",
    "    if counter1 < 0:\n",
    "        # Maybe counter is reversed?\n",
    "        counter1 = -counter1\n",
    "    if counter2 < 0:    \n",
    "        # Maybe counter is reversed?\n",
    "        counter2 = -counter2\n",
    "    if counter1 > max_counter:\n",
    "        # Maybe counter was reset to 0? \n",
    "        print(row[col_current1], row[col_prev1], end='\\r')\n",
    "        counter1 = min(row[col_current1], row[col_prev1])\n",
    "    if counter2 > max_counter:\n",
    "        # Maybe counter was reset to 0? \n",
    "        print(row[col_current2], row[col_prev2], end='\\r')\n",
    "        counter2 = min(row[col_current2], row[col_prev2])\n",
    "    if (counter1 > max_counter) & (abs(counter1-counter2) > max_difference):\n",
    "        # Check it again to make sure we're not still giving a counter that's too big\n",
    "        counter1 = 0\n",
    "    if (counter2 > max_counter) & (abs(counter1-counter2) > max_difference):\n",
    "        # Check it again to make sure we're not still giving a counter that's too big\n",
    "        counter2 = 0\n",
    "    if entry:\n",
    "        return counter1\n",
    "    else:\n",
    "        return counter2\n",
    "\n",
    "def fix_daily_counts(row, daily_column):\n",
    "    count = row[daily_column]\n",
    "    if count == 0:\n",
    "        i = row.name if row.name > 4 else 4\n",
    "        count = df.iloc[i-4:i+4][daily_column].mean()\n",
    "        print((str(i) + '\\t' + str(count)), end='\\r')\n",
    "    return count"
   ]
  },
  {
   "cell_type": "code",
   "execution_count": 17,
   "metadata": {},
   "outputs": [],
   "source": [
    "stations = pd.read_sql('''SELECT DISTINCT(STATION) FROM mta_data''',engine)\n",
    "stations = stations.STATION.tolist()"
   ]
  },
  {
   "cell_type": "code",
   "execution_count": 29,
   "id": "36034a08",
   "metadata": {},
   "outputs": [
    {
     "name": "stdout",
     "output_type": "stream",
     "text": [
      "<class 'pandas.core.frame.DataFrame'>\n",
      "RangeIndex: 5807357 entries, 0 to 5807356\n",
      "Data columns (total 11 columns):\n",
      " #   Column    Dtype         \n",
      "---  ------    -----         \n",
      " 0   C/A       object        \n",
      " 1   UNIT      object        \n",
      " 2   SCP       object        \n",
      " 3   STATION   object        \n",
      " 4   LINENAME  object        \n",
      " 5   DATE      object        \n",
      " 6   TIME      object        \n",
      " 7   DATETIME  datetime64[ns]\n",
      " 8   DESC      object        \n",
      " 9   ENTRIES   int64         \n",
      " 10  EXITS     int64         \n",
      "dtypes: datetime64[ns](1), int64(2), object(8)\n",
      "memory usage: 487.4+ MB\n"
     ]
    }
   ],
   "source": [
    "df = pd.read_sql(f\"SELECT [C/A], UNIT, SCP, STATION, LINENAME, DATE, TIME, DATE ||' '|| TIME as DATETIME, DESC, ENTRIES, EXITS FROM mta_data WHERE STATION IN {tuple(stations[:50])}\",engine)\n",
    "df['DATETIME'] = pd.to_datetime(df.DATETIME)\n",
    "df.info()"
   ]
  },
  {
   "cell_type": "code",
   "execution_count": 4,
   "id": "5e2e3648",
   "metadata": {},
   "outputs": [],
   "source": [
    "# Sanity Check to verify that \"C/A\", \"UNIT\", \"SCP\", \"STATION\", \"DATE_TIME\" is unique\n",
    "def unique_check(df):\n",
    "    (df\n",
    "    .groupby([\"C/A\", \"UNIT\", \"SCP\", \"STATION\", \"DATETIME\"])\n",
    "    .ENTRIES.count()\n",
    "    .reset_index()\n",
    "    .sort_values(\"ENTRIES\", ascending=False)).head(5)"
   ]
  },
  {
   "cell_type": "code",
   "execution_count": 5,
   "id": "c67fea4f",
   "metadata": {},
   "outputs": [
    {
     "name": "stdout",
     "output_type": "stream",
     "text": [
      "(4918351, 12)\n",
      "(4918271, 12)\n"
     ]
    }
   ],
   "source": [
    "# Get rid of the duplicate entry\n",
    "print(df.shape)\n",
    "df.sort_values([\"C/A\", \"UNIT\", \"SCP\", \"STATION\", \"DATETIME\"], \n",
    "                          inplace=True, ascending=False)\n",
    "df.drop_duplicates(subset=[\"C/A\", \"UNIT\", \"SCP\", \"STATION\", \"DATETIME\"], inplace=True)\n",
    "print(df.shape)"
   ]
  },
  {
   "cell_type": "code",
   "execution_count": 6,
   "id": "f7333b25",
   "metadata": {},
   "outputs": [
    {
     "data": {
      "text/html": [
       "<div>\n",
       "<style scoped>\n",
       "    .dataframe tbody tr th:only-of-type {\n",
       "        vertical-align: middle;\n",
       "    }\n",
       "\n",
       "    .dataframe tbody tr th {\n",
       "        vertical-align: top;\n",
       "    }\n",
       "\n",
       "    .dataframe thead th {\n",
       "        text-align: right;\n",
       "    }\n",
       "</style>\n",
       "<table border=\"1\" class=\"dataframe\">\n",
       "  <thead>\n",
       "    <tr style=\"text-align: right;\">\n",
       "      <th></th>\n",
       "      <th>C/A</th>\n",
       "      <th>UNIT</th>\n",
       "      <th>SCP</th>\n",
       "      <th>STATION</th>\n",
       "      <th>DATETIME</th>\n",
       "      <th>ENTRIES</th>\n",
       "    </tr>\n",
       "  </thead>\n",
       "  <tbody>\n",
       "    <tr>\n",
       "      <th>0</th>\n",
       "      <td>A002</td>\n",
       "      <td>R051</td>\n",
       "      <td>02-00-00</td>\n",
       "      <td>59 ST</td>\n",
       "      <td>2019-12-28 03:00:00</td>\n",
       "      <td>1</td>\n",
       "    </tr>\n",
       "    <tr>\n",
       "      <th>3278853</th>\n",
       "      <td>N506</td>\n",
       "      <td>R022</td>\n",
       "      <td>00-06-00</td>\n",
       "      <td>34 ST-HERALD SQ</td>\n",
       "      <td>2021-01-05 23:00:00</td>\n",
       "      <td>1</td>\n",
       "    </tr>\n",
       "    <tr>\n",
       "      <th>3278851</th>\n",
       "      <td>N506</td>\n",
       "      <td>R022</td>\n",
       "      <td>00-06-00</td>\n",
       "      <td>34 ST-HERALD SQ</td>\n",
       "      <td>2021-01-05 15:00:00</td>\n",
       "      <td>1</td>\n",
       "    </tr>\n",
       "    <tr>\n",
       "      <th>3278850</th>\n",
       "      <td>N506</td>\n",
       "      <td>R022</td>\n",
       "      <td>00-06-00</td>\n",
       "      <td>34 ST-HERALD SQ</td>\n",
       "      <td>2021-01-05 11:00:00</td>\n",
       "      <td>1</td>\n",
       "    </tr>\n",
       "    <tr>\n",
       "      <th>3278849</th>\n",
       "      <td>N506</td>\n",
       "      <td>R022</td>\n",
       "      <td>00-06-00</td>\n",
       "      <td>34 ST-HERALD SQ</td>\n",
       "      <td>2021-01-05 07:00:00</td>\n",
       "      <td>1</td>\n",
       "    </tr>\n",
       "  </tbody>\n",
       "</table>\n",
       "</div>"
      ],
      "text/plain": [
       "          C/A  UNIT       SCP          STATION            DATETIME  ENTRIES\n",
       "0        A002  R051  02-00-00            59 ST 2019-12-28 03:00:00        1\n",
       "3278853  N506  R022  00-06-00  34 ST-HERALD SQ 2021-01-05 23:00:00        1\n",
       "3278851  N506  R022  00-06-00  34 ST-HERALD SQ 2021-01-05 15:00:00        1\n",
       "3278850  N506  R022  00-06-00  34 ST-HERALD SQ 2021-01-05 11:00:00        1\n",
       "3278849  N506  R022  00-06-00  34 ST-HERALD SQ 2021-01-05 07:00:00        1"
      ]
     },
     "execution_count": 6,
     "metadata": {},
     "output_type": "execute_result"
    }
   ],
   "source": [
    "# Sanity Check to verify that \"C/A\", \"UNIT\", \"SCP\", \"STATION\", \"DATE_TIME\" is unique\n",
    "(df\n",
    " .groupby([\"C/A\", \"UNIT\", \"SCP\", \"STATION\", \"DATETIME\"])\n",
    " .ENTRIES.count()\n",
    " .reset_index()\n",
    " .sort_values(\"ENTRIES\", ascending=False)).head(5)"
   ]
  },
  {
   "cell_type": "code",
   "execution_count": 7,
   "id": "ff35cb4e",
   "metadata": {},
   "outputs": [
    {
     "name": "stderr",
     "output_type": "stream",
     "text": [
      "/tmp/ipykernel_31306/80764136.py:1: FutureWarning: Indexing with multiple keys (implicitly converted to a tuple of keys) will be deprecated, use a list instead.\n",
      "  df[[\"PREV_DATE\", \"PREV_ENTRIES\", \"PREV_EXITS\"]] = (df\n"
     ]
    }
   ],
   "source": [
    "df[[\"PREV_DATE\", \"PREV_ENTRIES\", \"PREV_EXITS\"]] = (df\n",
    "                                    .groupby([\"C/A\", \"UNIT\", \"SCP\", \"STATION\",\"LINENAME\"])[\"DATE\", \"ENTRIES\", \"EXITS\"]\n",
    "                                    .apply(lambda grp: grp.shift(1)))"
   ]
  },
  {
   "cell_type": "code",
   "execution_count": 7,
   "id": "17b74b97",
   "metadata": {},
   "outputs": [],
   "source": [
    "# df.groupby([\"C/A\", \"UNIT\", \"SCP\", \"STATION\",\"LINENAME\"])\n",
    "df[[\"PREV_DATE\", \"PREV_ENTRIES\", \"PREV_EXITS\"]] = df.groupby([\"C/A\", \"UNIT\", \"SCP\", \"STATION\",\"LINENAME\"])[[\"DATE\", \"ENTRIES\", \"EXITS\"]] .shift(1)"
   ]
  },
  {
   "cell_type": "code",
   "execution_count": 9,
   "id": "15b9ac6f",
   "metadata": {},
   "outputs": [
    {
     "data": {
      "text/plain": [
       "1015"
      ]
     },
     "execution_count": 9,
     "metadata": {},
     "output_type": "execute_result"
    }
   ],
   "source": [
    "df.PREV_DATE.isna().sum() "
   ]
  },
  {
   "cell_type": "code",
   "execution_count": 10,
   "id": "4b8ecd82",
   "metadata": {},
   "outputs": [],
   "source": [
    "# Drop the rows for the earliest date in the df\n",
    "df.dropna(subset=[\"PREV_DATE\"], axis=0, inplace=True)"
   ]
  },
  {
   "cell_type": "code",
   "execution_count": 157,
   "id": "e047352d",
   "metadata": {},
   "outputs": [
    {
     "data": {
      "text/html": [
       "<div>\n",
       "<style scoped>\n",
       "    .dataframe tbody tr th:only-of-type {\n",
       "        vertical-align: middle;\n",
       "    }\n",
       "\n",
       "    .dataframe tbody tr th {\n",
       "        vertical-align: top;\n",
       "    }\n",
       "\n",
       "    .dataframe thead th {\n",
       "        text-align: right;\n",
       "    }\n",
       "</style>\n",
       "<table border=\"1\" class=\"dataframe\">\n",
       "  <thead>\n",
       "    <tr style=\"text-align: right;\">\n",
       "      <th></th>\n",
       "      <th>index</th>\n",
       "      <th>C/A</th>\n",
       "      <th>UNIT</th>\n",
       "      <th>SCP</th>\n",
       "      <th>STATION</th>\n",
       "      <th>LINENAME</th>\n",
       "      <th>DATE</th>\n",
       "      <th>TIME</th>\n",
       "      <th>DATETIME</th>\n",
       "      <th>DESC</th>\n",
       "      <th>ENTRIES</th>\n",
       "      <th>EXITS</th>\n",
       "      <th>PREV_DATE</th>\n",
       "      <th>PREV_ENTRIES</th>\n",
       "      <th>PREV_EXITS</th>\n",
       "      <th>DAILY_ENTRIES</th>\n",
       "      <th>DAILY_EXITS</th>\n",
       "      <th>DAILY_ENTRIES2</th>\n",
       "      <th>OVER_MAX</th>\n",
       "      <th>LINE_DENSITY</th>\n",
       "    </tr>\n",
       "  </thead>\n",
       "  <tbody>\n",
       "    <tr>\n",
       "      <th>41536</th>\n",
       "      <td>41536</td>\n",
       "      <td>R639</td>\n",
       "      <td>R109</td>\n",
       "      <td>00-06-00</td>\n",
       "      <td>CHURCH AV</td>\n",
       "      <td>25</td>\n",
       "      <td>2022-04-29</td>\n",
       "      <td>17:00:00</td>\n",
       "      <td>2022-04-29 17:00:00</td>\n",
       "      <td>REGULAR</td>\n",
       "      <td>856501374</td>\n",
       "      <td>1578114851</td>\n",
       "      <td>04/29/2022</td>\n",
       "      <td>856501478.0</td>\n",
       "      <td>1.578115e+09</td>\n",
       "      <td>104.0</td>\n",
       "      <td>137.0</td>\n",
       "      <td>0.0</td>\n",
       "      <td>False</td>\n",
       "      <td>120.5</td>\n",
       "    </tr>\n",
       "    <tr>\n",
       "      <th>41535</th>\n",
       "      <td>41535</td>\n",
       "      <td>R639</td>\n",
       "      <td>R109</td>\n",
       "      <td>00-06-00</td>\n",
       "      <td>CHURCH AV</td>\n",
       "      <td>25</td>\n",
       "      <td>2022-04-29</td>\n",
       "      <td>13:00:00</td>\n",
       "      <td>2022-04-29 13:00:00</td>\n",
       "      <td>REGULAR</td>\n",
       "      <td>856501223</td>\n",
       "      <td>1578114714</td>\n",
       "      <td>04/29/2022</td>\n",
       "      <td>856501374.0</td>\n",
       "      <td>1.578115e+09</td>\n",
       "      <td>151.0</td>\n",
       "      <td>137.0</td>\n",
       "      <td>0.0</td>\n",
       "      <td>False</td>\n",
       "      <td>144.0</td>\n",
       "    </tr>\n",
       "    <tr>\n",
       "      <th>41534</th>\n",
       "      <td>41534</td>\n",
       "      <td>R639</td>\n",
       "      <td>R109</td>\n",
       "      <td>00-06-00</td>\n",
       "      <td>CHURCH AV</td>\n",
       "      <td>25</td>\n",
       "      <td>2022-04-29</td>\n",
       "      <td>09:00:00</td>\n",
       "      <td>2022-04-29 09:00:00</td>\n",
       "      <td>REGULAR</td>\n",
       "      <td>856501132</td>\n",
       "      <td>1578114656</td>\n",
       "      <td>04/29/2022</td>\n",
       "      <td>856501223.0</td>\n",
       "      <td>1.578115e+09</td>\n",
       "      <td>91.0</td>\n",
       "      <td>58.0</td>\n",
       "      <td>0.0</td>\n",
       "      <td>False</td>\n",
       "      <td>74.5</td>\n",
       "    </tr>\n",
       "    <tr>\n",
       "      <th>41533</th>\n",
       "      <td>41533</td>\n",
       "      <td>R639</td>\n",
       "      <td>R109</td>\n",
       "      <td>00-06-00</td>\n",
       "      <td>CHURCH AV</td>\n",
       "      <td>25</td>\n",
       "      <td>2022-04-29</td>\n",
       "      <td>05:00:00</td>\n",
       "      <td>2022-04-29 05:00:00</td>\n",
       "      <td>REGULAR</td>\n",
       "      <td>856501041</td>\n",
       "      <td>1578114616</td>\n",
       "      <td>04/29/2022</td>\n",
       "      <td>856501132.0</td>\n",
       "      <td>1.578115e+09</td>\n",
       "      <td>91.0</td>\n",
       "      <td>40.0</td>\n",
       "      <td>0.0</td>\n",
       "      <td>False</td>\n",
       "      <td>65.5</td>\n",
       "    </tr>\n",
       "    <tr>\n",
       "      <th>41532</th>\n",
       "      <td>41532</td>\n",
       "      <td>R639</td>\n",
       "      <td>R109</td>\n",
       "      <td>00-06-00</td>\n",
       "      <td>CHURCH AV</td>\n",
       "      <td>25</td>\n",
       "      <td>2022-04-29</td>\n",
       "      <td>01:00:00</td>\n",
       "      <td>2022-04-29 01:00:00</td>\n",
       "      <td>REGULAR</td>\n",
       "      <td>856501038</td>\n",
       "      <td>1578114603</td>\n",
       "      <td>04/29/2022</td>\n",
       "      <td>856501041.0</td>\n",
       "      <td>1.578115e+09</td>\n",
       "      <td>3.0</td>\n",
       "      <td>13.0</td>\n",
       "      <td>0.0</td>\n",
       "      <td>False</td>\n",
       "      <td>8.0</td>\n",
       "    </tr>\n",
       "  </tbody>\n",
       "</table>\n",
       "</div>"
      ],
      "text/plain": [
       "       index   C/A  UNIT       SCP    STATION LINENAME       DATE      TIME  \\\n",
       "41536  41536  R639  R109  00-06-00  CHURCH AV       25 2022-04-29  17:00:00   \n",
       "41535  41535  R639  R109  00-06-00  CHURCH AV       25 2022-04-29  13:00:00   \n",
       "41534  41534  R639  R109  00-06-00  CHURCH AV       25 2022-04-29  09:00:00   \n",
       "41533  41533  R639  R109  00-06-00  CHURCH AV       25 2022-04-29  05:00:00   \n",
       "41532  41532  R639  R109  00-06-00  CHURCH AV       25 2022-04-29  01:00:00   \n",
       "\n",
       "                 DATETIME     DESC    ENTRIES       EXITS   PREV_DATE  \\\n",
       "41536 2022-04-29 17:00:00  REGULAR  856501374  1578114851  04/29/2022   \n",
       "41535 2022-04-29 13:00:00  REGULAR  856501223  1578114714  04/29/2022   \n",
       "41534 2022-04-29 09:00:00  REGULAR  856501132  1578114656  04/29/2022   \n",
       "41533 2022-04-29 05:00:00  REGULAR  856501041  1578114616  04/29/2022   \n",
       "41532 2022-04-29 01:00:00  REGULAR  856501038  1578114603  04/29/2022   \n",
       "\n",
       "       PREV_ENTRIES    PREV_EXITS  DAILY_ENTRIES  DAILY_EXITS  DAILY_ENTRIES2  \\\n",
       "41536   856501478.0  1.578115e+09          104.0        137.0             0.0   \n",
       "41535   856501374.0  1.578115e+09          151.0        137.0             0.0   \n",
       "41534   856501223.0  1.578115e+09           91.0         58.0             0.0   \n",
       "41533   856501132.0  1.578115e+09           91.0         40.0             0.0   \n",
       "41532   856501041.0  1.578115e+09            3.0         13.0             0.0   \n",
       "\n",
       "       OVER_MAX  LINE_DENSITY  \n",
       "41536     False         120.5  \n",
       "41535     False         144.0  \n",
       "41534     False          74.5  \n",
       "41533     False          65.5  \n",
       "41532     False           8.0  "
      ]
     },
     "execution_count": 157,
     "metadata": {},
     "output_type": "execute_result"
    }
   ],
   "source": [
    "generate_line_density(df)\n",
    "df.head()"
   ]
  },
  {
   "cell_type": "code",
   "execution_count": 3,
   "id": "e10b5b3b",
   "metadata": {},
   "outputs": [],
   "source": [
    "def remove_duplicates(df):\n",
    "    # Get rid of the duplicate entry\n",
    "    print(df.shape)\n",
    "    df.sort_values([\"C/A\", \"UNIT\", \"SCP\", \"STATION\", \"DATETIME\"], \n",
    "                            inplace=True, ascending=False)\n",
    "    df.drop_duplicates(subset=[\"C/A\", \"UNIT\", \"SCP\", \"STATION\", \"DATETIME\"], inplace=True)\n",
    "    print(df.shape)\n",
    "def shift_drop(df):\n",
    "    # #Shift Rows and Drop NA\n",
    "    df[[\"PREV_DATE\", \"PREV_ENTRIES\", \"PREV_EXITS\"]] = (df\n",
    "                                    .groupby([\"C/A\", \"UNIT\", \"SCP\", \"STATION\"])[\"DATE\", \"ENTRIES\", \"EXITS\"]\n",
    "                                    .apply(lambda grp: grp.shift(1)))\n",
    "    df.dropna(subset=[\"PREV_DATE\"], axis=0, inplace=True)\n",
    "\n",
    "def tally_entrances(df, max_counter = 5000):\n",
    "    df['DAILY_ENTRIES'] = (df.ENTRIES - df.PREV_ENTRIES).abs()\n",
    "    df['DAILY_EXITS'] = (df.EXITS - df.PREV_EXITS).abs()\n",
    "    \n",
    "    for x in ['ENTRIES', 'EXITS']:\n",
    "        df['OVER_MAX'] = df['DAILY_'+x] > max_counter\n",
    "        print(df.OVER_MAX.sum())\n",
    "\n",
    "        \n",
    "        df['DAILY_'+x] = (df['DAILY_'+x] * ~ df.OVER_MAX) + (df[[x,'PREV_'+x]].min(axis=1) * df.OVER_MAX)\n",
    "\n",
    "        df['OVER_MAX'] = df['DAILY_'+x] > max_counter\n",
    "        print(df.OVER_MAX.sum())\n",
    "\n",
    "        df['DAILY_'+x] = (df['DAILY_'+x] * ~ df.OVER_MAX) + ((df['DAILY_'+x]* ~df.OVER_MAX).mean() * df.OVER_MAX)\n",
    "        df['OVER_MAX'] = df['DAILY_'+x] > max_counter\n",
    "        print(df.OVER_MAX.sum())\n",
    "    df.drop('OVER_MAX', axis=1)\n",
    "\n",
    "def generate_line_density(df):\n",
    "    df['LINE_DENSITY'] = (df.DAILY_ENTRIES + df.DAILY_EXITS) / df.LINENAME.str.len()\n",
    "\n",
    "def group_by_date(df):\n",
    "    df = df[['STATION', 'LINENAME', 'DATE',\n",
    "       'DAILY_ENTRIES', 'DAILY_EXITS', 'LINE_DENSITY']].groupby(['DATE','STATION', 'LINENAME']).sum()"
   ]
  },
  {
   "cell_type": "code",
   "execution_count": 4,
   "id": "0440d4d7",
   "metadata": {},
   "outputs": [
    {
     "name": "stdout",
     "output_type": "stream",
     "text": [
      "Data Loaded\n",
      "(628953, 11)\n",
      "(628832, 11)\n"
     ]
    },
    {
     "name": "stderr",
     "output_type": "stream",
     "text": [
      "/tmp/ipykernel_66231/3027098279.py:10: FutureWarning: Indexing with multiple keys (implicitly converted to a tuple of keys) will be deprecated, use a list instead.\n",
      "  df[[\"PREV_DATE\", \"PREV_ENTRIES\", \"PREV_EXITS\"]] = (df\n"
     ]
    },
    {
     "name": "stdout",
     "output_type": "stream",
     "text": [
      "46\n",
      "24\n",
      "0\n",
      "22\n",
      "5\n",
      "0\n",
      "saved:\tdata_cleaned/mta_stations_360_400\n",
      "\n",
      "-_-_-_-_-_-_-_-_-_-_\n",
      "\n",
      "\n",
      "Data Loaded\n",
      "(3703044, 11)\n",
      "(3703001, 11)\n"
     ]
    },
    {
     "name": "stderr",
     "output_type": "stream",
     "text": [
      "/tmp/ipykernel_66231/3027098279.py:10: FutureWarning: Indexing with multiple keys (implicitly converted to a tuple of keys) will be deprecated, use a list instead.\n",
      "  df[[\"PREV_DATE\", \"PREV_ENTRIES\", \"PREV_EXITS\"]] = (df\n"
     ]
    },
    {
     "name": "stdout",
     "output_type": "stream",
     "text": [
      "326\n",
      "140\n",
      "0\n",
      "284\n",
      "98\n",
      "0\n",
      "saved:\tdata_cleaned/mta_stations_120_160\n",
      "\n",
      "-_-_-_-_-_-_-_-_-_-_\n",
      "\n",
      "\n",
      "Data Loaded\n",
      "(2483661, 11)\n",
      "(2483655, 11)\n"
     ]
    },
    {
     "name": "stderr",
     "output_type": "stream",
     "text": [
      "/tmp/ipykernel_66231/3027098279.py:10: FutureWarning: Indexing with multiple keys (implicitly converted to a tuple of keys) will be deprecated, use a list instead.\n",
      "  df[[\"PREV_DATE\", \"PREV_ENTRIES\", \"PREV_EXITS\"]] = (df\n"
     ]
    },
    {
     "name": "stdout",
     "output_type": "stream",
     "text": [
      "180\n",
      "65\n",
      "0\n",
      "199\n",
      "74\n",
      "0\n",
      "saved:\tdata_cleaned/mta_stations_200_240\n",
      "\n",
      "-_-_-_-_-_-_-_-_-_-_\n",
      "\n",
      "\n",
      "Data Loaded\n",
      "(3014826, 11)\n",
      "(3014762, 11)\n"
     ]
    },
    {
     "name": "stderr",
     "output_type": "stream",
     "text": [
      "/tmp/ipykernel_66231/3027098279.py:10: FutureWarning: Indexing with multiple keys (implicitly converted to a tuple of keys) will be deprecated, use a list instead.\n",
      "  df[[\"PREV_DATE\", \"PREV_ENTRIES\", \"PREV_EXITS\"]] = (df\n"
     ]
    },
    {
     "name": "stdout",
     "output_type": "stream",
     "text": [
      "258\n",
      "90\n",
      "0\n",
      "229\n",
      "73\n",
      "0\n",
      "saved:\tdata_cleaned/mta_stations_40_80\n",
      "\n",
      "-_-_-_-_-_-_-_-_-_-_\n",
      "\n",
      "\n",
      "Data Loaded\n",
      "(2367619, 11)\n",
      "(2367611, 11)\n"
     ]
    },
    {
     "name": "stderr",
     "output_type": "stream",
     "text": [
      "/tmp/ipykernel_66231/3027098279.py:10: FutureWarning: Indexing with multiple keys (implicitly converted to a tuple of keys) will be deprecated, use a list instead.\n",
      "  df[[\"PREV_DATE\", \"PREV_ENTRIES\", \"PREV_EXITS\"]] = (df\n"
     ]
    },
    {
     "name": "stdout",
     "output_type": "stream",
     "text": [
      "132\n",
      "37\n",
      "0\n",
      "121\n",
      "25\n",
      "0\n",
      "saved:\tdata_cleaned/mta_stations_160_200\n",
      "\n",
      "-_-_-_-_-_-_-_-_-_-_\n",
      "\n",
      "\n",
      "Data Loaded\n",
      "(3147279, 11)\n",
      "(3147275, 11)\n"
     ]
    },
    {
     "name": "stderr",
     "output_type": "stream",
     "text": [
      "/tmp/ipykernel_66231/3027098279.py:10: FutureWarning: Indexing with multiple keys (implicitly converted to a tuple of keys) will be deprecated, use a list instead.\n",
      "  df[[\"PREV_DATE\", \"PREV_ENTRIES\", \"PREV_EXITS\"]] = (df\n"
     ]
    },
    {
     "name": "stdout",
     "output_type": "stream",
     "text": [
      "1368\n",
      "415\n",
      "0\n",
      "1358\n",
      "424\n",
      "0\n",
      "saved:\tdata_cleaned/mta_stations_240_280\n",
      "\n",
      "-_-_-_-_-_-_-_-_-_-_\n",
      "\n",
      "\n",
      "Data Loaded\n",
      "(2037461, 11)\n",
      "(2037398, 11)\n"
     ]
    },
    {
     "name": "stderr",
     "output_type": "stream",
     "text": [
      "/tmp/ipykernel_66231/3027098279.py:10: FutureWarning: Indexing with multiple keys (implicitly converted to a tuple of keys) will be deprecated, use a list instead.\n",
      "  df[[\"PREV_DATE\", \"PREV_ENTRIES\", \"PREV_EXITS\"]] = (df\n"
     ]
    },
    {
     "name": "stdout",
     "output_type": "stream",
     "text": [
      "116\n",
      "49\n",
      "0\n",
      "118\n",
      "50\n",
      "0\n",
      "saved:\tdata_cleaned/mta_stations_320_360\n",
      "\n",
      "-_-_-_-_-_-_-_-_-_-_\n",
      "\n",
      "\n",
      "Data Loaded\n",
      "(4918351, 11)\n",
      "(4918271, 11)\n"
     ]
    },
    {
     "name": "stderr",
     "output_type": "stream",
     "text": [
      "/tmp/ipykernel_66231/3027098279.py:10: FutureWarning: Indexing with multiple keys (implicitly converted to a tuple of keys) will be deprecated, use a list instead.\n",
      "  df[[\"PREV_DATE\", \"PREV_ENTRIES\", \"PREV_EXITS\"]] = (df\n"
     ]
    },
    {
     "name": "stdout",
     "output_type": "stream",
     "text": [
      "325\n",
      "111\n",
      "0\n",
      "307\n",
      "91\n",
      "0\n",
      "saved:\tdata_cleaned/mta_stations_0_40\n",
      "\n",
      "-_-_-_-_-_-_-_-_-_-_\n",
      "\n",
      "\n",
      "Data Loaded\n",
      "(1751692, 11)\n",
      "(1751691, 11)\n"
     ]
    },
    {
     "name": "stderr",
     "output_type": "stream",
     "text": [
      "/tmp/ipykernel_66231/3027098279.py:10: FutureWarning: Indexing with multiple keys (implicitly converted to a tuple of keys) will be deprecated, use a list instead.\n",
      "  df[[\"PREV_DATE\", \"PREV_ENTRIES\", \"PREV_EXITS\"]] = (df\n"
     ]
    },
    {
     "name": "stdout",
     "output_type": "stream",
     "text": [
      "102\n",
      "38\n",
      "0\n",
      "104\n",
      "37\n",
      "0\n",
      "saved:\tdata_cleaned/mta_stations_280_320\n",
      "\n",
      "-_-_-_-_-_-_-_-_-_-_\n",
      "\n",
      "\n",
      "Data Loaded\n",
      "(1449978, 11)\n",
      "(1449955, 11)\n"
     ]
    },
    {
     "name": "stderr",
     "output_type": "stream",
     "text": [
      "/tmp/ipykernel_66231/3027098279.py:10: FutureWarning: Indexing with multiple keys (implicitly converted to a tuple of keys) will be deprecated, use a list instead.\n",
      "  df[[\"PREV_DATE\", \"PREV_ENTRIES\", \"PREV_EXITS\"]] = (df\n"
     ]
    },
    {
     "name": "stdout",
     "output_type": "stream",
     "text": [
      "106\n",
      "46\n",
      "0\n",
      "89\n",
      "28\n",
      "0\n",
      "saved:\tdata_cleaned/mta_stations_80_120\n",
      "\n",
      "-_-_-_-_-_-_-_-_-_-_\n",
      "\n",
      "\n",
      "\n",
      "\n",
      "\n",
      "-_-_-_-_-_-_-_-_-_-_\n",
      "All Done\n"
     ]
    }
   ],
   "source": [
    "path = './data_raw/'\n",
    "df_list = []\n",
    "\n",
    "for filename in os.listdir(path):\n",
    "\n",
    "    df = load_pickle(path+filename)\n",
    "    df.DATE = pd.to_datetime(df.DATE)\n",
    "    print('Data Loaded')\n",
    "    \n",
    "    remove_duplicates(df)\n",
    "    shift_drop(df)\n",
    "    tally_entrances(df)\n",
    "    generate_line_density(df)\n",
    "    group_by_date(df)\n",
    "\n",
    "    pickle_file(df, f\"data_cleaned/{filename}\")\n",
    "    print(f\"saved:\\tdata_cleaned/{filename}\\n\")\n",
    "    print('-_'*10)\n",
    "    print('\\n')\n",
    "\n",
    "print('\\n\\n\\n'+ '-_'*10)\n",
    "print('All Done')"
   ]
  },
  {
   "cell_type": "code",
   "execution_count": 150,
   "id": "95580504",
   "metadata": {},
   "outputs": [
    {
     "name": "stdout",
     "output_type": "stream",
     "text": [
      "0\n",
      "9189\n"
     ]
    }
   ],
   "source": [
    "for x in ['ENTRIES', 'EXITS']:\n",
    "    print(df[df['DAILY_'+x] >max_counter]['DATE'].count())"
   ]
  },
  {
   "cell_type": "code",
   "execution_count": 107,
   "id": "63dbc271",
   "metadata": {},
   "outputs": [
    {
     "name": "stdout",
     "output_type": "stream",
     "text": [
      "0\n"
     ]
    },
    {
     "data": {
      "text/html": [
       "<div>\n",
       "<style scoped>\n",
       "    .dataframe tbody tr th:only-of-type {\n",
       "        vertical-align: middle;\n",
       "    }\n",
       "\n",
       "    .dataframe tbody tr th {\n",
       "        vertical-align: top;\n",
       "    }\n",
       "\n",
       "    .dataframe thead th {\n",
       "        text-align: right;\n",
       "    }\n",
       "</style>\n",
       "<table border=\"1\" class=\"dataframe\">\n",
       "  <thead>\n",
       "    <tr style=\"text-align: right;\">\n",
       "      <th></th>\n",
       "      <th>index</th>\n",
       "      <th>C/A</th>\n",
       "      <th>UNIT</th>\n",
       "      <th>SCP</th>\n",
       "      <th>STATION</th>\n",
       "      <th>LINENAME</th>\n",
       "      <th>DATE</th>\n",
       "      <th>TIME</th>\n",
       "      <th>DATETIME</th>\n",
       "      <th>DESC</th>\n",
       "      <th>ENTRIES</th>\n",
       "      <th>EXITS</th>\n",
       "      <th>PREV_DATE</th>\n",
       "      <th>PREV_ENTRIES</th>\n",
       "      <th>PREV_EXITS</th>\n",
       "      <th>DAILY_ENTRIES</th>\n",
       "      <th>DAILY_EXITS</th>\n",
       "      <th>DAILY_ENTRIES2</th>\n",
       "      <th>OVER_MAX</th>\n",
       "    </tr>\n",
       "  </thead>\n",
       "  <tbody>\n",
       "    <tr>\n",
       "      <th>41536</th>\n",
       "      <td>41536</td>\n",
       "      <td>R639</td>\n",
       "      <td>R109</td>\n",
       "      <td>00-06-00</td>\n",
       "      <td>CHURCH AV</td>\n",
       "      <td>25</td>\n",
       "      <td>04/29/2022</td>\n",
       "      <td>17:00:00</td>\n",
       "      <td>2022-04-29 17:00:00</td>\n",
       "      <td>REGULAR</td>\n",
       "      <td>856501374</td>\n",
       "      <td>1578114851</td>\n",
       "      <td>04/29/2022</td>\n",
       "      <td>856501478.0</td>\n",
       "      <td>1.578115e+09</td>\n",
       "      <td>104.0</td>\n",
       "      <td>137.0</td>\n",
       "      <td>0.0</td>\n",
       "      <td>False</td>\n",
       "    </tr>\n",
       "    <tr>\n",
       "      <th>41535</th>\n",
       "      <td>41535</td>\n",
       "      <td>R639</td>\n",
       "      <td>R109</td>\n",
       "      <td>00-06-00</td>\n",
       "      <td>CHURCH AV</td>\n",
       "      <td>25</td>\n",
       "      <td>04/29/2022</td>\n",
       "      <td>13:00:00</td>\n",
       "      <td>2022-04-29 13:00:00</td>\n",
       "      <td>REGULAR</td>\n",
       "      <td>856501223</td>\n",
       "      <td>1578114714</td>\n",
       "      <td>04/29/2022</td>\n",
       "      <td>856501374.0</td>\n",
       "      <td>1.578115e+09</td>\n",
       "      <td>151.0</td>\n",
       "      <td>137.0</td>\n",
       "      <td>0.0</td>\n",
       "      <td>False</td>\n",
       "    </tr>\n",
       "    <tr>\n",
       "      <th>41534</th>\n",
       "      <td>41534</td>\n",
       "      <td>R639</td>\n",
       "      <td>R109</td>\n",
       "      <td>00-06-00</td>\n",
       "      <td>CHURCH AV</td>\n",
       "      <td>25</td>\n",
       "      <td>04/29/2022</td>\n",
       "      <td>09:00:00</td>\n",
       "      <td>2022-04-29 09:00:00</td>\n",
       "      <td>REGULAR</td>\n",
       "      <td>856501132</td>\n",
       "      <td>1578114656</td>\n",
       "      <td>04/29/2022</td>\n",
       "      <td>856501223.0</td>\n",
       "      <td>1.578115e+09</td>\n",
       "      <td>91.0</td>\n",
       "      <td>58.0</td>\n",
       "      <td>0.0</td>\n",
       "      <td>False</td>\n",
       "    </tr>\n",
       "    <tr>\n",
       "      <th>41533</th>\n",
       "      <td>41533</td>\n",
       "      <td>R639</td>\n",
       "      <td>R109</td>\n",
       "      <td>00-06-00</td>\n",
       "      <td>CHURCH AV</td>\n",
       "      <td>25</td>\n",
       "      <td>04/29/2022</td>\n",
       "      <td>05:00:00</td>\n",
       "      <td>2022-04-29 05:00:00</td>\n",
       "      <td>REGULAR</td>\n",
       "      <td>856501041</td>\n",
       "      <td>1578114616</td>\n",
       "      <td>04/29/2022</td>\n",
       "      <td>856501132.0</td>\n",
       "      <td>1.578115e+09</td>\n",
       "      <td>91.0</td>\n",
       "      <td>40.0</td>\n",
       "      <td>0.0</td>\n",
       "      <td>False</td>\n",
       "    </tr>\n",
       "    <tr>\n",
       "      <th>41532</th>\n",
       "      <td>41532</td>\n",
       "      <td>R639</td>\n",
       "      <td>R109</td>\n",
       "      <td>00-06-00</td>\n",
       "      <td>CHURCH AV</td>\n",
       "      <td>25</td>\n",
       "      <td>04/29/2022</td>\n",
       "      <td>01:00:00</td>\n",
       "      <td>2022-04-29 01:00:00</td>\n",
       "      <td>REGULAR</td>\n",
       "      <td>856501038</td>\n",
       "      <td>1578114603</td>\n",
       "      <td>04/29/2022</td>\n",
       "      <td>856501041.0</td>\n",
       "      <td>1.578115e+09</td>\n",
       "      <td>3.0</td>\n",
       "      <td>13.0</td>\n",
       "      <td>0.0</td>\n",
       "      <td>False</td>\n",
       "    </tr>\n",
       "  </tbody>\n",
       "</table>\n",
       "</div>"
      ],
      "text/plain": [
       "       index   C/A  UNIT       SCP    STATION LINENAME        DATE      TIME  \\\n",
       "41536  41536  R639  R109  00-06-00  CHURCH AV       25  04/29/2022  17:00:00   \n",
       "41535  41535  R639  R109  00-06-00  CHURCH AV       25  04/29/2022  13:00:00   \n",
       "41534  41534  R639  R109  00-06-00  CHURCH AV       25  04/29/2022  09:00:00   \n",
       "41533  41533  R639  R109  00-06-00  CHURCH AV       25  04/29/2022  05:00:00   \n",
       "41532  41532  R639  R109  00-06-00  CHURCH AV       25  04/29/2022  01:00:00   \n",
       "\n",
       "                 DATETIME     DESC    ENTRIES       EXITS   PREV_DATE  \\\n",
       "41536 2022-04-29 17:00:00  REGULAR  856501374  1578114851  04/29/2022   \n",
       "41535 2022-04-29 13:00:00  REGULAR  856501223  1578114714  04/29/2022   \n",
       "41534 2022-04-29 09:00:00  REGULAR  856501132  1578114656  04/29/2022   \n",
       "41533 2022-04-29 05:00:00  REGULAR  856501041  1578114616  04/29/2022   \n",
       "41532 2022-04-29 01:00:00  REGULAR  856501038  1578114603  04/29/2022   \n",
       "\n",
       "       PREV_ENTRIES    PREV_EXITS  DAILY_ENTRIES  DAILY_EXITS  DAILY_ENTRIES2  \\\n",
       "41536   856501478.0  1.578115e+09          104.0        137.0             0.0   \n",
       "41535   856501374.0  1.578115e+09          151.0        137.0             0.0   \n",
       "41534   856501223.0  1.578115e+09           91.0         58.0             0.0   \n",
       "41533   856501132.0  1.578115e+09           91.0         40.0             0.0   \n",
       "41532   856501041.0  1.578115e+09            3.0         13.0             0.0   \n",
       "\n",
       "       OVER_MAX  \n",
       "41536     False  \n",
       "41535     False  \n",
       "41534     False  \n",
       "41533     False  \n",
       "41532     False  "
      ]
     },
     "execution_count": 107,
     "metadata": {},
     "output_type": "execute_result"
    }
   ],
   "source": [
    "max_counter = 5000\n",
    "print(df[df.DAILY_ENTRIES >max_counter]['DATE'].count())\n",
    "df['DAILY_ENTRIES'] = df.DAILY_ENTRIES * ~ df.OVER_MAX\n",
    "df.head()"
   ]
  },
  {
   "cell_type": "code",
   "execution_count": 25,
   "id": "e50386cf",
   "metadata": {},
   "outputs": [
    {
     "name": "stdout",
     "output_type": "stream",
     "text": [
      "8869858 8.0017.08.000\n",
      "\n",
      "\n",
      "\n"
     ]
    }
   ],
   "source": [
    "def get_daily_counts(row, max_counter, max_difference, entry=True):\n",
    "    col_current1 = \"ENTRIES\" \n",
    "    col_prev1 = \"PREV_ENTRIES\"\n",
    "    col_current2 = \"EXITS\"\n",
    "    col_prev2 = \"PREV_EXITS\"\n",
    "\n",
    "    counter1 = row[col_current1] - row[col_prev1]\n",
    "    counter2 = row[col_current2] - row[col_prev2]\n",
    "    if counter1 < 0:\n",
    "        # Maybe counter is reversed?\n",
    "        counter1 = -counter1\n",
    "    if counter2 < 0:    \n",
    "        # Maybe counter is reversed?\n",
    "        counter2 = -counter2\n",
    "    if counter1 > max_counter:\n",
    "        # Maybe counter was reset to 0? \n",
    "        print(row[col_current1], row[col_prev1], end='\\r')\n",
    "        counter1 = min(row[col_current1], row[col_prev1])\n",
    "    if counter2 > max_counter:\n",
    "        # Maybe counter was reset to 0? \n",
    "        print(row[col_current2], row[col_prev2], end='\\r')\n",
    "        counter2 = min(row[col_current2], row[col_prev2])\n",
    "    if (counter1 > max_counter) & (abs(counter1-counter2) > max_difference):\n",
    "        # Check it again to make sure we're not still giving a counter that's too big\n",
    "        counter1 = 0\n",
    "    if (counter2 > max_counter) & (abs(counter1-counter2) > max_difference):\n",
    "        # Check it again to make sure we're not still giving a counter that's too big\n",
    "        counter2 = 0\n",
    "    if entry:\n",
    "        return counter1\n",
    "    else:\n",
    "        return counter2\n",
    "\n",
    "# If counter is > 1Million, then the counter might have been reset.  \n",
    "# Just set it to zero as different counters have different cycle limits\n",
    "# It'd probably be a good idea to use a number even significantly smaller than 1 million as the limit!\n",
    "df[\"DAILY_EXITS\"] = df.apply(get_daily_counts, axis=1, max_counter=25000, max_difference = 15000, entry=False)\n",
    "print('\\n')\n",
    "# df[\"DAILY_EXITS\"] = df.apply(get_daily_counts, axis=1, max_counter=50000, entry = False)\n",
    "print('\\n')"
   ]
  },
  {
   "cell_type": "code",
   "execution_count": 6,
   "id": "ae612fa4",
   "metadata": {},
   "outputs": [
    {
     "data": {
      "text/plain": [
       "0"
      ]
     },
     "execution_count": 6,
     "metadata": {},
     "output_type": "execute_result"
    }
   ],
   "source": [
    "len(df[df.DAILY_ENTRIES==0])"
   ]
  },
  {
   "cell_type": "code",
   "execution_count": 60,
   "id": "1847d7e7",
   "metadata": {},
   "outputs": [
    {
     "name": "stdout",
     "output_type": "stream",
     "text": [
      "Index(['DATE', 'STATION', 'LINENAME', 'DAILY_ENTRIES', 'DAILY_EXITS'], dtype='object')\n"
     ]
    },
    {
     "data": {
      "text/html": [
       "<div>\n",
       "<style scoped>\n",
       "    .dataframe tbody tr th:only-of-type {\n",
       "        vertical-align: middle;\n",
       "    }\n",
       "\n",
       "    .dataframe tbody tr th {\n",
       "        vertical-align: top;\n",
       "    }\n",
       "\n",
       "    .dataframe thead th {\n",
       "        text-align: right;\n",
       "    }\n",
       "</style>\n",
       "<table border=\"1\" class=\"dataframe\">\n",
       "  <thead>\n",
       "    <tr style=\"text-align: right;\">\n",
       "      <th></th>\n",
       "      <th>DATE</th>\n",
       "      <th>STATION</th>\n",
       "      <th>LINENAME</th>\n",
       "      <th>DAILY_ENTRIES</th>\n",
       "      <th>DAILY_EXITS</th>\n",
       "    </tr>\n",
       "  </thead>\n",
       "  <tbody>\n",
       "    <tr>\n",
       "      <th>0</th>\n",
       "      <td>01/01/2020</td>\n",
       "      <td>14 ST-UNION SQ</td>\n",
       "      <td>456LNQRW</td>\n",
       "      <td>14236.0</td>\n",
       "      <td>14515.0</td>\n",
       "    </tr>\n",
       "    <tr>\n",
       "      <th>1</th>\n",
       "      <td>01/01/2020</td>\n",
       "      <td>14 ST-UNION SQ</td>\n",
       "      <td>LNQR456W</td>\n",
       "      <td>23450.0</td>\n",
       "      <td>22618.0</td>\n",
       "    </tr>\n",
       "    <tr>\n",
       "      <th>2</th>\n",
       "      <td>01/01/2020</td>\n",
       "      <td>23 ST</td>\n",
       "      <td>1</td>\n",
       "      <td>5402.0</td>\n",
       "      <td>5161.0</td>\n",
       "    </tr>\n",
       "    <tr>\n",
       "      <th>3</th>\n",
       "      <td>01/01/2020</td>\n",
       "      <td>23 ST</td>\n",
       "      <td>6</td>\n",
       "      <td>6404.0</td>\n",
       "      <td>6024.0</td>\n",
       "    </tr>\n",
       "    <tr>\n",
       "      <th>4</th>\n",
       "      <td>01/01/2020</td>\n",
       "      <td>23 ST</td>\n",
       "      <td>CE</td>\n",
       "      <td>7490.0</td>\n",
       "      <td>5314.0</td>\n",
       "    </tr>\n",
       "  </tbody>\n",
       "</table>\n",
       "</div>"
      ],
      "text/plain": [
       "         DATE         STATION  LINENAME  DAILY_ENTRIES  DAILY_EXITS\n",
       "0  01/01/2020  14 ST-UNION SQ  456LNQRW        14236.0      14515.0\n",
       "1  01/01/2020  14 ST-UNION SQ  LNQR456W        23450.0      22618.0\n",
       "2  01/01/2020           23 ST         1         5402.0       5161.0\n",
       "3  01/01/2020           23 ST         6         6404.0       6024.0\n",
       "4  01/01/2020           23 ST        CE         7490.0       5314.0"
      ]
     },
     "execution_count": 60,
     "metadata": {},
     "output_type": "execute_result"
    }
   ],
   "source": [
    "# df.reset_index(inplace= True)\n",
    "df.drop('level_0', axis = 'columns',inplace= True)\n",
    "print(df.columns)\n",
    "df.head()"
   ]
  },
  {
   "cell_type": "code",
   "execution_count": 66,
   "id": "9a9d5447",
   "metadata": {},
   "outputs": [],
   "source": [
    "pickle_file(df, 'data/test')"
   ]
  },
  {
   "cell_type": "code",
   "execution_count": 117,
   "id": "b18c5966",
   "metadata": {},
   "outputs": [],
   "source": [
    "df['DATE'] = pd.to_datetime(df.DATE)"
   ]
  },
  {
   "cell_type": "code",
   "execution_count": 4,
   "id": "74ce1ec7",
   "metadata": {},
   "outputs": [
    {
     "name": "stdout",
     "output_type": "stream",
     "text": [
      "Loading Stations 0:40\n",
      "Data Loaded\n",
      "saved:\tdata/mta_stations_0_40\n",
      "\n",
      "-_-_-_-_-_-_-_-_-_-_\n",
      "\n",
      "\n",
      "Loading Stations 40:80\n",
      "Data Loaded\n",
      "saved:\tdata/mta_stations_40_80\n",
      "\n",
      "-_-_-_-_-_-_-_-_-_-_\n",
      "\n",
      "\n",
      "Loading Stations 80:120\n",
      "Data Loaded\n",
      "saved:\tdata/mta_stations_80_120\n",
      "\n",
      "-_-_-_-_-_-_-_-_-_-_\n",
      "\n",
      "\n",
      "Loading Stations 120:160\n",
      "Data Loaded\n",
      "saved:\tdata/mta_stations_120_160\n",
      "\n",
      "-_-_-_-_-_-_-_-_-_-_\n",
      "\n",
      "\n",
      "Loading Stations 160:200\n",
      "Data Loaded\n",
      "saved:\tdata/mta_stations_160_200\n",
      "\n",
      "-_-_-_-_-_-_-_-_-_-_\n",
      "\n",
      "\n",
      "Loading Stations 200:240\n",
      "Data Loaded\n",
      "saved:\tdata/mta_stations_200_240\n",
      "\n",
      "-_-_-_-_-_-_-_-_-_-_\n",
      "\n",
      "\n",
      "Loading Stations 240:280\n",
      "Data Loaded\n",
      "saved:\tdata/mta_stations_240_280\n",
      "\n",
      "-_-_-_-_-_-_-_-_-_-_\n",
      "\n",
      "\n",
      "Loading Stations 280:320\n",
      "Data Loaded\n",
      "saved:\tdata/mta_stations_280_320\n",
      "\n",
      "-_-_-_-_-_-_-_-_-_-_\n",
      "\n",
      "\n",
      "Loading Stations 320:360\n",
      "Data Loaded\n",
      "saved:\tdata/mta_stations_320_360\n",
      "\n",
      "-_-_-_-_-_-_-_-_-_-_\n",
      "\n",
      "\n",
      "Loading Stations 360:400\n",
      "Data Loaded\n",
      "saved:\tdata/mta_stations_360_400\n",
      "\n",
      "-_-_-_-_-_-_-_-_-_-_\n",
      "\n",
      "\n",
      "\n",
      "\n",
      "\n",
      "-_-_-_-_-_-_-_-_-_-_\n",
      "All Done\n"
     ]
    }
   ],
   "source": [
    "slice_left = 0\n",
    "\n",
    "engine = sqlalchemy.create_engine('sqlite:///mta_data.db')  \n",
    "engine.table_names()\n",
    "\n",
    "stations = pd.read_sql('''SELECT DISTINCT(STATION) FROM mta_data''',engine)\n",
    "stations = stations.STATION.tolist()\n",
    "\n",
    "for slice_right in range(40,401,40):\n",
    "    print(f\"Loading Stations {slice_left}:{slice_right}\")\n",
    "    df = pd.read_sql(f\"SELECT [C/A], UNIT, SCP, STATION, LINENAME, DATE, TIME, DATE ||' '|| TIME as DATETIME, DESC, ENTRIES, EXITS FROM mta_data WHERE STATION IN {tuple(stations[slice_left:slice_right])}\",engine)\n",
    "    df['DATETIME'] = pd.to_datetime(df.DATETIME)\n",
    "    #df.info()\n",
    "    print('Data Loaded')\n",
    "\n",
    "    # #Getting Rid of Duplicates\n",
    "    # print('Getting Rid of Dupes')\n",
    "    # print(df.shape)\n",
    "    # df.sort_values([\"C/A\", \"UNIT\", \"SCP\", \"STATION\", \"DATETIME\"], \n",
    "    #                         inplace=True, ascending=False)\n",
    "    # df.drop_duplicates(subset=[\"C/A\", \"UNIT\", \"SCP\", \"STATION\", \"DATETIME\"], inplace=True)\n",
    "    # print(df.shape)\n",
    "    # unique_check(df)\n",
    "\n",
    "    # #Shift Rows and Drop NA\n",
    "    # df[[\"PREV_DATE\", \"PREV_ENTRIES\", \"PREV_EXITS\"]] = (df\n",
    "    #                                 .groupby([\"C/A\", \"UNIT\", \"SCP\", \"STATION\"])[\"DATE\", \"ENTRIES\", \"EXITS\"]\n",
    "    #                                 .apply(lambda grp: grp.shift(1)))\n",
    "    # df.dropna(subset=[\"PREV_DATE\"], axis=0, inplace=True)\n",
    "\n",
    "    # #Let's get start tallying entries\n",
    "    # print('Tallying Entries and Exits')\n",
    "    # df[\"DAILY_ENTRIES\"] = df.apply(get_daily_counts, axis=1, max_counter=90000)\n",
    "    # print('\\n')\n",
    "    # df[\"DAILY_EXITS\"] = df.apply(get_daily_counts, axis=1, max_counter=90000, entry = False)\n",
    "    # print('\\n')\n",
    "\n",
    "    # #Group and Sum DF for saving\n",
    "    # print('Group and Sum')\n",
    "    # df = df[['STATION', 'LINENAME', 'DATE',\n",
    "    #    'DAILY_ENTRIES', 'DAILY_EXITS']].groupby(['DATE','STATION', 'LINENAME']).sum()\n",
    "    \n",
    "    # df.describe()\n",
    "    #Pickle the DF\n",
    "    pickle_file(df, f\"data/mta_stations_{slice_left}_{slice_right}\")\n",
    "    print(f\"saved:\\tdata/mta_stations_{slice_left}_{slice_right}\\n\")\n",
    "    print('-_'*10)\n",
    "    print('\\n')\n",
    "\n",
    "    slice_left = slice_right\n",
    "\n",
    "print('\\n\\n\\n'+ '-_'*10)\n",
    "print('All Done')"
   ]
  },
  {
   "cell_type": "code",
   "execution_count": 5,
   "id": "2d712f9f-760e-41bc-b090-8f46e2f54519",
   "metadata": {},
   "outputs": [
    {
     "name": "stdout",
     "output_type": "stream",
     "text": [
      "mta_stations_80_120\n"
     ]
    }
   ],
   "source": [
    "path = './data_cleaned/'\n",
    "df_list = []\n",
    "for filename in os.listdir(path):\n",
    "    df_list.append(load_pickle(path+filename))\n",
    "\n",
    "df = pd.concat(df_list)\n",
    "print(filename)\n",
    "df.drop([364057, 123381, 182252, 284410, 384155, 228498],inplace=True)\n",
    "df.sort_values('DAILY_ENTRIES',ascending=False)\n",
    "pickle_file(df, 'data_merged/mta_data')\n"
   ]
  },
  {
   "cell_type": "code",
   "execution_count": null,
   "id": "9ab8f2fa",
   "metadata": {},
   "outputs": [],
   "source": []
  },
  {
   "cell_type": "code",
   "execution_count": 11,
   "id": "f73b27d1",
   "metadata": {},
   "outputs": [],
   "source": [
    "df = load_pickle('data_merged/mta_data')\n",
    "df.reset_index(inplace=True)\n",
    "df.DATE = pd.to_datetime(df.DATE)"
   ]
  },
  {
   "cell_type": "code",
   "execution_count": 26,
   "id": "f6c0b4c8",
   "metadata": {},
   "outputs": [],
   "source": [
    "pickle_file(df, 'data_merged/mta_data')"
   ]
  },
  {
   "cell_type": "code",
   "execution_count": 4,
   "id": "1248f690",
   "metadata": {},
   "outputs": [],
   "source": [
    "df = load_pickle('data/mta_stations_0_40')\n",
    "df.reset_index(inplace=True)"
   ]
  },
  {
   "cell_type": "code",
   "execution_count": 57,
   "id": "1ee74eeb",
   "metadata": {},
   "outputs": [
    {
     "name": "stdout",
     "output_type": "stream",
     "text": [
      "<class 'pandas.core.frame.DataFrame'>\n",
      "RangeIndex: 4918351 entries, 0 to 4918350\n",
      "Data columns (total 12 columns):\n",
      " #   Column    Dtype         \n",
      "---  ------    -----         \n",
      " 0   index     int64         \n",
      " 1   C/A       object        \n",
      " 2   UNIT      object        \n",
      " 3   SCP       object        \n",
      " 4   STATION   object        \n",
      " 5   LINENAME  object        \n",
      " 6   DATE      object        \n",
      " 7   TIME      object        \n",
      " 8   DATETIME  datetime64[ns]\n",
      " 9   DESC      object        \n",
      " 10  ENTRIES   int64         \n",
      " 11  EXITS     int64         \n",
      "dtypes: datetime64[ns](1), int64(3), object(8)\n",
      "memory usage: 450.3+ MB\n"
     ]
    }
   ],
   "source": [
    "df.info()"
   ]
  },
  {
   "cell_type": "code",
   "execution_count": 24,
   "id": "6ee82898",
   "metadata": {},
   "outputs": [
    {
     "data": {
      "text/html": [
       "<div>\n",
       "<style scoped>\n",
       "    .dataframe tbody tr th:only-of-type {\n",
       "        vertical-align: middle;\n",
       "    }\n",
       "\n",
       "    .dataframe tbody tr th {\n",
       "        vertical-align: top;\n",
       "    }\n",
       "\n",
       "    .dataframe thead th {\n",
       "        text-align: right;\n",
       "    }\n",
       "</style>\n",
       "<table border=\"1\" class=\"dataframe\">\n",
       "  <thead>\n",
       "    <tr style=\"text-align: right;\">\n",
       "      <th></th>\n",
       "      <th>DATE</th>\n",
       "      <th>STATION</th>\n",
       "      <th>LINENAME</th>\n",
       "      <th>DAILY_ENTRIES</th>\n",
       "      <th>DAILY_EXITS</th>\n",
       "      <th>LINE_DENSITY</th>\n",
       "    </tr>\n",
       "  </thead>\n",
       "  <tbody>\n",
       "    <tr>\n",
       "      <th>222331</th>\n",
       "      <td>2021-06-30</td>\n",
       "      <td>THIRTY ST</td>\n",
       "      <td>1</td>\n",
       "      <td>553014.875000</td>\n",
       "      <td>5527.750000</td>\n",
       "      <td>9527.0</td>\n",
       "    </tr>\n",
       "    <tr>\n",
       "      <th>98027</th>\n",
       "      <td>2020-08-22</td>\n",
       "      <td>JAMAICA 179 ST</td>\n",
       "      <td>F</td>\n",
       "      <td>549276.000000</td>\n",
       "      <td>551327.375000</td>\n",
       "      <td>5968.0</td>\n",
       "    </tr>\n",
       "    <tr>\n",
       "      <th>224581</th>\n",
       "      <td>2020-07-28</td>\n",
       "      <td>NEWARK HM HE</td>\n",
       "      <td>1</td>\n",
       "      <td>410447.609375</td>\n",
       "      <td>6571.109375</td>\n",
       "      <td>6260.0</td>\n",
       "    </tr>\n",
       "    <tr>\n",
       "      <th>222249</th>\n",
       "      <td>2021-06-29</td>\n",
       "      <td>THIRTY ST</td>\n",
       "      <td>1</td>\n",
       "      <td>335456.750000</td>\n",
       "      <td>5614.375000</td>\n",
       "      <td>9342.0</td>\n",
       "    </tr>\n",
       "    <tr>\n",
       "      <th>211587</th>\n",
       "      <td>2022-03-14</td>\n",
       "      <td>PAVONIA/NEWPORT</td>\n",
       "      <td>1</td>\n",
       "      <td>310330.250000</td>\n",
       "      <td>302188.750000</td>\n",
       "      <td>611830.0</td>\n",
       "    </tr>\n",
       "    <tr>\n",
       "      <th>...</th>\n",
       "      <td>...</td>\n",
       "      <td>...</td>\n",
       "      <td>...</td>\n",
       "      <td>...</td>\n",
       "      <td>...</td>\n",
       "      <td>...</td>\n",
       "    </tr>\n",
       "    <tr>\n",
       "      <th>355030</th>\n",
       "      <td>2020-08-30</td>\n",
       "      <td>138/GRAND CONC</td>\n",
       "      <td>45</td>\n",
       "      <td>8.625000</td>\n",
       "      <td>18.000000</td>\n",
       "      <td>12.5</td>\n",
       "    </tr>\n",
       "    <tr>\n",
       "      <th>105278</th>\n",
       "      <td>2021-11-14</td>\n",
       "      <td>AVENUE P</td>\n",
       "      <td>F</td>\n",
       "      <td>5.375000</td>\n",
       "      <td>25.250000</td>\n",
       "      <td>16.0</td>\n",
       "    </tr>\n",
       "    <tr>\n",
       "      <th>361488</th>\n",
       "      <td>2021-11-14</td>\n",
       "      <td>PELHAM PKWY</td>\n",
       "      <td>5</td>\n",
       "      <td>4.671875</td>\n",
       "      <td>271.218750</td>\n",
       "      <td>13.0</td>\n",
       "    </tr>\n",
       "    <tr>\n",
       "      <th>394616</th>\n",
       "      <td>2021-08-21</td>\n",
       "      <td>EAST 105 ST</td>\n",
       "      <td>L</td>\n",
       "      <td>2.265625</td>\n",
       "      <td>555.718750</td>\n",
       "      <td>8.0</td>\n",
       "    </tr>\n",
       "    <tr>\n",
       "      <th>354946</th>\n",
       "      <td>2020-08-29</td>\n",
       "      <td>138/GRAND CONC</td>\n",
       "      <td>45</td>\n",
       "      <td>1.000000</td>\n",
       "      <td>1.000000</td>\n",
       "      <td>1.0</td>\n",
       "    </tr>\n",
       "  </tbody>\n",
       "</table>\n",
       "<p>407900 rows × 6 columns</p>\n",
       "</div>"
      ],
      "text/plain": [
       "             DATE          STATION LINENAME  DAILY_ENTRIES    DAILY_EXITS  \\\n",
       "222331 2021-06-30        THIRTY ST        1  553014.875000    5527.750000   \n",
       "98027  2020-08-22   JAMAICA 179 ST        F  549276.000000  551327.375000   \n",
       "224581 2020-07-28     NEWARK HM HE        1  410447.609375    6571.109375   \n",
       "222249 2021-06-29        THIRTY ST        1  335456.750000    5614.375000   \n",
       "211587 2022-03-14  PAVONIA/NEWPORT        1  310330.250000  302188.750000   \n",
       "...           ...              ...      ...            ...            ...   \n",
       "355030 2020-08-30   138/GRAND CONC       45       8.625000      18.000000   \n",
       "105278 2021-11-14         AVENUE P        F       5.375000      25.250000   \n",
       "361488 2021-11-14      PELHAM PKWY        5       4.671875     271.218750   \n",
       "394616 2021-08-21      EAST 105 ST        L       2.265625     555.718750   \n",
       "354946 2020-08-29   138/GRAND CONC       45       1.000000       1.000000   \n",
       "\n",
       "        LINE_DENSITY  \n",
       "222331        9527.0  \n",
       "98027         5968.0  \n",
       "224581        6260.0  \n",
       "222249        9342.0  \n",
       "211587      611830.0  \n",
       "...              ...  \n",
       "355030          12.5  \n",
       "105278          16.0  \n",
       "361488          13.0  \n",
       "394616           8.0  \n",
       "354946           1.0  \n",
       "\n",
       "[407900 rows x 6 columns]"
      ]
     },
     "execution_count": 24,
     "metadata": {},
     "output_type": "execute_result"
    }
   ],
   "source": [
    "df.drop([364057, 123381, 182252, 284410, 384155, 228498],inplace=True)\n",
    "df.sort_values('DAILY_ENTRIES',ascending=False)"
   ]
  },
  {
   "cell_type": "code",
   "execution_count": 32,
   "id": "69c3cd70",
   "metadata": {},
   "outputs": [
    {
     "data": {
      "text/plain": [
       "<AxesSubplot:xlabel='DATE'>"
      ]
     },
     "execution_count": 32,
     "metadata": {},
     "output_type": "execute_result"
    },
    {
     "data": {
      "image/png": "[encoded data removed]",
      "text/plain": [
       "<Figure size 432x288 with 1 Axes>"
      ]
     },
     "metadata": {
      "needs_background": "light"
     },
     "output_type": "display_data"
    }
   ],
   "source": [
    "temp = (df[(df.DATE.dt.dayofweek > 5)&(df.LINE_DENSITY < 100000000)]\n",
    "    .groupby('DATE').sum())\n",
    "# temp = df.groupby('DATE').sum()\n",
    "temp.reset_index().plot.line('DATE','DAILY_ENTRIES')"
   ]
  },
  {
   "cell_type": "code",
   "execution_count": 33,
   "id": "bf33ffd9",
   "metadata": {},
   "outputs": [
    {
     "data": {
      "text/html": [
       "<div>\n",
       "<style scoped>\n",
       "    .dataframe tbody tr th:only-of-type {\n",
       "        vertical-align: middle;\n",
       "    }\n",
       "\n",
       "    .dataframe tbody tr th {\n",
       "        vertical-align: top;\n",
       "    }\n",
       "\n",
       "    .dataframe thead th {\n",
       "        text-align: right;\n",
       "    }\n",
       "</style>\n",
       "<table border=\"1\" class=\"dataframe\">\n",
       "  <thead>\n",
       "    <tr style=\"text-align: right;\">\n",
       "      <th></th>\n",
       "      <th>DATE</th>\n",
       "      <th>DAILY_ENTRIES</th>\n",
       "      <th>DAILY_EXITS</th>\n",
       "      <th>LINE_DENSITY</th>\n",
       "      <th>DATE_OF_INTEREST</th>\n",
       "      <th>CASE_COUNT</th>\n",
       "      <th>probable_case_count</th>\n",
       "      <th>HOSPITALIZED_COUNT</th>\n",
       "      <th>DEATH_COUNT</th>\n",
       "      <th>DEATH_COUNT_PROBABLE</th>\n",
       "      <th>...</th>\n",
       "      <th>si_probable_case_count</th>\n",
       "      <th>SI_HOSPITALIZED_COUNT</th>\n",
       "      <th>SI_DEATH_COUNT</th>\n",
       "      <th>si_probable_death_count</th>\n",
       "      <th>SI_CASE_COUNT_7DAY_AVG</th>\n",
       "      <th>si_all_case_count_7day_avg</th>\n",
       "      <th>SI_HOSPITALIZED_COUNT_7DAY_AVG</th>\n",
       "      <th>SI_DEATH_COUNT_7DAY_AVG</th>\n",
       "      <th>si_all_death_count_7day_avg</th>\n",
       "      <th>INCOMPLETE</th>\n",
       "    </tr>\n",
       "  </thead>\n",
       "  <tbody>\n",
       "    <tr>\n",
       "      <th>0</th>\n",
       "      <td>2020-03-02</td>\n",
       "      <td>5.800782e+06</td>\n",
       "      <td>4.782892e+06</td>\n",
       "      <td>5.767836e+06</td>\n",
       "      <td>03/02/2020</td>\n",
       "      <td>0</td>\n",
       "      <td>0</td>\n",
       "      <td>2</td>\n",
       "      <td>0</td>\n",
       "      <td>0</td>\n",
       "      <td>...</td>\n",
       "      <td>0</td>\n",
       "      <td>0</td>\n",
       "      <td>0</td>\n",
       "      <td>0</td>\n",
       "      <td>0</td>\n",
       "      <td>0</td>\n",
       "      <td>0</td>\n",
       "      <td>0</td>\n",
       "      <td>0</td>\n",
       "      <td>0</td>\n",
       "    </tr>\n",
       "    <tr>\n",
       "      <th>1</th>\n",
       "      <td>2020-03-03</td>\n",
       "      <td>5.949893e+06</td>\n",
       "      <td>4.897650e+06</td>\n",
       "      <td>5.941836e+06</td>\n",
       "      <td>03/03/2020</td>\n",
       "      <td>1</td>\n",
       "      <td>0</td>\n",
       "      <td>7</td>\n",
       "      <td>0</td>\n",
       "      <td>0</td>\n",
       "      <td>...</td>\n",
       "      <td>0</td>\n",
       "      <td>0</td>\n",
       "      <td>0</td>\n",
       "      <td>0</td>\n",
       "      <td>0</td>\n",
       "      <td>0</td>\n",
       "      <td>0</td>\n",
       "      <td>0</td>\n",
       "      <td>0</td>\n",
       "      <td>0</td>\n",
       "    </tr>\n",
       "    <tr>\n",
       "      <th>2</th>\n",
       "      <td>2020-03-04</td>\n",
       "      <td>5.871575e+06</td>\n",
       "      <td>4.827888e+06</td>\n",
       "      <td>5.932377e+06</td>\n",
       "      <td>03/04/2020</td>\n",
       "      <td>5</td>\n",
       "      <td>0</td>\n",
       "      <td>2</td>\n",
       "      <td>0</td>\n",
       "      <td>0</td>\n",
       "      <td>...</td>\n",
       "      <td>0</td>\n",
       "      <td>0</td>\n",
       "      <td>0</td>\n",
       "      <td>0</td>\n",
       "      <td>0</td>\n",
       "      <td>0</td>\n",
       "      <td>0</td>\n",
       "      <td>0</td>\n",
       "      <td>0</td>\n",
       "      <td>0</td>\n",
       "    </tr>\n",
       "    <tr>\n",
       "      <th>3</th>\n",
       "      <td>2020-03-05</td>\n",
       "      <td>5.964128e+06</td>\n",
       "      <td>4.959136e+06</td>\n",
       "      <td>5.960966e+06</td>\n",
       "      <td>03/05/2020</td>\n",
       "      <td>3</td>\n",
       "      <td>0</td>\n",
       "      <td>14</td>\n",
       "      <td>0</td>\n",
       "      <td>0</td>\n",
       "      <td>...</td>\n",
       "      <td>0</td>\n",
       "      <td>1</td>\n",
       "      <td>0</td>\n",
       "      <td>0</td>\n",
       "      <td>0</td>\n",
       "      <td>0</td>\n",
       "      <td>0</td>\n",
       "      <td>0</td>\n",
       "      <td>0</td>\n",
       "      <td>0</td>\n",
       "    </tr>\n",
       "    <tr>\n",
       "      <th>4</th>\n",
       "      <td>2020-03-06</td>\n",
       "      <td>5.745054e+06</td>\n",
       "      <td>4.733035e+06</td>\n",
       "      <td>5.739800e+06</td>\n",
       "      <td>03/06/2020</td>\n",
       "      <td>8</td>\n",
       "      <td>0</td>\n",
       "      <td>8</td>\n",
       "      <td>0</td>\n",
       "      <td>0</td>\n",
       "      <td>...</td>\n",
       "      <td>0</td>\n",
       "      <td>1</td>\n",
       "      <td>0</td>\n",
       "      <td>0</td>\n",
       "      <td>0</td>\n",
       "      <td>0</td>\n",
       "      <td>0</td>\n",
       "      <td>0</td>\n",
       "      <td>0</td>\n",
       "      <td>0</td>\n",
       "    </tr>\n",
       "  </tbody>\n",
       "</table>\n",
       "<p>5 rows × 66 columns</p>\n",
       "</div>"
      ],
      "text/plain": [
       "        DATE  DAILY_ENTRIES   DAILY_EXITS  LINE_DENSITY DATE_OF_INTEREST  \\\n",
       "0 2020-03-02   5.800782e+06  4.782892e+06  5.767836e+06       03/02/2020   \n",
       "1 2020-03-03   5.949893e+06  4.897650e+06  5.941836e+06       03/03/2020   \n",
       "2 2020-03-04   5.871575e+06  4.827888e+06  5.932377e+06       03/04/2020   \n",
       "3 2020-03-05   5.964128e+06  4.959136e+06  5.960966e+06       03/05/2020   \n",
       "4 2020-03-06   5.745054e+06  4.733035e+06  5.739800e+06       03/06/2020   \n",
       "\n",
       "   CASE_COUNT  probable_case_count  HOSPITALIZED_COUNT  DEATH_COUNT  \\\n",
       "0           0                    0                   2            0   \n",
       "1           1                    0                   7            0   \n",
       "2           5                    0                   2            0   \n",
       "3           3                    0                  14            0   \n",
       "4           8                    0                   8            0   \n",
       "\n",
       "   DEATH_COUNT_PROBABLE  ...  si_probable_case_count  SI_HOSPITALIZED_COUNT  \\\n",
       "0                     0  ...                       0                      0   \n",
       "1                     0  ...                       0                      0   \n",
       "2                     0  ...                       0                      0   \n",
       "3                     0  ...                       0                      1   \n",
       "4                     0  ...                       0                      1   \n",
       "\n",
       "   SI_DEATH_COUNT  si_probable_death_count  SI_CASE_COUNT_7DAY_AVG  \\\n",
       "0               0                        0                       0   \n",
       "1               0                        0                       0   \n",
       "2               0                        0                       0   \n",
       "3               0                        0                       0   \n",
       "4               0                        0                       0   \n",
       "\n",
       "   si_all_case_count_7day_avg  SI_HOSPITALIZED_COUNT_7DAY_AVG  \\\n",
       "0                           0                               0   \n",
       "1                           0                               0   \n",
       "2                           0                               0   \n",
       "3                           0                               0   \n",
       "4                           0                               0   \n",
       "\n",
       "   SI_DEATH_COUNT_7DAY_AVG  si_all_death_count_7day_avg  INCOMPLETE  \n",
       "0                        0                            0           0  \n",
       "1                        0                            0           0  \n",
       "2                        0                            0           0  \n",
       "3                        0                            0           0  \n",
       "4                        0                            0           0  \n",
       "\n",
       "[5 rows x 66 columns]"
      ]
     },
     "execution_count": 33,
     "metadata": {},
     "output_type": "execute_result"
    }
   ],
   "source": [
    "new = pd.read_csv('COVID-19_Daily_Counts_of_Cases__Hospitalizations__and_Deaths.csv')\n",
    "new.head()\n",
    "new['DATE'] = pd.to_datetime(new.DATE_OF_INTEREST)\n",
    "\n",
    "out = pd.merge(temp,new, on=['DATE', 'DATE'])\n",
    "out.head()\n"
   ]
  },
  {
   "cell_type": "code",
   "execution_count": 17,
   "id": "cb86fd0b",
   "metadata": {},
   "outputs": [
    {
     "data": {
      "text/plain": [
       "<AxesSubplot:xlabel='DATE'>"
      ]
     },
     "execution_count": 17,
     "metadata": {},
     "output_type": "execute_result"
    },
    {
     "data": {
      "image/png": "[encoded data removed]",
      "text/plain": [
       "<Figure size 432x288 with 1 Axes>"
      ]
     },
     "metadata": {
      "needs_background": "light"
     },
     "output_type": "display_data"
    }
   ],
   "source": [
    "out.plot.line('DATE','CASE_COUNT')"
   ]
  },
  {
   "cell_type": "code",
   "execution_count": 26,
   "id": "30bc4771",
   "metadata": {},
   "outputs": [],
   "source": [
    "import matplotlib.pyplot as plt"
   ]
  },
  {
   "cell_type": "code",
   "execution_count": 48,
   "id": "2cc12aaf",
   "metadata": {},
   "outputs": [],
   "source": [
    "temp.DATE =pd.to_datetime(temp.DATE)"
   ]
  },
  {
   "cell_type": "code",
   "execution_count": 56,
   "id": "9607d518",
   "metadata": {},
   "outputs": [
    {
     "ename": "AttributeError",
     "evalue": "'DataFrame' object has no attribute 'DATE'",
     "output_type": "error",
     "traceback": [
      "\u001b[0;31m---------------------------------------------------------------------------\u001b[0m",
      "\u001b[0;31mAttributeError\u001b[0m                            Traceback (most recent call last)",
      "\u001b[0;32m/tmp/ipykernel_50014/3484585444.py\u001b[0m in \u001b[0;36m<cell line: 2>\u001b[0;34m()\u001b[0m\n\u001b[1;32m      1\u001b[0m \u001b[0mtemp\u001b[0m\u001b[0;34m.\u001b[0m\u001b[0mreset_index\u001b[0m\u001b[0;34m(\u001b[0m\u001b[0minplace\u001b[0m\u001b[0;34m=\u001b[0m \u001b[0;32mTrue\u001b[0m\u001b[0;34m)\u001b[0m\u001b[0;34m\u001b[0m\u001b[0;34m\u001b[0m\u001b[0m\n\u001b[0;32m----> 2\u001b[0;31m \u001b[0mtemp\u001b[0m\u001b[0;34m[\u001b[0m\u001b[0;34m'Week'\u001b[0m\u001b[0;34m]\u001b[0m \u001b[0;34m=\u001b[0m \u001b[0mtemp\u001b[0m\u001b[0;34m.\u001b[0m\u001b[0mDATE\u001b[0m\u001b[0;34m.\u001b[0m\u001b[0mdt\u001b[0m\u001b[0;34m.\u001b[0m\u001b[0mweek\u001b[0m\u001b[0;34m\u001b[0m\u001b[0;34m\u001b[0m\u001b[0m\n\u001b[0m\u001b[1;32m      3\u001b[0m \u001b[0mtemp\u001b[0m\u001b[0;34m[\u001b[0m\u001b[0;34m'Year'\u001b[0m\u001b[0;34m]\u001b[0m \u001b[0;34m=\u001b[0m \u001b[0mtemp\u001b[0m\u001b[0;34m.\u001b[0m\u001b[0mDATE\u001b[0m\u001b[0;34m.\u001b[0m\u001b[0mdt\u001b[0m\u001b[0;34m.\u001b[0m\u001b[0myear\u001b[0m\u001b[0;34m\u001b[0m\u001b[0;34m\u001b[0m\u001b[0m\n\u001b[1;32m      4\u001b[0m \u001b[0mtemp\u001b[0m\u001b[0;34m.\u001b[0m\u001b[0mhead\u001b[0m\u001b[0;34m(\u001b[0m\u001b[0;34m)\u001b[0m\u001b[0;34m\u001b[0m\u001b[0;34m\u001b[0m\u001b[0m\n",
      "\u001b[0;32m~/anaconda3/envs/metis/lib/python3.10/site-packages/pandas/core/generic.py\u001b[0m in \u001b[0;36m__getattr__\u001b[0;34m(self, name)\u001b[0m\n\u001b[1;32m   5573\u001b[0m         ):\n\u001b[1;32m   5574\u001b[0m             \u001b[0;32mreturn\u001b[0m \u001b[0mself\u001b[0m\u001b[0;34m[\u001b[0m\u001b[0mname\u001b[0m\u001b[0;34m]\u001b[0m\u001b[0;34m\u001b[0m\u001b[0;34m\u001b[0m\u001b[0m\n\u001b[0;32m-> 5575\u001b[0;31m         \u001b[0;32mreturn\u001b[0m \u001b[0mobject\u001b[0m\u001b[0;34m.\u001b[0m\u001b[0m__getattribute__\u001b[0m\u001b[0;34m(\u001b[0m\u001b[0mself\u001b[0m\u001b[0;34m,\u001b[0m \u001b[0mname\u001b[0m\u001b[0;34m)\u001b[0m\u001b[0;34m\u001b[0m\u001b[0;34m\u001b[0m\u001b[0m\n\u001b[0m\u001b[1;32m   5576\u001b[0m \u001b[0;34m\u001b[0m\u001b[0m\n\u001b[1;32m   5577\u001b[0m     \u001b[0;32mdef\u001b[0m \u001b[0m__setattr__\u001b[0m\u001b[0;34m(\u001b[0m\u001b[0mself\u001b[0m\u001b[0;34m,\u001b[0m \u001b[0mname\u001b[0m\u001b[0;34m:\u001b[0m \u001b[0mstr\u001b[0m\u001b[0;34m,\u001b[0m \u001b[0mvalue\u001b[0m\u001b[0;34m)\u001b[0m \u001b[0;34m->\u001b[0m \u001b[0;32mNone\u001b[0m\u001b[0;34m:\u001b[0m\u001b[0;34m\u001b[0m\u001b[0;34m\u001b[0m\u001b[0m\n",
      "\u001b[0;31mAttributeError\u001b[0m: 'DataFrame' object has no attribute 'DATE'"
     ]
    }
   ],
   "source": [
    "temp.reset_index(inplace= True)\n",
    "temp['Week'] = temp.DATE.dt.week\n",
    "temp['Year'] = temp.DATE.dt.year\n",
    "temp.head()"
   ]
  },
  {
   "cell_type": "code",
   "execution_count": 53,
   "id": "a7182183",
   "metadata": {},
   "outputs": [],
   "source": [
    "out = out[out.DATE > pd.to_datetime('2020-05-01')]"
   ]
  },
  {
   "cell_type": "code",
   "execution_count": 66,
   "id": "09d57151",
   "metadata": {},
   "outputs": [
    {
     "data": {
      "text/html": [
       "<div>\n",
       "<style scoped>\n",
       "    .dataframe tbody tr th:only-of-type {\n",
       "        vertical-align: middle;\n",
       "    }\n",
       "\n",
       "    .dataframe tbody tr th {\n",
       "        vertical-align: top;\n",
       "    }\n",
       "\n",
       "    .dataframe thead th {\n",
       "        text-align: right;\n",
       "    }\n",
       "</style>\n",
       "<table border=\"1\" class=\"dataframe\">\n",
       "  <thead>\n",
       "    <tr style=\"text-align: right;\">\n",
       "      <th></th>\n",
       "      <th>level_0</th>\n",
       "      <th>Year</th>\n",
       "      <th>Week</th>\n",
       "      <th>index</th>\n",
       "      <th>DAILY_ENTRIES</th>\n",
       "      <th>DAILY_EXITS</th>\n",
       "      <th>LINE_DENSITY</th>\n",
       "    </tr>\n",
       "  </thead>\n",
       "  <tbody>\n",
       "    <tr>\n",
       "      <th>0</th>\n",
       "      <td>0</td>\n",
       "      <td>2019</td>\n",
       "      <td>1</td>\n",
       "      <td>226268.627615</td>\n",
       "      <td>9864.861571</td>\n",
       "      <td>8333.712398</td>\n",
       "      <td>9712.836733</td>\n",
       "    </tr>\n",
       "    <tr>\n",
       "      <th>1</th>\n",
       "      <td>1</td>\n",
       "      <td>2019</td>\n",
       "      <td>52</td>\n",
       "      <td>225956.251046</td>\n",
       "      <td>6749.112568</td>\n",
       "      <td>6008.220454</td>\n",
       "      <td>6323.998135</td>\n",
       "    </tr>\n",
       "    <tr>\n",
       "      <th>2</th>\n",
       "      <td>2</td>\n",
       "      <td>2020</td>\n",
       "      <td>1</td>\n",
       "      <td>182369.507750</td>\n",
       "      <td>8117.228759</td>\n",
       "      <td>6857.463963</td>\n",
       "      <td>7888.669958</td>\n",
       "    </tr>\n",
       "    <tr>\n",
       "      <th>3</th>\n",
       "      <td>3</td>\n",
       "      <td>2020</td>\n",
       "      <td>2</td>\n",
       "      <td>183391.267585</td>\n",
       "      <td>10663.539991</td>\n",
       "      <td>8765.936873</td>\n",
       "      <td>10480.680383</td>\n",
       "    </tr>\n",
       "    <tr>\n",
       "      <th>4</th>\n",
       "      <td>4</td>\n",
       "      <td>2020</td>\n",
       "      <td>3</td>\n",
       "      <td>184320.519581</td>\n",
       "      <td>10492.236598</td>\n",
       "      <td>8718.240616</td>\n",
       "      <td>10376.905379</td>\n",
       "    </tr>\n",
       "  </tbody>\n",
       "</table>\n",
       "</div>"
      ],
      "text/plain": [
       "   level_0  Year  Week          index  DAILY_ENTRIES  DAILY_EXITS  \\\n",
       "0        0  2019     1  226268.627615    9864.861571  8333.712398   \n",
       "1        1  2019    52  225956.251046    6749.112568  6008.220454   \n",
       "2        2  2020     1  182369.507750    8117.228759  6857.463963   \n",
       "3        3  2020     2  183391.267585   10663.539991  8765.936873   \n",
       "4        4  2020     3  184320.519581   10492.236598  8718.240616   \n",
       "\n",
       "   LINE_DENSITY  \n",
       "0   9712.836733  \n",
       "1   6323.998135  \n",
       "2   7888.669958  \n",
       "3  10480.680383  \n",
       "4  10376.905379  "
      ]
     },
     "execution_count": 66,
     "metadata": {},
     "output_type": "execute_result"
    }
   ],
   "source": [
    "temp.head()"
   ]
  },
  {
   "cell_type": "code",
   "execution_count": 44,
   "id": "b1a005c4",
   "metadata": {},
   "outputs": [
    {
     "ename": "KeyError",
     "evalue": "'The grouper name DATE is not found'",
     "output_type": "error",
     "traceback": [
      "\u001b[0;31m---------------------------------------------------------------------------\u001b[0m",
      "\u001b[0;31mKeyError\u001b[0m                                  Traceback (most recent call last)",
      "\u001b[0;32m/tmp/ipykernel_50014/2152129193.py\u001b[0m in \u001b[0;36m<cell line: 2>\u001b[0;34m()\u001b[0m\n\u001b[1;32m      1\u001b[0m \u001b[0mtemp\u001b[0m \u001b[0;34m=\u001b[0m \u001b[0mload_pickle\u001b[0m\u001b[0;34m(\u001b[0m\u001b[0;34m'data_merged/mta_data_corrected'\u001b[0m\u001b[0;34m)\u001b[0m\u001b[0;34m\u001b[0m\u001b[0;34m\u001b[0m\u001b[0m\n\u001b[0;32m----> 2\u001b[0;31m \u001b[0mout\u001b[0m \u001b[0;34m=\u001b[0m \u001b[0mtemp\u001b[0m\u001b[0;34m.\u001b[0m\u001b[0mgroupby\u001b[0m\u001b[0;34m(\u001b[0m\u001b[0mpd\u001b[0m\u001b[0;34m.\u001b[0m\u001b[0mGrouper\u001b[0m\u001b[0;34m(\u001b[0m\u001b[0mkey\u001b[0m\u001b[0;34m=\u001b[0m\u001b[0;34m'DATE'\u001b[0m\u001b[0;34m,\u001b[0m \u001b[0mfreq\u001b[0m\u001b[0;34m=\u001b[0m\u001b[0;34m'W-MON'\u001b[0m\u001b[0;34m)\u001b[0m\u001b[0;34m)\u001b[0m\u001b[0;34m.\u001b[0m\u001b[0mmean\u001b[0m\u001b[0;34m(\u001b[0m\u001b[0;34m)\u001b[0m\u001b[0;34m\u001b[0m\u001b[0;34m\u001b[0m\u001b[0m\n\u001b[0m",
      "\u001b[0;32m~/anaconda3/envs/metis/lib/python3.10/site-packages/pandas/core/frame.py\u001b[0m in \u001b[0;36mgroupby\u001b[0;34m(self, by, axis, level, as_index, sort, group_keys, squeeze, observed, dropna)\u001b[0m\n\u001b[1;32m   7710\u001b[0m         \u001b[0;31m# error: Argument \"squeeze\" to \"DataFrameGroupBy\" has incompatible type\u001b[0m\u001b[0;34m\u001b[0m\u001b[0;34m\u001b[0m\u001b[0m\n\u001b[1;32m   7711\u001b[0m         \u001b[0;31m# \"Union[bool, NoDefault]\"; expected \"bool\"\u001b[0m\u001b[0;34m\u001b[0m\u001b[0;34m\u001b[0m\u001b[0m\n\u001b[0;32m-> 7712\u001b[0;31m         return DataFrameGroupBy(\n\u001b[0m\u001b[1;32m   7713\u001b[0m             \u001b[0mobj\u001b[0m\u001b[0;34m=\u001b[0m\u001b[0mself\u001b[0m\u001b[0;34m,\u001b[0m\u001b[0;34m\u001b[0m\u001b[0;34m\u001b[0m\u001b[0m\n\u001b[1;32m   7714\u001b[0m             \u001b[0mkeys\u001b[0m\u001b[0;34m=\u001b[0m\u001b[0mby\u001b[0m\u001b[0;34m,\u001b[0m\u001b[0;34m\u001b[0m\u001b[0;34m\u001b[0m\u001b[0m\n",
      "\u001b[0;32m~/anaconda3/envs/metis/lib/python3.10/site-packages/pandas/core/groupby/groupby.py\u001b[0m in \u001b[0;36m__init__\u001b[0;34m(self, obj, keys, axis, level, grouper, exclusions, selection, as_index, sort, group_keys, squeeze, observed, mutated, dropna)\u001b[0m\n\u001b[1;32m    880\u001b[0m             \u001b[0;32mfrom\u001b[0m \u001b[0mpandas\u001b[0m\u001b[0;34m.\u001b[0m\u001b[0mcore\u001b[0m\u001b[0;34m.\u001b[0m\u001b[0mgroupby\u001b[0m\u001b[0;34m.\u001b[0m\u001b[0mgrouper\u001b[0m \u001b[0;32mimport\u001b[0m \u001b[0mget_grouper\u001b[0m\u001b[0;34m\u001b[0m\u001b[0;34m\u001b[0m\u001b[0m\n\u001b[1;32m    881\u001b[0m \u001b[0;34m\u001b[0m\u001b[0m\n\u001b[0;32m--> 882\u001b[0;31m             grouper, exclusions, obj = get_grouper(\n\u001b[0m\u001b[1;32m    883\u001b[0m                 \u001b[0mobj\u001b[0m\u001b[0;34m,\u001b[0m\u001b[0;34m\u001b[0m\u001b[0;34m\u001b[0m\u001b[0m\n\u001b[1;32m    884\u001b[0m                 \u001b[0mkeys\u001b[0m\u001b[0;34m,\u001b[0m\u001b[0;34m\u001b[0m\u001b[0;34m\u001b[0m\u001b[0m\n",
      "\u001b[0;32m~/anaconda3/envs/metis/lib/python3.10/site-packages/pandas/core/groupby/grouper.py\u001b[0m in \u001b[0;36mget_grouper\u001b[0;34m(obj, key, axis, level, sort, observed, mutated, validate, dropna)\u001b[0m\n\u001b[1;32m    782\u001b[0m     \u001b[0;31m# a passed-in Grouper, directly convert\u001b[0m\u001b[0;34m\u001b[0m\u001b[0;34m\u001b[0m\u001b[0m\n\u001b[1;32m    783\u001b[0m     \u001b[0;32mif\u001b[0m \u001b[0misinstance\u001b[0m\u001b[0;34m(\u001b[0m\u001b[0mkey\u001b[0m\u001b[0;34m,\u001b[0m \u001b[0mGrouper\u001b[0m\u001b[0;34m)\u001b[0m\u001b[0;34m:\u001b[0m\u001b[0;34m\u001b[0m\u001b[0;34m\u001b[0m\u001b[0m\n\u001b[0;32m--> 784\u001b[0;31m         \u001b[0mbinner\u001b[0m\u001b[0;34m,\u001b[0m \u001b[0mgrouper\u001b[0m\u001b[0;34m,\u001b[0m \u001b[0mobj\u001b[0m \u001b[0;34m=\u001b[0m \u001b[0mkey\u001b[0m\u001b[0;34m.\u001b[0m\u001b[0m_get_grouper\u001b[0m\u001b[0;34m(\u001b[0m\u001b[0mobj\u001b[0m\u001b[0;34m,\u001b[0m \u001b[0mvalidate\u001b[0m\u001b[0;34m=\u001b[0m\u001b[0;32mFalse\u001b[0m\u001b[0;34m)\u001b[0m\u001b[0;34m\u001b[0m\u001b[0;34m\u001b[0m\u001b[0m\n\u001b[0m\u001b[1;32m    785\u001b[0m         \u001b[0;32mif\u001b[0m \u001b[0mkey\u001b[0m\u001b[0;34m.\u001b[0m\u001b[0mkey\u001b[0m \u001b[0;32mis\u001b[0m \u001b[0;32mNone\u001b[0m\u001b[0;34m:\u001b[0m\u001b[0;34m\u001b[0m\u001b[0;34m\u001b[0m\u001b[0m\n\u001b[1;32m    786\u001b[0m             \u001b[0;32mreturn\u001b[0m \u001b[0mgrouper\u001b[0m\u001b[0;34m,\u001b[0m \u001b[0mfrozenset\u001b[0m\u001b[0;34m(\u001b[0m\u001b[0;34m)\u001b[0m\u001b[0;34m,\u001b[0m \u001b[0mobj\u001b[0m\u001b[0;34m\u001b[0m\u001b[0;34m\u001b[0m\u001b[0m\n",
      "\u001b[0;32m~/anaconda3/envs/metis/lib/python3.10/site-packages/pandas/core/resample.py\u001b[0m in \u001b[0;36m_get_grouper\u001b[0;34m(self, obj, validate)\u001b[0m\n\u001b[1;32m   1605\u001b[0m     \u001b[0;32mdef\u001b[0m \u001b[0m_get_grouper\u001b[0m\u001b[0;34m(\u001b[0m\u001b[0mself\u001b[0m\u001b[0;34m,\u001b[0m \u001b[0mobj\u001b[0m\u001b[0;34m,\u001b[0m \u001b[0mvalidate\u001b[0m\u001b[0;34m:\u001b[0m \u001b[0mbool\u001b[0m \u001b[0;34m=\u001b[0m \u001b[0;32mTrue\u001b[0m\u001b[0;34m)\u001b[0m\u001b[0;34m:\u001b[0m\u001b[0;34m\u001b[0m\u001b[0;34m\u001b[0m\u001b[0m\n\u001b[1;32m   1606\u001b[0m         \u001b[0;31m# create the resampler and return our binner\u001b[0m\u001b[0;34m\u001b[0m\u001b[0;34m\u001b[0m\u001b[0m\n\u001b[0;32m-> 1607\u001b[0;31m         \u001b[0mr\u001b[0m \u001b[0;34m=\u001b[0m \u001b[0mself\u001b[0m\u001b[0;34m.\u001b[0m\u001b[0m_get_resampler\u001b[0m\u001b[0;34m(\u001b[0m\u001b[0mobj\u001b[0m\u001b[0;34m)\u001b[0m\u001b[0;34m\u001b[0m\u001b[0;34m\u001b[0m\u001b[0m\n\u001b[0m\u001b[1;32m   1608\u001b[0m         \u001b[0;32mreturn\u001b[0m \u001b[0mr\u001b[0m\u001b[0;34m.\u001b[0m\u001b[0mbinner\u001b[0m\u001b[0;34m,\u001b[0m \u001b[0mr\u001b[0m\u001b[0;34m.\u001b[0m\u001b[0mgrouper\u001b[0m\u001b[0;34m,\u001b[0m \u001b[0mr\u001b[0m\u001b[0;34m.\u001b[0m\u001b[0mobj\u001b[0m\u001b[0;34m\u001b[0m\u001b[0;34m\u001b[0m\u001b[0m\n\u001b[1;32m   1609\u001b[0m \u001b[0;34m\u001b[0m\u001b[0m\n",
      "\u001b[0;32m~/anaconda3/envs/metis/lib/python3.10/site-packages/pandas/core/resample.py\u001b[0m in \u001b[0;36m_get_resampler\u001b[0;34m(self, obj, kind)\u001b[0m\n\u001b[1;32m   1587\u001b[0m \u001b[0;34m\u001b[0m\u001b[0m\n\u001b[1;32m   1588\u001b[0m         \"\"\"\n\u001b[0;32m-> 1589\u001b[0;31m         \u001b[0mself\u001b[0m\u001b[0;34m.\u001b[0m\u001b[0m_set_grouper\u001b[0m\u001b[0;34m(\u001b[0m\u001b[0mobj\u001b[0m\u001b[0;34m)\u001b[0m\u001b[0;34m\u001b[0m\u001b[0;34m\u001b[0m\u001b[0m\n\u001b[0m\u001b[1;32m   1590\u001b[0m \u001b[0;34m\u001b[0m\u001b[0m\n\u001b[1;32m   1591\u001b[0m         \u001b[0max\u001b[0m \u001b[0;34m=\u001b[0m \u001b[0mself\u001b[0m\u001b[0;34m.\u001b[0m\u001b[0max\u001b[0m\u001b[0;34m\u001b[0m\u001b[0;34m\u001b[0m\u001b[0m\n",
      "\u001b[0;32m~/anaconda3/envs/metis/lib/python3.10/site-packages/pandas/core/groupby/grouper.py\u001b[0m in \u001b[0;36m_set_grouper\u001b[0;34m(self, obj, sort)\u001b[0m\n\u001b[1;32m    382\u001b[0m             \u001b[0;32melse\u001b[0m\u001b[0;34m:\u001b[0m\u001b[0;34m\u001b[0m\u001b[0;34m\u001b[0m\u001b[0m\n\u001b[1;32m    383\u001b[0m                 \u001b[0;32mif\u001b[0m \u001b[0mkey\u001b[0m \u001b[0;32mnot\u001b[0m \u001b[0;32min\u001b[0m \u001b[0mobj\u001b[0m\u001b[0;34m.\u001b[0m\u001b[0m_info_axis\u001b[0m\u001b[0;34m:\u001b[0m\u001b[0;34m\u001b[0m\u001b[0;34m\u001b[0m\u001b[0m\n\u001b[0;32m--> 384\u001b[0;31m                     \u001b[0;32mraise\u001b[0m \u001b[0mKeyError\u001b[0m\u001b[0;34m(\u001b[0m\u001b[0;34mf\"The grouper name {key} is not found\"\u001b[0m\u001b[0;34m)\u001b[0m\u001b[0;34m\u001b[0m\u001b[0;34m\u001b[0m\u001b[0m\n\u001b[0m\u001b[1;32m    385\u001b[0m                 \u001b[0max\u001b[0m \u001b[0;34m=\u001b[0m \u001b[0mIndex\u001b[0m\u001b[0;34m(\u001b[0m\u001b[0mobj\u001b[0m\u001b[0;34m[\u001b[0m\u001b[0mkey\u001b[0m\u001b[0;34m]\u001b[0m\u001b[0;34m,\u001b[0m \u001b[0mname\u001b[0m\u001b[0;34m=\u001b[0m\u001b[0mkey\u001b[0m\u001b[0;34m)\u001b[0m\u001b[0;34m\u001b[0m\u001b[0;34m\u001b[0m\u001b[0m\n\u001b[1;32m    386\u001b[0m \u001b[0;34m\u001b[0m\u001b[0m\n",
      "\u001b[0;31mKeyError\u001b[0m: 'The grouper name DATE is not found'"
     ]
    }
   ],
   "source": [
    "temp = load_pickle('data_merged/mta_data_corrected')\n",
    "out = temp.groupby(pd.Grouper(key='DATE', freq='W-MON')).mean()\n"
   ]
  },
  {
   "cell_type": "code",
   "execution_count": null,
   "id": "e4a38541",
   "metadata": {},
   "outputs": [],
   "source": [
    "\n",
    "# plt.figure(figsize=(4,12))\n",
    "\n",
    "fig, ax = plt.subplots(figsize=(12,4))\n",
    "\n",
    "\n",
    "# Twin the x-axis twice to make independent y-axes.\n",
    "axes = [ax, ax.twinx(), ax.twinx()]\n",
    "\n",
    "# Make some space on the right side for the extra y-axis.\n",
    "fig.subplots_adjust(right=0.75)\n",
    "\n",
    "# Move the last y-axis spine over to the right by 20% of the width of the axes\n",
    "# axes[-1].spines['right'].set_position(('axes', 1.2))\n",
    "\n",
    "# To make the border of the right-most axis visible, we need to turn the frame\n",
    "# on. This hides the other plots, however, so we need to turn its fill off.\n",
    "axes[-1].set_frame_on(True)\n",
    "axes[-1].patch.set_visible(False)\n",
    "\n",
    "# And finally we get to plot things...\n",
    "colors = ('Red', 'Blue')\n",
    "i=0\n",
    "# df = df[df.DAILY_ENTRIES<1000000]\n",
    "for ax, color in zip(axes, colors):\n",
    "    if i ==0 :\n",
    "        ax.plot(out.DATE,out.DAILY_EXITS, color=color)\n",
    "        ax.set_ylabel('Daily Exits')\n",
    "    else: \n",
    "        ax.plot(out.DATE,out.CASE_COUNT, color=color)\n",
    "        ax.set_ylabel('Daily Cases')\n",
    "    # ax.set_ylabel('%s Thing' % color, color=color)\n",
    "    ax.tick_params(axis='y', colors=color)\n",
    "    i+= 1\n",
    "axes[0].set_xlabel('Date')\n",
    "\n",
    "\n",
    "plt.show()"
   ]
  },
  {
   "cell_type": "code",
   "execution_count": 42,
   "id": "84452eba",
   "metadata": {},
   "outputs": [
    {
     "name": "stdout",
     "output_type": "stream",
     "text": [
      "Correlation between Subway Entries and Covid Cases:\t-0.05292688589404249\n",
      "Correlation between Subway Exits and Covid Cases:\t0.024942241560296764\n",
      "Correlation between Line Density and Covid Cases:\t-0.006785332684427975\n"
     ]
    }
   ],
   "source": [
    "print(f'Correlation between Subway Entries and Covid Cases:\\t{out.DAILY_ENTRIES.corr(out.CASE_COUNT)}')\n",
    "print(f'Correlation between Subway Exits and Covid Cases:\\t{out.DAILY_EXITS.corr(out.CASE_COUNT)}')\n",
    "print(f'Correlation between Line Density and Covid Cases:\\t{out.LINE_DENSITY.corr(out.CASE_COUNT)}')"
   ]
  },
  {
   "cell_type": "code",
   "execution_count": null,
   "id": "f1fc7dda",
   "metadata": {},
   "outputs": [],
   "source": []
  },
  {
   "cell_type": "code",
   "execution_count": 51,
   "id": "d100f792",
   "metadata": {},
   "outputs": [
    {
     "name": "stdout",
     "output_type": "stream",
     "text": [
      "Correlation between Line Density and Covid Cases:\t-0.0015245479317690274\n",
      "Correlation between Line Density and Covid Cases:\t-0.0042604150156090054\n",
      "Correlation between Line Density and Covid Cases:\t-0.008675139141025462\n",
      "Correlation between Line Density and Covid Cases:\t-0.026189160003137986\n",
      "Correlation between Line Density and Covid Cases:\t-0.0275008050125912\n",
      "Correlation between Line Density and Covid Cases:\t-0.025770944709397517\n",
      "Correlation between Line Density and Covid Cases:\t-0.01871878134460754\n"
     ]
    }
   ],
   "source": [
    "for x in range(-7,0):\n",
    "    print(f'Correlation between Line Density and Covid Cases:\\t{out.LINE_DENSITY.shift(x).corr(out.CASE_COUNT.iloc[:x])}')"
   ]
  },
  {
   "cell_type": "code",
   "execution_count": 52,
   "id": "f01e0ee5",
   "metadata": {},
   "outputs": [
    {
     "name": "stdout",
     "output_type": "stream",
     "text": [
      "Correlation between Line Density and Covid Cases:\t-0.01882748361250583\n",
      "Correlation between Line Density and Covid Cases:\t-0.00624458576232121\n",
      "Correlation between Line Density and Covid Cases:\t0.010572682166831831\n",
      "Correlation between Line Density and Covid Cases:\t0.03208655832443489\n",
      "Correlation between Line Density and Covid Cases:\t0.05240986510675581\n",
      "Correlation between Line Density and Covid Cases:\t0.06535899194050879\n"
     ]
    }
   ],
   "source": [
    "for x in range(1,7):\n",
    "    print(f'Correlation between Line Density and Covid Cases:\\t{out.LINE_DENSITY.shift(x).corr(out.CASE_COUNT.iloc[:-x])}')"
   ]
  },
  {
   "cell_type": "code",
   "execution_count": null,
   "id": "abd268d0",
   "metadata": {},
   "outputs": [],
   "source": []
  },
  {
   "cell_type": "markdown",
   "id": "5cd73104-c9fd-41e1-b9f5-1acf936a8195",
   "metadata": {},
   "source": [
    "## 3a\n",
    "- ### Each Row represents one recording for one turnstile"
   ]
  },
  {
   "cell_type": "code",
   "execution_count": 47,
   "id": "a8ccf5b7-e268-4a09-bb4a-4309d5221385",
   "metadata": {},
   "outputs": [
    {
     "name": "stderr",
     "output_type": "stream",
     "text": [
      "/tmp/ipykernel_3148/980312259.py:1: FutureWarning: Starting with pandas version 2.0 all arguments of read_html except for the argument 'io' will be keyword-only.\n",
      "  bor = pd.read_html('https://en.wikipedia.org/wiki/List_of_New_York_City_Subway_stations', 'November 1, 1933' )[0]\n"
     ]
    }
   ],
   "source": [
    "bor = pd.read_html('https://en.wikipedia.org/wiki/List_of_New_York_City_Subway_stations', 'November 1, 1933' )[0]"
   ]
  },
  {
   "cell_type": "code",
   "execution_count": 119,
   "id": "76c0e0a5",
   "metadata": {
    "vscode": {
     "languageId": "markdown"
    }
   },
   "outputs": [
    {
     "data": {
      "text/html": [
       "<div>\n",
       "<style scoped>\n",
       "    .dataframe tbody tr th:only-of-type {\n",
       "        vertical-align: middle;\n",
       "    }\n",
       "\n",
       "    .dataframe tbody tr th {\n",
       "        vertical-align: top;\n",
       "    }\n",
       "\n",
       "    .dataframe thead th {\n",
       "        text-align: right;\n",
       "    }\n",
       "</style>\n",
       "<table border=\"1\" class=\"dataframe\">\n",
       "  <thead>\n",
       "    <tr style=\"text-align: right;\">\n",
       "      <th></th>\n",
       "      <th>Station</th>\n",
       "      <th>Services</th>\n",
       "      <th>Div</th>\n",
       "      <th>Line</th>\n",
       "      <th>Opened</th>\n",
       "      <th>Borough</th>\n",
       "      <th>Neighborhood</th>\n",
       "      <th>Ridership (2019)</th>\n",
       "      <th>Rank</th>\n",
       "    </tr>\n",
       "  </thead>\n",
       "  <tbody>\n",
       "    <tr>\n",
       "      <th>0</th>\n",
       "      <td>First Avenue</td>\n",
       "      <td>NaN</td>\n",
       "      <td>BMT</td>\n",
       "      <td>.mw-parser-output .legend{page-break-inside:av...</td>\n",
       "      <td>June 30, 1924</td>\n",
       "      <td>Manhattan</td>\n",
       "      <td>East Village</td>\n",
       "      <td>5345371</td>\n",
       "      <td>83</td>\n",
       "    </tr>\n",
       "    <tr>\n",
       "      <th>1</th>\n",
       "      <td>Second Avenue</td>\n",
       "      <td>NaN</td>\n",
       "      <td>IND</td>\n",
       "      <td>Sixth Avenue Line</td>\n",
       "      <td>January 1, 1936</td>\n",
       "      <td>Manhattan</td>\n",
       "      <td>East Village</td>\n",
       "      <td>5583944</td>\n",
       "      <td>79</td>\n",
       "    </tr>\n",
       "    <tr>\n",
       "      <th>2</th>\n",
       "      <td>Third Avenue</td>\n",
       "      <td>NaN</td>\n",
       "      <td>BMT</td>\n",
       "      <td>Carnarsie Line</td>\n",
       "      <td>June 30, 1924</td>\n",
       "      <td>Manhattan</td>\n",
       "      <td>East Village</td>\n",
       "      <td>1700456</td>\n",
       "      <td>275</td>\n",
       "    </tr>\n",
       "    <tr>\n",
       "      <th>3</th>\n",
       "      <td>Third Avenue–138th Street</td>\n",
       "      <td>NaN</td>\n",
       "      <td>IRT</td>\n",
       "      <td>Pelham Line</td>\n",
       "      <td>August 1, 1918</td>\n",
       "      <td>The Bronx</td>\n",
       "      <td>Mott Haven</td>\n",
       "      <td>2503850</td>\n",
       "      <td>190</td>\n",
       "    </tr>\n",
       "    <tr>\n",
       "      <th>4</th>\n",
       "      <td>Third Avenue–149th Street</td>\n",
       "      <td>NaN</td>\n",
       "      <td>IRT</td>\n",
       "      <td>White Plains Road Line</td>\n",
       "      <td>July 10, 1905</td>\n",
       "      <td>The Bronx</td>\n",
       "      <td>Mott Haven</td>\n",
       "      <td>6768255</td>\n",
       "      <td>59</td>\n",
       "    </tr>\n",
       "  </tbody>\n",
       "</table>\n",
       "</div>"
      ],
      "text/plain": [
       "                     Station Services  Div  \\\n",
       "0               First Avenue      NaN  BMT   \n",
       "1              Second Avenue      NaN  IND   \n",
       "2               Third Avenue      NaN  BMT   \n",
       "3  Third Avenue–138th Street      NaN  IRT   \n",
       "4  Third Avenue–149th Street      NaN  IRT   \n",
       "\n",
       "                                                Line           Opened  \\\n",
       "0  .mw-parser-output .legend{page-break-inside:av...    June 30, 1924   \n",
       "1                                  Sixth Avenue Line  January 1, 1936   \n",
       "2                                     Carnarsie Line    June 30, 1924   \n",
       "3                                        Pelham Line   August 1, 1918   \n",
       "4                             White Plains Road Line    July 10, 1905   \n",
       "\n",
       "     Borough  Neighborhood  Ridership (2019)  Rank  \n",
       "0  Manhattan  East Village           5345371    83  \n",
       "1  Manhattan  East Village           5583944    79  \n",
       "2  Manhattan  East Village           1700456   275  \n",
       "3  The Bronx    Mott Haven           2503850   190  \n",
       "4  The Bronx    Mott Haven           6768255    59  "
      ]
     },
     "execution_count": 119,
     "metadata": {},
     "output_type": "execute_result"
    }
   ],
   "source": [
    "bor.head()"
   ]
  },
  {
   "cell_type": "code",
   "execution_count": 142,
   "id": "bb26134c",
   "metadata": {},
   "outputs": [
    {
     "name": "stdout",
     "output_type": "stream",
     "text": [
      "['BEVERLY RD' 'EASTCHSTER/DYRE' 'FLATBUSH AV-B.C' 'NEWKIRK AV'\n",
      " 'PRESIDENT ST' 'RIT-MANHATTAN' 'RIT-ROOSEVELT' 'ST. GEORGE'\n",
      " 'SUTTER AV-RUTLD' 'TOMPKINSVILLE' 'ORCHARD BEACH' '103 ST' '116 ST'\n",
      " '125 ST' '135 ST' '14 ST' '145 ST' '155 ST' '163 ST-AMSTERDM' '168 ST'\n",
      " '175 ST' '34 ST-PENN STA' '42 ST-PORT AUTH' '59 ST COLUMBUS' '72 ST'\n",
      " '80 ST' '81 ST-MUSEUM' '88 ST' '96 ST' 'BROADWAY JCT' 'CATHEDRAL PKWY'\n",
      " 'CLINTON-WASH AV' 'EUCLID AV' 'FRANKLIN AV' 'HOYT-SCHER'\n",
      " 'KINGSTON-THROOP' 'OZONE PK LEFFRT' 'ROCKAWAY BLVD' 'VAN SICLEN AVE'\n",
      " 'W 4 ST-WASH SQ' 'WORLD TRADE CTR' '15 ST-PROSPECT' '169 ST' '2 AV'\n",
      " '21 ST' '21 ST-QNSBRIDGE' '4 AV-9 ST' '42 ST-BRYANT PK' '47-50 STS ROCK'\n",
      " '57 ST' '72 ST-2 AVE' '86 ST-2 AVE' '96 ST-2 AVE' 'AVENUE I' 'AVENUE N'\n",
      " 'AVENUE P' 'AVENUE X' \"B'WAY-LAFAYETTE\" 'BEDFORD-NOSTRAN' 'COURT SQ'\n",
      " 'JAMAICA 179 ST' 'JAMAICA CENTER' 'JAMAICA VAN WK' 'LEXINGTON AV/63'\n",
      " 'MYRTLE-WILLOUGH' 'NEWARK HW BMEBE' 'PARSONS BLVD' 'ROOSEVELT ISLND'\n",
      " 'SMITH-9 ST' 'SUTPHIN BLVD' 'SUTPHIN-ARCHER' '1 AV' '18 AV' '20 AV'\n",
      " '25 AV' '25 ST' '3 AV' '36 ST' '45 ST' '4AV-9 ST' '50 ST' '53 ST' '55 ST'\n",
      " '6 AV' '71 ST' '77 ST' '79 ST' '8 AV' '86 ST' '9 AV' 'ATL AV-BARCLAY'\n",
      " 'BAY 50 ST' 'BAY PKWY' 'BAY RIDGE-95 ST' 'CONEY IS-STILLW'\n",
      " 'FT HAMILTON PKY' 'JAY ST-METROTEC' 'MYRTLE-WYCKOFF' 'NEW UTRECHT AV'\n",
      " 'W 8 ST-AQUARIUM' '161/YANKEE STAD' '167 ST' '170 ST' '174-175 STS'\n",
      " '182-183 STS' '46 ST' '5 AV/53 ST' '63 DR-REGO PARK' '65 ST' '67 AV'\n",
      " '75 AV' 'AQUEDUCT N.COND' 'AQUEDUCT RACETR' 'BEACH 105 ST' 'BEACH 25 ST'\n",
      " 'BEACH 36 ST' 'BEACH 44 ST' 'BEACH 60 ST' 'BEACH 67 ST' 'BEACH 90 ST'\n",
      " 'BEACH 98 ST' 'BEDFORD PK BLVD' 'BROAD CHANNEL' 'COURT SQ-23 ST'\n",
      " 'FAR ROCKAWAY' 'FORDHAM RD' 'FOREST HILLS 71' 'GRAND-NEWTOWN'\n",
      " 'JKSN HT-ROOSVLT' 'KEW GARDENS' 'KINGSBRIDGE RD' 'LEXINGTON AV/53'\n",
      " 'NORTHERN BLVD' 'NORWOOD 205 ST' 'ROCKAWAY PARK B' '116 ST-COLUMBIA'\n",
      " '137 ST CITY COL' '14TH STREET' '157 ST' '18 ST' '191 ST' '207 ST'\n",
      " '215 ST' '231 ST' '238 ST' '33 ST' '66 ST-LINCOLN' '9TH STREET'\n",
      " 'ASTOR PL' 'BLEECKER ST' 'BROOKLYN BRIDGE' 'CHRISTOPHER ST' 'CITY / BUS'\n",
      " 'EXCHANGE PLACE' 'GROVE STREET' 'HARRISON' 'JOURNAL SQUARE' 'LACKAWANNA'\n",
      " 'MARBLE HILL-225' 'NEWARK BM BW' 'NEWARK C' 'NEWARK HM HE' 'PATH NEW WTC'\n",
      " 'PATH WTC 2' 'PAVONIA/NEWPORT' 'SOUTH FERRY' 'THIRTY ST'\n",
      " 'THIRTY THIRD ST' 'TWENTY THIRD ST' 'V.CORTLANDT PK' 'WTC-CORTLANDT'\n",
      " '103 ST-CORONA' '30 AV' '33 ST-RAWSON ST' '34 ST-HUDSON YD' '36 AV'\n",
      " '39 AV' '40 ST LOWERY ST' '46 ST BLISS ST' '5 AVE' '52 ST'\n",
      " '61 ST WOODSIDE' '69 ST' '74 ST-BROADWAY' '82 ST-JACKSON H'\n",
      " '90 ST-ELMHURST' 'ASTORIA BLVD' 'ASTORIA DITMARS' 'CROWN HTS-UTICA'\n",
      " 'EASTN PKWY-MUSM' 'FLUSHING-MAIN' 'GRAND ARMY PLAZ' 'HUNTERS PT AV'\n",
      " 'JUNCTION BLVD' 'METS-WILLETS PT' 'MIDDLETOWN RD' 'MORISN AV/SNDVW'\n",
      " 'PELHAM BAY PARK' 'QUEENSBORO PLZ' 'ST LAWRENCE AV' 'VERNON-JACKSON'\n",
      " 'WESTCHESTER SQ' '14 ST-UNION SQ' '23 ST' '28 ST' '34 ST-HERALD SQ'\n",
      " '49 ST' '5 AV/59 ST' '57 ST-7 AV' '59 ST' '7 AV' '8 ST-NYU' 'AVENUE H'\n",
      " 'AVENUE J' 'AVENUE M' 'AVENUE U' 'BOROUGH HALL' 'BOTANIC GARDEN'\n",
      " 'BRIGHTON BEACH' 'BROAD ST' 'CORTELYOU RD' 'CORTLANDT ST'\n",
      " 'DELANCEY/ESSEX' 'KINGS HWY' 'NECK RD' 'OCEAN PKWY' 'PROSPECT PARK'\n",
      " 'TIMES SQ-42 ST' 'WHITEHALL S-FRY' '110 ST' '138/GRAND CONC'\n",
      " '149/GRAND CONC' '174 ST' '176 ST' '183 ST' '219 ST' '225 ST' '233 ST'\n",
      " '3 AV 138 ST' '3 AV-149 ST' '51 ST' '68ST-HUNTER CO' 'CENTRAL PK N110'\n",
      " \"E 143/ST MARY'S\" 'E 149 ST' 'E 180 ST' 'GRD CNTRL-42 ST' 'GUN HILL RD'\n",
      " 'HARLEM 148 ST' 'MOSHOLU PKWY' 'MT EDEN AV' 'PELHAM PKWY' 'WAKEFIELD/241'\n",
      " 'WEST FARMS SQ' 'WOODLAWN' '104 ST' '111 ST' '121 ST' '181 ST' '190 ST'\n",
      " '75 ST-ELDERTS' '85 ST-FOREST PK' 'BUSHWICK AV' 'CANARSIE-ROCKAW'\n",
      " 'EAST 105 ST' 'FOREST AVE' 'FRESH POND RD' 'HOWARD BCH JFK'\n",
      " 'INWOOD-207 ST' 'JFK JAMAICA CT1' 'KNICKERBOCKER' 'METROPOLITAN AV'\n",
      " 'NEW LOTS' 'SENECA AVE' 'WOODHAVEN BLVD']\n",
      "['FIRST AV' 'SECOND AV' 'THIRD AV' 'THIRD AV–138TH ST' 'THIRD AV–149TH ST'\n",
      " 'FOURTH AV/NINTH ST' 'FIFTH AV/53RD ST' 'FIFTH AV–59TH ST' 'SEVENTH AV'\n",
      " 'EIGHTH AV' 'EIGHTH ST–NEW YORK UNIVERSITY' 'NINTH AV' '14TH ST/SIXTH AV'\n",
      " '14TH ST/EIGHTH AV†' '14TH ST–UNION SQUARE' '15TH ST–PROSPECT PARK'\n",
      " '18TH AV' '18TH ST' '20TH AV' '21ST ST' '21ST ST–QUEENSBRIDGE' '23RD ST'\n",
      " '25TH AV' '25TH ST' '28TH ST' '30TH AV' '33RD ST' '33RD ST–RAWSON ST'\n",
      " '34TH ST–HERALD SQUARE' '34TH ST–HUDSON YARDS†' '34TH ST–PENN STATION'\n",
      " '36TH AV' '36TH ST' '39TH AV' '40TH ST–LOWERY ST'\n",
      " '42ND ST–BRYANT PARK/FIFTH AV' '45TH ST' '46TH ST' '46TH ST–BLISS ST'\n",
      " '47TH–50TH STS–ROCKEFELLER CENTER' '49TH ST' '50TH ST' '52ND ST'\n",
      " '53RD ST' '55TH ST' '57TH ST' '57TH ST–SEVENTH AV' '59TH ST'\n",
      " '59TH ST–COLUMBUS CIRCLE' '61ST ST–WOODSIDE' '62ND ST/NEW UTRECHT AV'\n",
      " '63RD DRIVE–REGO PARK' '65TH ST' '66TH ST–LINCOLN CENTER' '67TH AV'\n",
      " '68TH ST–HUNTER COLLEGE' '69TH ST' '71ST ST' '72ND ST' '75TH AV'\n",
      " '75TH ST–ELDERTS LANE' '77TH ST' '79TH ST' '80TH ST'\n",
      " '81ST ST–MUSEUM OF NATURAL HISTORY' '82ND ST–JACKSON HEIGHTS'\n",
      " '85TH ST–FOREST PARKWAY' '86TH ST' '88TH ST' '90TH ST–ELMHURST AV'\n",
      " '96TH ST†' '96TH ST' '103RD ST' '103RD ST–CORONA PLAZA' '104TH ST'\n",
      " '110TH ST' '111TH ST' '116TH ST' '116TH ST–COLUMBIA UNIVERSITY'\n",
      " '121ST ST' '125TH ST' '135TH ST' '137TH ST–CITY COLLEGE'\n",
      " '138TH ST–GRAND CONCOURSE' '145TH ST†' '145TH ST'\n",
      " '149TH ST–GRAND CONCOURSE' '155TH ST' '157TH ST'\n",
      " '161ST ST–YANKEE STADIUM' '163RD ST–AMSTERDAM AV' '167TH ST' '168TH ST†'\n",
      " '169TH ST' '170TH ST' '174TH ST' '174TH–175TH STS' '175TH ST' '176TH ST'\n",
      " '181ST ST' '182ND–183RD STS' '183RD ST' '190TH ST' '191ST ST' '207TH ST'\n",
      " '215TH ST' '219TH ST' '225TH ST' '231ST ST' '233RD ST' '238TH ST'\n",
      " 'AQUEDUCT RACETRACK' 'AQUEDUCT–NORTH CONDUIT AV' 'ASTOR PLACE'\n",
      " 'ASTORIA BOULEVARD' 'ASTORIA–DITMARS BOULEVARD†'\n",
      " 'ATLANTIC AV–BARCLAYS CENTER' 'AV H' 'AV I' 'AV J' 'AV M' 'AV N' 'AV P'\n",
      " 'AV U' 'AV X' 'BAY 50TH ST' 'BAY PARKWAY' 'BAY RIDGE–95TH ST'\n",
      " 'BEACH 25TH ST' 'BEACH 36TH ST' 'BEACH 44TH ST' 'BEACH 60TH ST'\n",
      " 'BEACH 67TH ST' 'BEACH 90TH ST' 'BEACH 98TH ST' 'BEACH 105TH ST'\n",
      " 'BEDFORD PARK BOULEVARD' 'BEDFORD PARK BOULEVARD–LEHMAN COLLEGE'\n",
      " 'BEDFORD–NOSTRAND AVS' 'BEVERLY ROAD' 'BOROUGH HALL/COURT ST'\n",
      " 'BRIGHTON BEACH†' 'BROAD CHANNEL†' 'BROAD ST†' 'BROADWAY JUNCTION'\n",
      " 'BROADWAY–LAFAYETTE ST/BLEECKER ST'\n",
      " 'BROOKLYN BRIDGE–CITY HALL/CHAMBERS ST†' 'BUSHWICK AV–ABERDEEN ST'\n",
      " 'CANARSIE–ROCKAWAY PARKWAY†' 'CATHEDRAL PARKWAY–110TH ST'\n",
      " 'CENTRAL PARK NORTH–110TH ST'\n",
      " 'CHAMBERS ST–WORLD TRADE CENTER/PARK PLACE/CORTLANDT ST†'\n",
      " 'CHRISTOPHER ST–SHERIDAN SQUARE' 'CHURCH AV†' 'CLINTON–WASHINGTON AVS'\n",
      " 'CONEY ISLAND–STILLWELL AV†' 'CORTELYOU ROAD' 'COURT SQUARE–23RD ST†'\n",
      " 'CROWN HEIGHTS–UTICA AV†' 'DELANCEY ST/ESSEX ST' 'EAST 105TH ST'\n",
      " \"EAST 143RD ST–ST. MARY'S ST\" 'EAST 149TH ST' 'EAST 180TH ST'\n",
      " 'EASTCHESTER–DYRE AV†' 'EASTERN PARKWAY–BROOKLYN MUSEUM' 'EUCLID AV†'\n",
      " 'FAR ROCKAWAY–MOTT AV†' 'FLATBUSH AV–BROOKLYN COLLEGE†'\n",
      " 'FLUSHING–MAIN ST†' 'FORDHAM ROAD' 'FOREST AV' 'FOREST HILLS–71ST AV†'\n",
      " 'FORT HAMILTON PARKWAY' 'FRANKLIN AV/BOTANIC GARDEN' 'FRANKLIN AV†'\n",
      " 'FRESH POND ROAD' 'GRAND ARMY PLAZA' 'GRAND AV–NEWTOWN'\n",
      " 'GRAND CENTRAL–42ND ST†' 'GUN HILL ROAD' 'HARLEM–148TH ST†'\n",
      " 'HOYT–SCHERMERHORN STS' 'HOWARD BEACH–JFK AIRPORT' 'HUNTERS POINT AV'\n",
      " 'INWOOD–207TH ST†' 'JACKSON HEIGHTS–ROOSEVELT AV/74TH ST'\n",
      " 'JAMAICA CENTER–PARSONS/ARCHER†' 'JAMAICA–179TH ST†' 'JAMAICA–VAN WYCK'\n",
      " 'JAY ST–METROTECH' 'JUNCTION BOULEVARD' 'KEW GARDENS–UNION TURNPIKE'\n",
      " 'KINGS HIGHWAY' 'KINGSBRIDGE ROAD' 'KINGSTON–THROOP AVS'\n",
      " 'KNICKERBOCKER AV' 'LEXINGTON AV/51ST ST' 'LEXINGTON AV/59TH ST'\n",
      " 'LEXINGTON AV–63RD ST' 'MARBLE HILL–225TH ST'\n",
      " 'METROPOLITAN AV/LORIMER ST' 'METS–WILLETS POINT'\n",
      " 'MIDDLE VILLAGE–METROPOLITAN AV†' 'MIDDLETOWN ROAD'\n",
      " 'MORRISON AV–SOUNDVIEW' 'MOSHOLU PARKWAY' 'MOUNT EDEN AV'\n",
      " 'MYRTLE–WILLOUGHBY AVS' 'MYRTLE–WYCKOFF AVS' 'NECK ROAD' 'NEW LOTS AV†'\n",
      " 'NEWKIRK AV–LITTLE HAITI' 'NORTHERN BOULEVARD' 'NORWOOD–205TH ST†'\n",
      " 'OCEAN PARKWAY' 'OZONE PARK–LEFFERTS BOULEVARD†' 'PARSONS BOULEVARD'\n",
      " 'PELHAM BAY PARK†' 'PELHAM PARKWAY' 'PRESIDENT ST–MEDGAR EVERS COLLEGE'\n",
      " 'PROSPECT PARK†' 'QUEENSBORO PLAZA' 'ROCKAWAY BOULEVARD'\n",
      " 'ROCKAWAY PARK–BEACH 116TH ST†' 'ROOSEVELT ISLAND' 'ST. LAWRENCE AV'\n",
      " 'SENECA AV' 'SMITH–NINTH STS' 'SOUTH FERRY/WHITEHALL ST†'\n",
      " 'SUTPHIN BOULEVARD' 'SUTPHIN BOULEVARD–ARCHER AV–JFK AIRPORT'\n",
      " 'SUTTER AV–RUTLAND ROAD'\n",
      " 'TIMES SQUARE–42ND ST/PORT AUTHORITY BUS TERMINAL†'\n",
      " 'VAN CORTLANDT PARK–242ND ST†' 'VERNON BOULEVARD–JACKSON AV'\n",
      " 'WAKEFIELD–241ST ST†' 'WEST FOURTH ST–WASHINGTON SQUARE'\n",
      " 'WEST EIGHTH ST–NEW YORK AQUARIUM' 'WEST FARMS SQUARE–EAST TREMONT AV'\n",
      " 'WESTCHESTER SQUARE–EAST TREMONT AV' 'WOODHAVEN BOULEVARD' 'WOODLAWN†'\n",
      " 'WTC CORTLANDT']\n"
     ]
    }
   ],
   "source": [
    "print(df.STATION[~ df.STATION.isin(bor.Station)].unique())\n",
    "print(bor.Station[~ bor.Station.isin(df.STATION)].unique())\n"
   ]
  },
  {
   "cell_type": "markdown",
   "id": "8584bf41-6d6d-4b6a-b788-3cfc77489870",
   "metadata": {},
   "source": [
    "- ### Find Max Entries for each unqiue turnstile everyday"
   ]
  },
  {
   "cell_type": "code",
   "execution_count": 100,
   "id": "cc99ac62-61c4-4fbe-9a67-e3b971666e24",
   "metadata": {},
   "outputs": [
    {
     "data": {
      "text/plain": [
       "DATE        STATION    SCP     \n",
       "08/27/2016  1 AV       00-00-00     11450095\n",
       "                       00-00-01     56095346\n",
       "                       00-03-00    369691349\n",
       "                       00-03-01      1698399\n",
       "                       00-03-02      5241027\n",
       "                                     ...    \n",
       "09/16/2016  ZEREGA AV  00-00-01       144602\n",
       "                       00-03-00       295370\n",
       "                       00-03-01       491847\n",
       "                       00-05-00           46\n",
       "                       00-05-01           39\n",
       "Name: ENTRIES, Length: 84520, dtype: int64"
      ]
     },
     "execution_count": 100,
     "metadata": {},
     "output_type": "execute_result"
    }
   ],
   "source": [
    "max_entries = df.groupby(['DATE','STATION','SCP'])['ENTRIES'].max()\n",
    "max_entries"
   ]
  },
  {
   "cell_type": "markdown",
   "id": "7a6dd17d-eda8-45d5-b66e-ce894de2594e",
   "metadata": {},
   "source": [
    "- ### Correct Entry Amounts to account for cumulative nature\n",
    "    Entries are accumulated overtime. Therefore they are not reset each day.\n",
    "    To get a representative number of entries at each turnstile each day take the number of entries at the end of the day - the number at the beginning of the day"
   ]
  },
  {
   "cell_type": "code",
   "execution_count": 101,
   "id": "b59acc65-4970-4a0c-b0b8-70a8f58677ea",
   "metadata": {},
   "outputs": [
    {
     "data": {
      "text/plain": [
       "DATE        STATION    SCP     \n",
       "08/27/2016  1 AV       00-00-00    1935\n",
       "                       00-00-01    2671\n",
       "                       00-03-00     452\n",
       "                       00-03-01     399\n",
       "                       00-03-02     788\n",
       "                                   ... \n",
       "09/16/2016  ZEREGA AV  00-00-01     360\n",
       "                       00-03-00     787\n",
       "                       00-03-01    1299\n",
       "                       00-05-00       0\n",
       "                       00-05-01       0\n",
       "Name: ENTRIES, Length: 84520, dtype: int64"
      ]
     },
     "execution_count": 101,
     "metadata": {},
     "output_type": "execute_result"
    }
   ],
   "source": [
    "min_entries = df.groupby(['DATE','STATION','SCP'])['ENTRIES'].min()\n",
    "corrected_entries = max_entries - min_entries\n",
    "corrected_entries"
   ]
  },
  {
   "cell_type": "markdown",
   "id": "2a0e8110-de02-4d89-94d8-ef347b71c69c",
   "metadata": {},
   "source": [
    "## 3b\n",
    "   - ### Try Different Methods for calculating entries"
   ]
  },
  {
   "cell_type": "code",
   "execution_count": 33,
   "id": "ddcaa765-9121-4311-b83c-2ca93ba1043d",
   "metadata": {},
   "outputs": [
    {
     "data": {
      "text/plain": [
       "DATE        STATION    SCP     \n",
       "08/27/2016  1 AV       00-00-00    1935\n",
       "                       00-00-01    2671\n",
       "                       00-03-00     452\n",
       "                       00-03-01     399\n",
       "                       00-03-02     788\n",
       "                                   ... \n",
       "09/16/2016  ZEREGA AV  00-00-01     360\n",
       "                       00-03-00     787\n",
       "                       00-03-01    1299\n",
       "                       00-05-00       0\n",
       "                       00-05-01       0\n",
       "Name: ENTRIES, Length: 84520, dtype: int64"
      ]
     },
     "execution_count": 33,
     "metadata": {},
     "output_type": "execute_result"
    }
   ],
   "source": [
    "max_entries = df.groupby(['DATE','STATION','SCP'])['ENTRIES'].last()\n",
    "min_entries = df.groupby(['DATE','STATION','SCP'])['ENTRIES'].first()\n",
    "corrected_entries = max_entries - min_entries\n",
    "corrected_entries"
   ]
  },
  {
   "cell_type": "markdown",
   "id": "23c16fdf-f6c4-4059-905f-961d4ff91984",
   "metadata": {},
   "source": [
    "   - ### Check Values to see if they make sense\n",
    "       - They do not..."
   ]
  },
  {
   "cell_type": "code",
   "execution_count": 95,
   "id": "ed2c1cbc-8541-4c43-90c0-d3e9c7494a73",
   "metadata": {},
   "outputs": [
    {
     "data": {
      "text/plain": [
       "count    8.452000e+04\n",
       "mean     4.817043e+06\n",
       "std      1.175331e+08\n",
       "min     -2.023383e+09\n",
       "25%      1.260000e+02\n",
       "50%      6.510000e+02\n",
       "75%      1.432000e+03\n",
       "max      2.018634e+09\n",
       "Name: ENTRIES, dtype: float64"
      ]
     },
     "execution_count": 95,
     "metadata": {},
     "output_type": "execute_result"
    }
   ],
   "source": [
    "corrected_entries.describe()"
   ]
  },
  {
   "cell_type": "markdown",
   "id": "be0119e9-62bd-4c44-818e-1f6bf89c34e6",
   "metadata": {},
   "source": [
    "   - ### Another Method\n",
    "       - I am confused"
   ]
  },
  {
   "cell_type": "code",
   "execution_count": 128,
   "id": "ae22e732-eb42-4471-b2dd-b399fdb2b8c9",
   "metadata": {},
   "outputs": [
    {
     "data": {
      "text/html": [
       "<div>\n",
       "<style scoped>\n",
       "    .dataframe tbody tr th:only-of-type {\n",
       "        vertical-align: middle;\n",
       "    }\n",
       "\n",
       "    .dataframe tbody tr th {\n",
       "        vertical-align: top;\n",
       "    }\n",
       "\n",
       "    .dataframe thead th {\n",
       "        text-align: right;\n",
       "    }\n",
       "</style>\n",
       "<table border=\"1\" class=\"dataframe\">\n",
       "  <thead>\n",
       "    <tr style=\"text-align: right;\">\n",
       "      <th></th>\n",
       "      <th>ENTRIES_CORRECTED</th>\n",
       "    </tr>\n",
       "  </thead>\n",
       "  <tbody>\n",
       "    <tr>\n",
       "      <th>count</th>\n",
       "      <td>5.768640e+05</td>\n",
       "    </tr>\n",
       "    <tr>\n",
       "      <th>mean</th>\n",
       "      <td>3.293299e+04</td>\n",
       "    </tr>\n",
       "    <tr>\n",
       "      <th>std</th>\n",
       "      <td>2.616024e+07</td>\n",
       "    </tr>\n",
       "    <tr>\n",
       "      <th>min</th>\n",
       "      <td>-2.023381e+09</td>\n",
       "    </tr>\n",
       "    <tr>\n",
       "      <th>25%</th>\n",
       "      <td>1.100000e+01</td>\n",
       "    </tr>\n",
       "    <tr>\n",
       "      <th>50%</th>\n",
       "      <td>7.600000e+01</td>\n",
       "    </tr>\n",
       "    <tr>\n",
       "      <th>75%</th>\n",
       "      <td>2.400000e+02</td>\n",
       "    </tr>\n",
       "    <tr>\n",
       "      <th>max</th>\n",
       "      <td>2.023379e+09</td>\n",
       "    </tr>\n",
       "  </tbody>\n",
       "</table>\n",
       "</div>"
      ],
      "text/plain": [
       "       ENTRIES_CORRECTED\n",
       "count       5.768640e+05\n",
       "mean        3.293299e+04\n",
       "std         2.616024e+07\n",
       "min        -2.023381e+09\n",
       "25%         1.100000e+01\n",
       "50%         7.600000e+01\n",
       "75%         2.400000e+02\n",
       "max         2.023379e+09"
      ]
     },
     "execution_count": 128,
     "metadata": {},
     "output_type": "execute_result"
    }
   ],
   "source": [
    "df['ENTRIES_PREV'] = df.groupby(['STATION','SCP'])['ENTRIES'].shift(1)\n",
    "df.dropna(inplace = True)\n",
    "df['ENTRIES_CORRECTED'] = df['ENTRIES'] - df['ENTRIES_PREV']\n",
    "corrected_entries = df[['DATE','STATION','SCP', 'ENTRIES_CORRECTED']]\n",
    "corrected_entries.describe()"
   ]
  },
  {
   "cell_type": "code",
   "execution_count": null,
   "id": "51e20ca2-b4ed-4d1f-b828-678d358b0e0f",
   "metadata": {},
   "outputs": [],
   "source": []
  },
  {
   "cell_type": "markdown",
   "id": "2a9dcca1-b94e-4f1c-82b9-ae5ccd448034",
   "metadata": {},
   "source": [
    "## 4\n",
    "   - ### View Entries At Station Level"
   ]
  },
  {
   "cell_type": "code",
   "execution_count": 104,
   "id": "6b3d7a88-96cd-4f0f-b3be-73c0d72726e1",
   "metadata": {},
   "outputs": [
    {
     "data": {
      "text/plain": [
       "STATION\n",
       "1 AV                    331878\n",
       "103 ST              1161681202\n",
       "103 ST-CORONA           357818\n",
       "104 ST             66080497327\n",
       "110 ST                  199394\n",
       "                      ...     \n",
       "WOODHAVEN BLVD      2425203529\n",
       "WOODLAWN                125963\n",
       "WORLD TRADE CTR         238900\n",
       "YORK ST                 174855\n",
       "ZEREGA AV                43001\n",
       "Name: ENTRIES, Length: 374, dtype: int64"
      ]
     },
     "execution_count": 104,
     "metadata": {},
     "output_type": "execute_result"
    }
   ],
   "source": [
    "corrected_entries.groupby(['STATION']).sum()"
   ]
  },
  {
   "cell_type": "markdown",
   "id": "604567bf-f22f-48ed-b4c6-29fb2094bd8d",
   "metadata": {},
   "source": [
    "## 5\n",
    "   - ### View entries at the daily level for each station"
   ]
  },
  {
   "cell_type": "code",
   "execution_count": 105,
   "id": "c662d33f-9199-4c5f-a59e-e09416600dfa",
   "metadata": {},
   "outputs": [
    {
     "data": {
      "text/plain": [
       "DATE        STATION        \n",
       "08/27/2016  1 AV                    12685\n",
       "            103 ST               55300040\n",
       "            103 ST-CORONA           14038\n",
       "            104 ST             3146693474\n",
       "            110 ST                   7079\n",
       "                                  ...    \n",
       "09/16/2016  WOODHAVEN BLVD      115474260\n",
       "            WOODLAWN                 7353\n",
       "            WORLD TRADE CTR         14507\n",
       "            YORK ST                  9961\n",
       "            ZEREGA AV                2781\n",
       "Name: ENTRIES, Length: 7832, dtype: int64"
      ]
     },
     "execution_count": 105,
     "metadata": {},
     "output_type": "execute_result"
    }
   ],
   "source": [
    "corrected_entries.groupby(['DATE','STATION']).sum()"
   ]
  },
  {
   "cell_type": "markdown",
   "id": "1cf2a92b-8521-40d9-a473-b1cc30e5cc47",
   "metadata": {},
   "source": [
    "## 6\n",
    "  - ### Find Stations With The Highest Traffic"
   ]
  },
  {
   "cell_type": "code",
   "execution_count": 108,
   "id": "08cda8ec-9f3e-4b5c-8206-ab463f16df91",
   "metadata": {},
   "outputs": [
    {
     "data": {
      "text/plain": [
       "STATION\n",
       "23 ST              124697720325\n",
       "125 ST             120240003982\n",
       "42 ST-PORT AUTH    116154656937\n",
       "CANAL ST            92383363323\n",
       "TIMES SQ-42 ST      76117770516\n",
       "                       ...     \n",
       "BEACH 105 ST               7151\n",
       "BROAD CHANNEL              5519\n",
       "ORCHARD BEACH              1939\n",
       "SARATOGA AV                  25\n",
       "PATH NEW WTC                  1\n",
       "Name: ENTRIES, Length: 374, dtype: int64"
      ]
     },
     "execution_count": 108,
     "metadata": {},
     "output_type": "execute_result"
    }
   ],
   "source": [
    "corrected_entries.groupby(['STATION']).sum().sort_values(ascending=False)"
   ]
  }
 ],
 "metadata": {
  "kernelspec": {
   "display_name": "Python (Metis-Environment)",
   "language": "python",
   "name": "other-env"
  },
  "language_info": {
   "codemirror_mode": {
    "name": "ipython",
    "version": 3
   },
   "file_extension": ".py",
   "mimetype": "text/x-python",
   "name": "python",
   "nbconvert_exporter": "python",
   "pygments_lexer": "ipython3",
   "version": "3.10.4"
  }
 },
 "nbformat": 4,
 "nbformat_minor": 5
}
