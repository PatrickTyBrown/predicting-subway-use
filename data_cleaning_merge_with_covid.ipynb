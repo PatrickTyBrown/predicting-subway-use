{
 "cells": [
  {
   "cell_type": "code",
   "execution_count": 2,
   "id": "f139f1b9-daac-4d5a-834d-d5b3abd4cba7",
   "metadata": {},
   "outputs": [],
   "source": [
    "import pandas as pd\n",
    "import pickle\n",
    "import os\n",
    "import matplotlib.pyplot as plt"
   ]
  },
  {
   "cell_type": "code",
   "execution_count": 3,
   "id": "23ae048e",
   "metadata": {},
   "outputs": [],
   "source": [
    "def pickle_file(obj, path):\n",
    "    file = open(path, 'wb')\n",
    "    pickle.dump(obj, file)\n",
    "    file.close()\n",
    "\n",
    "def load_pickle(path):\n",
    "    file = open(path, 'rb')\n",
    "    obj = pickle.load(file)\n",
    "    file.close()\n",
    "    return obj"
   ]
  },
  {
   "cell_type": "code",
   "execution_count": 4,
   "id": "e10b5b3b",
   "metadata": {},
   "outputs": [],
   "source": [
    "def genrate_dates(df):\n",
    "    df['DATE'] = pd.to_datetime(df.DATE)\n",
    "    # df['WEEK'] = df.DATE.dt.weekofyear\n",
    "    # df['YEAR'] = df.DATE.dt.year\n",
    "\n",
    "def remove_duplicates(df):\n",
    "    # Get rid of the duplicate entry\n",
    "    print(df.shape)\n",
    "    df.sort_values([\"C/A\", \"UNIT\", \"SCP\", \"STATION\", \"DATETIME\"], \n",
    "                            inplace=True, ascending=False)\n",
    "    df.drop_duplicates(subset=[\"C/A\", \"UNIT\", \"SCP\", \"STATION\", \"DATETIME\"], inplace=True)\n",
    "    print(df.shape)\n",
    "def shift_drop(df):\n",
    "    # #Shift Rows and Drop NA\n",
    "    df[[\"PREV_DATE\", \"PREV_ENTRIES\", \"PREV_EXITS\"]] = (df\n",
    "                                    .groupby([\"C/A\", \"UNIT\", \"SCP\", \"STATION\"])[\"DATE\", \"ENTRIES\", \"EXITS\"]\n",
    "                                    .apply(lambda grp: grp.shift(1)))\n",
    "    df.dropna(subset=[\"PREV_DATE\"], axis=0, inplace=True)\n",
    "\n",
    "def tally_entrances(df, max_counter = 5000):\n",
    "    df['DAILY_ENTRIES'] = (df.ENTRIES - df.PREV_ENTRIES).abs()\n",
    "    df['DAILY_EXITS'] = (df.EXITS - df.PREV_EXITS).abs()\n",
    "    \n",
    "    for x in ['ENTRIES', 'EXITS']:\n",
    "        df['OVER_MAX'] = df['DAILY_'+x] > max_counter\n",
    "        print(df.OVER_MAX.sum())\n",
    "\n",
    "        \n",
    "        df['DAILY_'+x] = (df['DAILY_'+x] * ~ df.OVER_MAX) + (df[[x,'PREV_'+x]].min(axis=1) * df.OVER_MAX)\n",
    "\n",
    "        df['OVER_MAX'] = df['DAILY_'+x] > max_counter\n",
    "        print(df.OVER_MAX.sum())\n",
    "\n",
    "        df['DAILY_'+x] = (df['DAILY_'+x] * ~ df.OVER_MAX) + ((df['DAILY_'+x]* ~df.OVER_MAX).mean() * df.OVER_MAX)\n",
    "        df['OVER_MAX'] = df['DAILY_'+x] > max_counter\n",
    "        print(df.OVER_MAX.sum())\n",
    "    df.drop('OVER_MAX', axis=1, inplace=True)\n",
    "\n",
    "def generate_line_density(df):\n",
    "    df['LINE_DENSITY'] = (df.DAILY_ENTRIES + df.DAILY_EXITS) / df.LINENAME.str.len()\n",
    "\n",
    "# def generate_7_day_totals(df):\n",
    "#     weekly_columns = ['WEEKLY_ENTRIES','WEEKLY_EXITS', 'WEEKLY_LINE_DENSITY'] \n",
    "#     df[weekly_columns] = df[['DAILY_ENTRIES','DAILY_EXITS', 'LINE_DENSITY']]\n",
    "#     df[weekly_columns]  = df.groupby(['WEEK', 'YEAR', \"C/A\", \"UNIT\", \"SCP\", \"STATION\"]).mean()[weekly_columns]\n",
    "    \n",
    "    # for i in range(-3,4):\n",
    "    #     df['WEEKLY_ENTRIES'] = df['WEEKLY_ENTRIES'] + df.DAILY_ENTRIES.shift(i).fillna(0)\n",
    "    # # df['WEEKLY_ENTRIES'] = df['WEEKLY_ENTRIES']/7\n",
    "    # df['MASK'] = df.WEEKLY_ENTRIES.isna()\n",
    "    # df.WEEKLY_ENTRIES.fillna(0, inplace=True)\n",
    "    # df['WEEKLY_ENTRIES'] = (df.WEEKLY_ENTRIES * ~df.MASK) + (df.WEEKLY_ENTRIES.mean() * df.MASK)\n",
    "    # # df['WEEKLY_ENTRIES'].iloc[:3] = df['WEEKLY_ENTRIES'].mean()\n",
    "    # # df['WEEKLY_ENTRIES'].iloc[-3:] = df['WEEKLY_ENTRIES'].mean()\n",
    "    # df = df.reset_index()\n",
    "\n",
    "# def group_by_date(df):\n",
    "#     df = df[['STATION', 'LINENAME', 'DATE',\n",
    "#        'DAILY_ENTRIES', 'DAILY_EXITS', 'LINE_DENSITY']].groupby(['DATE','STATION', 'LINENAME']).sum()"
   ]
  },
  {
   "cell_type": "code",
   "execution_count": 4,
   "id": "0440d4d7",
   "metadata": {},
   "outputs": [
    {
     "name": "stdout",
     "output_type": "stream",
     "text": [
      "Data Loaded\n",
      "(1437956, 11)\n",
      "(1437917, 11)\n"
     ]
    },
    {
     "name": "stderr",
     "output_type": "stream",
     "text": [
      "/tmp/ipykernel_35896/2335456712.py:15: FutureWarning: Indexing with multiple keys (implicitly converted to a tuple of keys) will be deprecated, use a list instead.\n",
      "  df[[\"PREV_DATE\", \"PREV_ENTRIES\", \"PREV_EXITS\"]] = (df\n"
     ]
    },
    {
     "name": "stdout",
     "output_type": "stream",
     "text": [
      "112\n",
      "38\n",
      "0\n",
      "96\n",
      "18\n",
      "0\n",
      "saved:\tmta_data_cleaned/mta_stations_30_40\n",
      "\n",
      "-_-_-_-_-_-_-_-_-_-_\n",
      "\n",
      "\n",
      "Data Loaded\n",
      "(922772, 11)\n",
      "(922758, 11)\n"
     ]
    },
    {
     "name": "stderr",
     "output_type": "stream",
     "text": [
      "/tmp/ipykernel_35896/2335456712.py:15: FutureWarning: Indexing with multiple keys (implicitly converted to a tuple of keys) will be deprecated, use a list instead.\n",
      "  df[[\"PREV_DATE\", \"PREV_ENTRIES\", \"PREV_EXITS\"]] = (df\n"
     ]
    },
    {
     "name": "stdout",
     "output_type": "stream",
     "text": [
      "103\n",
      "33\n",
      "0\n",
      "87\n",
      "21\n",
      "0\n",
      "saved:\tmta_data_cleaned/mta_stations_70_80\n",
      "\n",
      "-_-_-_-_-_-_-_-_-_-_\n",
      "\n",
      "\n",
      "Data Loaded\n",
      "(1327776, 11)\n",
      "(1327766, 11)\n"
     ]
    },
    {
     "name": "stderr",
     "output_type": "stream",
     "text": [
      "/tmp/ipykernel_35896/2335456712.py:15: FutureWarning: Indexing with multiple keys (implicitly converted to a tuple of keys) will be deprecated, use a list instead.\n",
      "  df[[\"PREV_DATE\", \"PREV_ENTRIES\", \"PREV_EXITS\"]] = (df\n"
     ]
    },
    {
     "name": "stdout",
     "output_type": "stream",
     "text": [
      "143\n",
      "62\n",
      "0\n",
      "127\n",
      "32\n",
      "0\n",
      "saved:\tmta_data_cleaned/mta_stations_260_270\n",
      "\n",
      "-_-_-_-_-_-_-_-_-_-_\n",
      "\n",
      "\n",
      "Data Loaded\n",
      "(621089, 11)\n",
      "(621089, 11)\n"
     ]
    },
    {
     "name": "stderr",
     "output_type": "stream",
     "text": [
      "/tmp/ipykernel_35896/2335456712.py:15: FutureWarning: Indexing with multiple keys (implicitly converted to a tuple of keys) will be deprecated, use a list instead.\n",
      "  df[[\"PREV_DATE\", \"PREV_ENTRIES\", \"PREV_EXITS\"]] = (df\n"
     ]
    },
    {
     "name": "stdout",
     "output_type": "stream",
     "text": [
      "26\n",
      "11\n",
      "0\n",
      "25\n",
      "2\n",
      "0\n",
      "saved:\tmta_data_cleaned/mta_stations_220_230\n",
      "\n",
      "-_-_-_-_-_-_-_-_-_-_\n",
      "\n",
      "\n",
      "Data Loaded\n",
      "(3518248, 11)\n",
      "(3518177, 11)\n"
     ]
    },
    {
     "name": "stderr",
     "output_type": "stream",
     "text": [
      "/tmp/ipykernel_35896/2335456712.py:15: FutureWarning: Indexing with multiple keys (implicitly converted to a tuple of keys) will be deprecated, use a list instead.\n",
      "  df[[\"PREV_DATE\", \"PREV_ENTRIES\", \"PREV_EXITS\"]] = (df\n"
     ]
    },
    {
     "name": "stdout",
     "output_type": "stream",
     "text": [
      "394\n",
      "180\n",
      "0\n",
      "368\n",
      "142\n",
      "0\n",
      "saved:\tmta_data_cleaned/mta_stations_130_140\n",
      "\n",
      "-_-_-_-_-_-_-_-_-_-_\n",
      "\n",
      "\n",
      "Data Loaded\n",
      "(1410174, 11)\n",
      "(1410174, 11)\n"
     ]
    },
    {
     "name": "stderr",
     "output_type": "stream",
     "text": [
      "/tmp/ipykernel_35896/2335456712.py:15: FutureWarning: Indexing with multiple keys (implicitly converted to a tuple of keys) will be deprecated, use a list instead.\n",
      "  df[[\"PREV_DATE\", \"PREV_ENTRIES\", \"PREV_EXITS\"]] = (df\n"
     ]
    },
    {
     "name": "stdout",
     "output_type": "stream",
     "text": [
      "1737\n",
      "624\n",
      "0\n",
      "1694\n",
      "512\n",
      "0\n",
      "saved:\tmta_data_cleaned/mta_stations_240_250\n",
      "\n",
      "-_-_-_-_-_-_-_-_-_-_\n",
      "\n",
      "\n",
      "Data Loaded\n",
      "(651997, 11)\n",
      "(651997, 11)\n"
     ]
    },
    {
     "name": "stderr",
     "output_type": "stream",
     "text": [
      "/tmp/ipykernel_35896/2335456712.py:15: FutureWarning: Indexing with multiple keys (implicitly converted to a tuple of keys) will be deprecated, use a list instead.\n",
      "  df[[\"PREV_DATE\", \"PREV_ENTRIES\", \"PREV_EXITS\"]] = (df\n"
     ]
    },
    {
     "name": "stdout",
     "output_type": "stream",
     "text": [
      "65\n",
      "41\n",
      "0\n",
      "63\n",
      "40\n",
      "0\n",
      "saved:\tmta_data_cleaned/mta_stations_290_300\n",
      "\n",
      "-_-_-_-_-_-_-_-_-_-_\n",
      "\n",
      "\n",
      "Data Loaded\n",
      "(1415251, 11)\n",
      "(1415203, 11)\n"
     ]
    },
    {
     "name": "stderr",
     "output_type": "stream",
     "text": [
      "/tmp/ipykernel_35896/2335456712.py:15: FutureWarning: Indexing with multiple keys (implicitly converted to a tuple of keys) will be deprecated, use a list instead.\n",
      "  df[[\"PREV_DATE\", \"PREV_ENTRIES\", \"PREV_EXITS\"]] = (df\n"
     ]
    },
    {
     "name": "stdout",
     "output_type": "stream",
     "text": [
      "153\n",
      "54\n",
      "0\n",
      "194\n",
      "86\n",
      "0\n",
      "saved:\tmta_data_cleaned/mta_stations_280_290\n",
      "\n",
      "-_-_-_-_-_-_-_-_-_-_\n",
      "\n",
      "\n",
      "Data Loaded\n",
      "(1478507, 11)\n",
      "(1478505, 11)\n"
     ]
    },
    {
     "name": "stderr",
     "output_type": "stream",
     "text": [
      "/tmp/ipykernel_35896/2335456712.py:15: FutureWarning: Indexing with multiple keys (implicitly converted to a tuple of keys) will be deprecated, use a list instead.\n",
      "  df[[\"PREV_DATE\", \"PREV_ENTRIES\", \"PREV_EXITS\"]] = (df\n"
     ]
    },
    {
     "name": "stdout",
     "output_type": "stream",
     "text": [
      "96\n",
      "40\n",
      "0\n",
      "89\n",
      "26\n",
      "0\n",
      "saved:\tmta_data_cleaned/mta_stations_180_190\n",
      "\n",
      "-_-_-_-_-_-_-_-_-_-_\n",
      "\n",
      "\n",
      "Data Loaded\n",
      "(3115850, 11)\n",
      "(3115826, 11)\n"
     ]
    },
    {
     "name": "stderr",
     "output_type": "stream",
     "text": [
      "/tmp/ipykernel_35896/2335456712.py:15: FutureWarning: Indexing with multiple keys (implicitly converted to a tuple of keys) will be deprecated, use a list instead.\n",
      "  df[[\"PREV_DATE\", \"PREV_ENTRIES\", \"PREV_EXITS\"]] = (df\n"
     ]
    },
    {
     "name": "stdout",
     "output_type": "stream",
     "text": [
      "215\n",
      "61\n",
      "0\n",
      "203\n",
      "32\n",
      "0\n",
      "saved:\tmta_data_cleaned/mta_stations_10_20\n",
      "\n",
      "-_-_-_-_-_-_-_-_-_-_\n",
      "\n",
      "\n",
      "Data Loaded\n",
      "(1003888, 11)\n",
      "(1003862, 11)\n"
     ]
    },
    {
     "name": "stderr",
     "output_type": "stream",
     "text": [
      "/tmp/ipykernel_35896/2335456712.py:15: FutureWarning: Indexing with multiple keys (implicitly converted to a tuple of keys) will be deprecated, use a list instead.\n",
      "  df[[\"PREV_DATE\", \"PREV_ENTRIES\", \"PREV_EXITS\"]] = (df\n"
     ]
    },
    {
     "name": "stdout",
     "output_type": "stream",
     "text": [
      "63\n",
      "10\n",
      "0\n",
      "58\n",
      "5\n",
      "0\n",
      "saved:\tmta_data_cleaned/mta_stations_140_150\n",
      "\n",
      "-_-_-_-_-_-_-_-_-_-_\n",
      "\n",
      "\n",
      "Data Loaded\n",
      "(1375437, 11)\n",
      "(1375412, 11)\n"
     ]
    },
    {
     "name": "stderr",
     "output_type": "stream",
     "text": [
      "/tmp/ipykernel_35896/2335456712.py:15: FutureWarning: Indexing with multiple keys (implicitly converted to a tuple of keys) will be deprecated, use a list instead.\n",
      "  df[[\"PREV_DATE\", \"PREV_ENTRIES\", \"PREV_EXITS\"]] = (df\n"
     ]
    },
    {
     "name": "stdout",
     "output_type": "stream",
     "text": [
      "105\n",
      "51\n",
      "0\n",
      "90\n",
      "24\n",
      "0\n",
      "saved:\tmta_data_cleaned/mta_stations_210_220\n",
      "\n",
      "-_-_-_-_-_-_-_-_-_-_\n",
      "\n",
      "\n",
      "Data Loaded\n",
      "(856395, 11)\n",
      "(856394, 11)\n"
     ]
    },
    {
     "name": "stderr",
     "output_type": "stream",
     "text": [
      "/tmp/ipykernel_35896/2335456712.py:15: FutureWarning: Indexing with multiple keys (implicitly converted to a tuple of keys) will be deprecated, use a list instead.\n",
      "  df[[\"PREV_DATE\", \"PREV_ENTRIES\", \"PREV_EXITS\"]] = (df\n"
     ]
    },
    {
     "name": "stdout",
     "output_type": "stream",
     "text": [
      "55\n",
      "24\n",
      "0\n",
      "68\n",
      "34\n",
      "0\n",
      "saved:\tmta_data_cleaned/mta_stations_340_350\n",
      "\n",
      "-_-_-_-_-_-_-_-_-_-_\n",
      "\n",
      "\n",
      "Data Loaded\n",
      "(563366, 11)\n",
      "(563365, 11)\n"
     ]
    },
    {
     "name": "stderr",
     "output_type": "stream",
     "text": [
      "/tmp/ipykernel_35896/2335456712.py:15: FutureWarning: Indexing with multiple keys (implicitly converted to a tuple of keys) will be deprecated, use a list instead.\n",
      "  df[[\"PREV_DATE\", \"PREV_ENTRIES\", \"PREV_EXITS\"]] = (df\n"
     ]
    },
    {
     "name": "stdout",
     "output_type": "stream",
     "text": [
      "33\n",
      "17\n",
      "0\n",
      "31\n",
      "16\n",
      "0\n",
      "saved:\tmta_data_cleaned/mta_stations_310_320\n",
      "\n",
      "-_-_-_-_-_-_-_-_-_-_\n",
      "\n",
      "\n",
      "Data Loaded\n",
      "(1257235, 11)\n",
      "(1257235, 11)\n"
     ]
    },
    {
     "name": "stderr",
     "output_type": "stream",
     "text": [
      "/tmp/ipykernel_35896/2335456712.py:15: FutureWarning: Indexing with multiple keys (implicitly converted to a tuple of keys) will be deprecated, use a list instead.\n",
      "  df[[\"PREV_DATE\", \"PREV_ENTRIES\", \"PREV_EXITS\"]] = (df\n"
     ]
    },
    {
     "name": "stdout",
     "output_type": "stream",
     "text": [
      "73\n",
      "19\n",
      "0\n",
      "68\n",
      "14\n",
      "0\n",
      "saved:\tmta_data_cleaned/mta_stations_200_210\n",
      "\n",
      "-_-_-_-_-_-_-_-_-_-_\n",
      "\n",
      "\n",
      "Data Loaded\n",
      "(1322889, 11)\n",
      "(1322887, 11)\n"
     ]
    },
    {
     "name": "stderr",
     "output_type": "stream",
     "text": [
      "/tmp/ipykernel_35896/2335456712.py:15: FutureWarning: Indexing with multiple keys (implicitly converted to a tuple of keys) will be deprecated, use a list instead.\n",
      "  df[[\"PREV_DATE\", \"PREV_ENTRIES\", \"PREV_EXITS\"]] = (df\n"
     ]
    },
    {
     "name": "stdout",
     "output_type": "stream",
     "text": [
      "162\n",
      "48\n",
      "0\n",
      "169\n",
      "77\n",
      "0\n",
      "saved:\tmta_data_cleaned/mta_stations_230_240\n",
      "\n",
      "-_-_-_-_-_-_-_-_-_-_\n",
      "\n",
      "\n",
      "Data Loaded\n",
      "(1008708, 11)\n",
      "(1008705, 11)\n"
     ]
    },
    {
     "name": "stderr",
     "output_type": "stream",
     "text": [
      "/tmp/ipykernel_35896/2335456712.py:15: FutureWarning: Indexing with multiple keys (implicitly converted to a tuple of keys) will be deprecated, use a list instead.\n",
      "  df[[\"PREV_DATE\", \"PREV_ENTRIES\", \"PREV_EXITS\"]] = (df\n"
     ]
    },
    {
     "name": "stdout",
     "output_type": "stream",
     "text": [
      "56\n",
      "19\n",
      "0\n",
      "51\n",
      "13\n",
      "0\n",
      "saved:\tmta_data_cleaned/mta_stations_20_30\n",
      "\n",
      "-_-_-_-_-_-_-_-_-_-_\n",
      "\n",
      "\n",
      "Data Loaded\n",
      "(642675, 11)\n",
      "(642672, 11)\n"
     ]
    },
    {
     "name": "stderr",
     "output_type": "stream",
     "text": [
      "/tmp/ipykernel_35896/2335456712.py:15: FutureWarning: Indexing with multiple keys (implicitly converted to a tuple of keys) will be deprecated, use a list instead.\n",
      "  df[[\"PREV_DATE\", \"PREV_ENTRIES\", \"PREV_EXITS\"]] = (df\n"
     ]
    },
    {
     "name": "stdout",
     "output_type": "stream",
     "text": [
      "33\n",
      "11\n",
      "0\n",
      "29\n",
      "9\n",
      "0\n",
      "saved:\tmta_data_cleaned/mta_stations_320_330\n",
      "\n",
      "-_-_-_-_-_-_-_-_-_-_\n",
      "\n",
      "\n",
      "Data Loaded\n",
      "(1783145, 11)\n",
      "(1783138, 11)\n"
     ]
    },
    {
     "name": "stderr",
     "output_type": "stream",
     "text": [
      "/tmp/ipykernel_35896/2335456712.py:15: FutureWarning: Indexing with multiple keys (implicitly converted to a tuple of keys) will be deprecated, use a list instead.\n",
      "  df[[\"PREV_DATE\", \"PREV_ENTRIES\", \"PREV_EXITS\"]] = (df\n"
     ]
    },
    {
     "name": "stdout",
     "output_type": "stream",
     "text": [
      "191\n",
      "70\n",
      "0\n",
      "164\n",
      "45\n",
      "0\n",
      "saved:\tmta_data_cleaned/mta_stations_120_130\n",
      "\n",
      "-_-_-_-_-_-_-_-_-_-_\n",
      "\n",
      "\n",
      "Data Loaded\n",
      "(715821, 11)\n",
      "(715706, 11)\n"
     ]
    },
    {
     "name": "stderr",
     "output_type": "stream",
     "text": [
      "/tmp/ipykernel_35896/2335456712.py:15: FutureWarning: Indexing with multiple keys (implicitly converted to a tuple of keys) will be deprecated, use a list instead.\n",
      "  df[[\"PREV_DATE\", \"PREV_ENTRIES\", \"PREV_EXITS\"]] = (df\n"
     ]
    },
    {
     "name": "stdout",
     "output_type": "stream",
     "text": [
      "77\n",
      "42\n",
      "0\n",
      "32\n",
      "8\n",
      "0\n",
      "saved:\tmta_data_cleaned/mta_stations_370_380\n",
      "\n",
      "-_-_-_-_-_-_-_-_-_-_\n",
      "\n",
      "\n",
      "Data Loaded\n",
      "(998447, 11)\n",
      "(998415, 11)\n"
     ]
    },
    {
     "name": "stderr",
     "output_type": "stream",
     "text": [
      "/tmp/ipykernel_35896/2335456712.py:15: FutureWarning: Indexing with multiple keys (implicitly converted to a tuple of keys) will be deprecated, use a list instead.\n",
      "  df[[\"PREV_DATE\", \"PREV_ENTRIES\", \"PREV_EXITS\"]] = (df\n"
     ]
    },
    {
     "name": "stdout",
     "output_type": "stream",
     "text": [
      "72\n",
      "26\n",
      "0\n",
      "65\n",
      "17\n",
      "0\n",
      "saved:\tmta_data_cleaned/mta_stations_60_70\n",
      "\n",
      "-_-_-_-_-_-_-_-_-_-_\n",
      "\n",
      "\n",
      "Data Loaded\n",
      "(605802, 11)\n",
      "(605798, 11)\n"
     ]
    },
    {
     "name": "stderr",
     "output_type": "stream",
     "text": [
      "/tmp/ipykernel_35896/2335456712.py:15: FutureWarning: Indexing with multiple keys (implicitly converted to a tuple of keys) will be deprecated, use a list instead.\n",
      "  df[[\"PREV_DATE\", \"PREV_ENTRIES\", \"PREV_EXITS\"]] = (df\n"
     ]
    },
    {
     "name": "stdout",
     "output_type": "stream",
     "text": [
      "58\n",
      "22\n",
      "0\n",
      "65\n",
      "16\n",
      "0\n",
      "saved:\tmta_data_cleaned/mta_stations_80_90\n",
      "\n",
      "-_-_-_-_-_-_-_-_-_-_\n",
      "\n",
      "\n",
      "Data Loaded\n",
      "(1850189, 11)\n",
      "(1850130, 11)\n"
     ]
    },
    {
     "name": "stderr",
     "output_type": "stream",
     "text": [
      "/tmp/ipykernel_35896/2335456712.py:15: FutureWarning: Indexing with multiple keys (implicitly converted to a tuple of keys) will be deprecated, use a list instead.\n",
      "  df[[\"PREV_DATE\", \"PREV_ENTRIES\", \"PREV_EXITS\"]] = (df\n"
     ]
    },
    {
     "name": "stdout",
     "output_type": "stream",
     "text": [
      "160\n",
      "76\n",
      "0\n",
      "143\n",
      "45\n",
      "0\n",
      "saved:\tmta_data_cleaned/mta_stations_50_60\n",
      "\n",
      "-_-_-_-_-_-_-_-_-_-_\n",
      "\n",
      "\n",
      "Data Loaded\n",
      "(558623, 11)\n",
      "(558623, 11)\n"
     ]
    },
    {
     "name": "stderr",
     "output_type": "stream",
     "text": [
      "/tmp/ipykernel_35896/2335456712.py:15: FutureWarning: Indexing with multiple keys (implicitly converted to a tuple of keys) will be deprecated, use a list instead.\n",
      "  df[[\"PREV_DATE\", \"PREV_ENTRIES\", \"PREV_EXITS\"]] = (df\n"
     ]
    },
    {
     "name": "stdout",
     "output_type": "stream",
     "text": [
      "42\n",
      "23\n",
      "0\n",
      "35\n",
      "18\n",
      "0\n",
      "saved:\tmta_data_cleaned/mta_stations_300_310\n",
      "\n",
      "-_-_-_-_-_-_-_-_-_-_\n",
      "\n",
      "\n",
      "Data Loaded\n",
      "(470183, 11)\n",
      "(470182, 11)\n"
     ]
    },
    {
     "name": "stderr",
     "output_type": "stream",
     "text": [
      "/tmp/ipykernel_35896/2335456712.py:15: FutureWarning: Indexing with multiple keys (implicitly converted to a tuple of keys) will be deprecated, use a list instead.\n",
      "  df[[\"PREV_DATE\", \"PREV_ENTRIES\", \"PREV_EXITS\"]] = (df\n"
     ]
    },
    {
     "name": "stdout",
     "output_type": "stream",
     "text": [
      "32\n",
      "8\n",
      "0\n",
      "25\n",
      "4\n",
      "0\n",
      "saved:\tmta_data_cleaned/mta_stations_160_170\n",
      "\n",
      "-_-_-_-_-_-_-_-_-_-_\n",
      "\n",
      "\n",
      "Data Loaded\n",
      "(658996, 11)\n",
      "(658980, 11)\n"
     ]
    },
    {
     "name": "stderr",
     "output_type": "stream",
     "text": [
      "/tmp/ipykernel_35896/2335456712.py:15: FutureWarning: Indexing with multiple keys (implicitly converted to a tuple of keys) will be deprecated, use a list instead.\n",
      "  df[[\"PREV_DATE\", \"PREV_ENTRIES\", \"PREV_EXITS\"]] = (df\n"
     ]
    },
    {
     "name": "stdout",
     "output_type": "stream",
     "text": [
      "39\n",
      "19\n",
      "0\n",
      "31\n",
      "9\n",
      "0\n",
      "saved:\tmta_data_cleaned/mta_stations_100_110\n",
      "\n",
      "-_-_-_-_-_-_-_-_-_-_\n",
      "\n",
      "\n",
      "Data Loaded\n",
      "(1644243, 11)\n",
      "(1644202, 11)\n"
     ]
    },
    {
     "name": "stderr",
     "output_type": "stream",
     "text": [
      "/tmp/ipykernel_35896/2335456712.py:15: FutureWarning: Indexing with multiple keys (implicitly converted to a tuple of keys) will be deprecated, use a list instead.\n",
      "  df[[\"PREV_DATE\", \"PREV_ENTRIES\", \"PREV_EXITS\"]] = (df\n"
     ]
    },
    {
     "name": "stdout",
     "output_type": "stream",
     "text": [
      "137\n",
      "56\n",
      "0\n",
      "130\n",
      "51\n",
      "0\n",
      "saved:\tmta_data_cleaned/mta_stations_40_50\n",
      "\n",
      "-_-_-_-_-_-_-_-_-_-_\n",
      "\n",
      "\n",
      "Data Loaded\n",
      "(792349, 11)\n",
      "(792280, 11)\n"
     ]
    },
    {
     "name": "stderr",
     "output_type": "stream",
     "text": [
      "/tmp/ipykernel_35896/2335456712.py:15: FutureWarning: Indexing with multiple keys (implicitly converted to a tuple of keys) will be deprecated, use a list instead.\n",
      "  df[[\"PREV_DATE\", \"PREV_ENTRIES\", \"PREV_EXITS\"]] = (df\n"
     ]
    },
    {
     "name": "stdout",
     "output_type": "stream",
     "text": [
      "74\n",
      "36\n",
      "0\n",
      "69\n",
      "31\n",
      "0\n",
      "saved:\tmta_data_cleaned/mta_stations_330_340\n",
      "\n",
      "-_-_-_-_-_-_-_-_-_-_\n",
      "\n",
      "\n",
      "Data Loaded\n",
      "(460201, 11)\n",
      "(460191, 11)\n"
     ]
    },
    {
     "name": "stderr",
     "output_type": "stream",
     "text": [
      "/tmp/ipykernel_35896/2335456712.py:15: FutureWarning: Indexing with multiple keys (implicitly converted to a tuple of keys) will be deprecated, use a list instead.\n",
      "  df[[\"PREV_DATE\", \"PREV_ENTRIES\", \"PREV_EXITS\"]] = (df\n"
     ]
    },
    {
     "name": "stdout",
     "output_type": "stream",
     "text": [
      "25\n",
      "12\n",
      "0\n",
      "25\n",
      "13\n",
      "0\n",
      "saved:\tmta_data_cleaned/mta_stations_360_370\n",
      "\n",
      "-_-_-_-_-_-_-_-_-_-_\n",
      "\n",
      "\n",
      "Data Loaded\n",
      "(1312453, 11)\n",
      "(1312444, 11)\n"
     ]
    },
    {
     "name": "stderr",
     "output_type": "stream",
     "text": [
      "/tmp/ipykernel_35896/2335456712.py:15: FutureWarning: Indexing with multiple keys (implicitly converted to a tuple of keys) will be deprecated, use a list instead.\n",
      "  df[[\"PREV_DATE\", \"PREV_ENTRIES\", \"PREV_EXITS\"]] = (df\n"
     ]
    },
    {
     "name": "stdout",
     "output_type": "stream",
     "text": [
      "90\n",
      "40\n",
      "0\n",
      "76\n",
      "28\n",
      "0\n",
      "saved:\tmta_data_cleaned/mta_stations_190_200\n",
      "\n",
      "-_-_-_-_-_-_-_-_-_-_\n",
      "\n",
      "\n",
      "Data Loaded\n",
      "(1113942, 11)\n",
      "(1113927, 11)\n"
     ]
    },
    {
     "name": "stderr",
     "output_type": "stream",
     "text": [
      "/tmp/ipykernel_35896/2335456712.py:15: FutureWarning: Indexing with multiple keys (implicitly converted to a tuple of keys) will be deprecated, use a list instead.\n",
      "  df[[\"PREV_DATE\", \"PREV_ENTRIES\", \"PREV_EXITS\"]] = (df\n"
     ]
    },
    {
     "name": "stdout",
     "output_type": "stream",
     "text": [
      "116\n",
      "55\n",
      "0\n",
      "110\n",
      "40\n",
      "0\n",
      "saved:\tmta_data_cleaned/mta_stations_170_180\n",
      "\n",
      "-_-_-_-_-_-_-_-_-_-_\n",
      "\n",
      "\n",
      "Data Loaded\n",
      "(1434968, 11)\n",
      "(1434961, 11)\n"
     ]
    },
    {
     "name": "stderr",
     "output_type": "stream",
     "text": [
      "/tmp/ipykernel_35896/2335456712.py:15: FutureWarning: Indexing with multiple keys (implicitly converted to a tuple of keys) will be deprecated, use a list instead.\n",
      "  df[[\"PREV_DATE\", \"PREV_ENTRIES\", \"PREV_EXITS\"]] = (df\n"
     ]
    },
    {
     "name": "stdout",
     "output_type": "stream",
     "text": [
      "53\n",
      "17\n",
      "0\n",
      "52\n",
      "11\n",
      "0\n",
      "saved:\tmta_data_cleaned/mta_stations_350_360\n",
      "\n",
      "-_-_-_-_-_-_-_-_-_-_\n",
      "\n",
      "\n",
      "Data Loaded\n",
      "(686404, 11)\n",
      "(686391, 11)\n"
     ]
    },
    {
     "name": "stderr",
     "output_type": "stream",
     "text": [
      "/tmp/ipykernel_35896/2335456712.py:15: FutureWarning: Indexing with multiple keys (implicitly converted to a tuple of keys) will be deprecated, use a list instead.\n",
      "  df[[\"PREV_DATE\", \"PREV_ENTRIES\", \"PREV_EXITS\"]] = (df\n"
     ]
    },
    {
     "name": "stdout",
     "output_type": "stream",
     "text": [
      "138\n",
      "39\n",
      "0\n",
      "122\n",
      "21\n",
      "0\n",
      "saved:\tmta_data_cleaned/mta_stations_90_100\n",
      "\n",
      "-_-_-_-_-_-_-_-_-_-_\n",
      "\n",
      "\n",
      "Data Loaded\n",
      "(3559651, 11)\n",
      "(3559579, 11)\n"
     ]
    },
    {
     "name": "stderr",
     "output_type": "stream",
     "text": [
      "/tmp/ipykernel_35896/2335456712.py:15: FutureWarning: Indexing with multiple keys (implicitly converted to a tuple of keys) will be deprecated, use a list instead.\n",
      "  df[[\"PREV_DATE\", \"PREV_ENTRIES\", \"PREV_EXITS\"]] = (df\n"
     ]
    },
    {
     "name": "stdout",
     "output_type": "stream",
     "text": [
      "392\n",
      "184\n",
      "0\n",
      "387\n",
      "171\n",
      "0\n",
      "saved:\tmta_data_cleaned/mta_stations_0_10\n",
      "\n",
      "-_-_-_-_-_-_-_-_-_-_\n",
      "\n",
      "\n",
      "Data Loaded\n",
      "(1942038, 11)\n",
      "(1942017, 11)\n"
     ]
    },
    {
     "name": "stderr",
     "output_type": "stream",
     "text": [
      "/tmp/ipykernel_35896/2335456712.py:15: FutureWarning: Indexing with multiple keys (implicitly converted to a tuple of keys) will be deprecated, use a list instead.\n",
      "  df[[\"PREV_DATE\", \"PREV_ENTRIES\", \"PREV_EXITS\"]] = (df\n"
     ]
    },
    {
     "name": "stdout",
     "output_type": "stream",
     "text": [
      "1179\n",
      "197\n",
      "0\n",
      "1175\n",
      "242\n",
      "0\n",
      "saved:\tmta_data_cleaned/mta_stations_250_260\n",
      "\n",
      "-_-_-_-_-_-_-_-_-_-_\n",
      "\n",
      "\n",
      "Data Loaded\n",
      "(546284, 11)\n",
      "(546283, 11)\n"
     ]
    },
    {
     "name": "stderr",
     "output_type": "stream",
     "text": [
      "/tmp/ipykernel_35896/2335456712.py:15: FutureWarning: Indexing with multiple keys (implicitly converted to a tuple of keys) will be deprecated, use a list instead.\n",
      "  df[[\"PREV_DATE\", \"PREV_ENTRIES\", \"PREV_EXITS\"]] = (df\n"
     ]
    },
    {
     "name": "stdout",
     "output_type": "stream",
     "text": [
      "53\n",
      "37\n",
      "0\n",
      "49\n",
      "35\n",
      "0\n",
      "saved:\tmta_data_cleaned/mta_stations_150_160\n",
      "\n",
      "-_-_-_-_-_-_-_-_-_-_\n",
      "\n",
      "\n",
      "Data Loaded\n",
      "(1128140, 11)\n",
      "(1128136, 11)\n"
     ]
    },
    {
     "name": "stderr",
     "output_type": "stream",
     "text": [
      "/tmp/ipykernel_35896/2335456712.py:15: FutureWarning: Indexing with multiple keys (implicitly converted to a tuple of keys) will be deprecated, use a list instead.\n",
      "  df[[\"PREV_DATE\", \"PREV_ENTRIES\", \"PREV_EXITS\"]] = (df\n"
     ]
    },
    {
     "name": "stdout",
     "output_type": "stream",
     "text": [
      "110\n",
      "47\n",
      "0\n",
      "95\n",
      "18\n",
      "0\n",
      "saved:\tmta_data_cleaned/mta_stations_270_280\n",
      "\n",
      "-_-_-_-_-_-_-_-_-_-_\n",
      "\n",
      "\n",
      "Data Loaded\n",
      "(710305, 11)\n",
      "(710300, 11)\n"
     ]
    },
    {
     "name": "stderr",
     "output_type": "stream",
     "text": [
      "/tmp/ipykernel_35896/2335456712.py:15: FutureWarning: Indexing with multiple keys (implicitly converted to a tuple of keys) will be deprecated, use a list instead.\n",
      "  df[[\"PREV_DATE\", \"PREV_ENTRIES\", \"PREV_EXITS\"]] = (df\n"
     ]
    },
    {
     "name": "stdout",
     "output_type": "stream",
     "text": [
      "34\n",
      "14\n",
      "0\n",
      "29\n",
      "9\n",
      "0\n",
      "saved:\tmta_data_cleaned/mta_stations_110_120\n",
      "\n",
      "-_-_-_-_-_-_-_-_-_-_\n",
      "\n",
      "\n",
      "\n",
      "\n",
      "\n",
      "-_-_-_-_-_-_-_-_-_-_\n",
      "All Done\n"
     ]
    }
   ],
   "source": [
    "path = './mta_data_raw/'\n",
    "df_list = []\n",
    "\n",
    "for filename in os.listdir(path):\n",
    "    if 'mta_stations_' in filename:\n",
    "\n",
    "        df = load_pickle(path+filename)\n",
    "        genrate_dates(df)\n",
    "        print('Data Loaded')\n",
    "        \n",
    "        remove_duplicates(df)\n",
    "        shift_drop(df)\n",
    "        tally_entrances(df)\n",
    "        generate_line_density(df)\n",
    "        # generate_7_day_totals(df)\n",
    "        # group_by_date(df)\n",
    "\n",
    "        pickle_file(df, f\"mta_data_cleaned/{filename}\")\n",
    "        print(f\"saved:\\tmta_data_cleaned/{filename}\\n\")\n",
    "        print('-_'*10)\n",
    "        print('\\n')\n",
    "\n",
    "print('\\n\\n\\n'+ '-_'*10)\n",
    "print('All Done')"
   ]
  },
  {
   "cell_type": "code",
   "execution_count": 6,
   "id": "2d712f9f-760e-41bc-b090-8f46e2f54519",
   "metadata": {},
   "outputs": [
    {
     "name": "stdout",
     "output_type": "stream",
     "text": [
      "./mta_data_cleaned/mta_stations_30_40 loaded (23922 rows)\n",
      "./mta_data_cleaned/mta_stations_70_80 loaded (19136 rows)\n",
      "./mta_data_cleaned/mta_stations_260_270 loaded (17534 rows)\n",
      "./mta_data_cleaned/mta_stations_220_230 loaded (15776 rows)\n",
      "./mta_data_cleaned/mta_stations_130_140 loaded (31763 rows)\n",
      "./mta_data_cleaned/mta_stations_240_250 loaded (15957 rows)\n",
      "./mta_data_cleaned/mta_stations_290_300 loaded (15956 rows)\n",
      "./mta_data_cleaned/mta_stations_280_290 loaded (15959 rows)\n",
      "./mta_data_cleaned/mta_stations_180_190 loaded (19151 rows)\n",
      "./mta_data_cleaned/mta_stations_10_20 loaded (27152 rows)\n",
      "./mta_data_cleaned/mta_stations_140_150 loaded (22337 rows)\n",
      "./mta_data_cleaned/mta_stations_210_220 loaded (17549 rows)\n",
      "./mta_data_cleaned/mta_stations_340_350 loaded (15953 rows)\n",
      "./mta_data_cleaned/mta_stations_310_320 loaded (15951 rows)\n",
      "./mta_data_cleaned/mta_stations_200_210 loaded (18946 rows)\n",
      "./mta_data_cleaned/mta_stations_230_240 loaded (15954 rows)\n",
      "./mta_data_cleaned/mta_stations_20_30 loaded (23919 rows)\n",
      "./mta_data_cleaned/mta_stations_320_330 loaded (15955 rows)\n",
      "./mta_data_cleaned/mta_stations_120_130 loaded (36107 rows)\n",
      "./mta_data_cleaned/mta_stations_370_380 loaded (13149 rows)\n",
      "./mta_data_cleaned/mta_stations_60_70 loaded (20742 rows)\n",
      "./mta_data_cleaned/mta_stations_80_90 loaded (17532 rows)\n",
      "./mta_data_cleaned/mta_stations_50_60 loaded (36525 rows)\n",
      "./mta_data_cleaned/mta_stations_300_310 loaded (19145 rows)\n",
      "./mta_data_cleaned/mta_stations_160_170 loaded (15955 rows)\n",
      "./mta_data_cleaned/mta_stations_100_110 loaded (22153 rows)\n",
      "./mta_data_cleaned/mta_stations_40_50 loaded (23933 rows)\n",
      "./mta_data_cleaned/mta_stations_330_340 loaded (15131 rows)\n",
      "./mta_data_cleaned/mta_stations_360_370 loaded (15940 rows)\n",
      "./mta_data_cleaned/mta_stations_190_200 loaded (15959 rows)\n",
      "./mta_data_cleaned/mta_stations_170_180 loaded (22077 rows)\n",
      "./mta_data_cleaned/mta_stations_350_360 loaded (15911 rows)\n",
      "./mta_data_cleaned/mta_stations_90_100 loaded (19140 rows)\n",
      "./mta_data_cleaned/mta_stations_0_10 loaded (33192 rows)\n",
      "./mta_data_cleaned/mta_stations_250_260 loaded (15687 rows)\n",
      "./mta_data_cleaned/mta_stations_150_160 loaded (15959 rows)\n",
      "./mta_data_cleaned/mta_stations_270_280 loaded (15936 rows)\n",
      "./mta_data_cleaned/mta_stations_110_120 loaded (20156 rows)\n",
      "Saved:\t./mta_data_cleaned/mta_data_full\n"
     ]
    }
   ],
   "source": [
    "path = './mta_data_cleaned/'\n",
    "columns_of_interest = ['STATION', 'LINENAME', 'DATE',\n",
    "       'DAILY_ENTRIES', 'DAILY_EXITS', 'LINE_DENSITY']\n",
    "\n",
    "df_list = []\n",
    "for filename in os.listdir(path):\n",
    "    if 'mta_stations_' not in filename.lower():\n",
    "        print(f'Skipping:\\t{path+filename}', end='\\r', flush=True)\n",
    "        continue\n",
    "    print(f'Loading:\\t{path+filename}', end='\\r', flush=True)\n",
    "    df_list.append(load_pickle(path+filename)[columns_of_interest]\n",
    "        .groupby(['DATE', 'STATION', 'LINENAME']).sum())\n",
    "    print(f'{path+filename} loaded ({len(df_list[-1])} rows)', flush=True)\n",
    "\n",
    "df = pd.concat(df_list)\n",
    "print('Data Concactenated', end='\\r', flush=True)\n",
    "# df.sort_values('DAILY_ENTRIES',ascending=False)\n",
    "pickle_file(df, path+'mta_data_full')\n",
    "print(f'Saved:\\t{path}mta_data_full')\n"
   ]
  },
  {
   "cell_type": "code",
   "execution_count": 5,
   "id": "31f6340f",
   "metadata": {},
   "outputs": [
    {
     "data": {
      "text/html": [
       "<div>\n",
       "<style scoped>\n",
       "    .dataframe tbody tr th:only-of-type {\n",
       "        vertical-align: middle;\n",
       "    }\n",
       "\n",
       "    .dataframe tbody tr th {\n",
       "        vertical-align: top;\n",
       "    }\n",
       "\n",
       "    .dataframe thead th {\n",
       "        text-align: right;\n",
       "    }\n",
       "</style>\n",
       "<table border=\"1\" class=\"dataframe\">\n",
       "  <thead>\n",
       "    <tr style=\"text-align: right;\">\n",
       "      <th></th>\n",
       "      <th>C/A</th>\n",
       "      <th>UNIT</th>\n",
       "      <th>SCP</th>\n",
       "      <th>STATION</th>\n",
       "      <th>LINENAME</th>\n",
       "      <th>DATE</th>\n",
       "      <th>TIME</th>\n",
       "      <th>DATETIME</th>\n",
       "      <th>DESC</th>\n",
       "      <th>ENTRIES</th>\n",
       "      <th>EXITS</th>\n",
       "      <th>PREV_DATE</th>\n",
       "      <th>PREV_ENTRIES</th>\n",
       "      <th>PREV_EXITS</th>\n",
       "      <th>DAILY_ENTRIES</th>\n",
       "      <th>DAILY_EXITS</th>\n",
       "      <th>LINE_DENSITY</th>\n",
       "    </tr>\n",
       "  </thead>\n",
       "  <tbody>\n",
       "    <tr>\n",
       "      <th>6507</th>\n",
       "      <td>R604</td>\n",
       "      <td>R108</td>\n",
       "      <td>03-00-05</td>\n",
       "      <td>BOROUGH HALL</td>\n",
       "      <td>2345R</td>\n",
       "      <td>2022-05-13</td>\n",
       "      <td>16:00:00</td>\n",
       "      <td>2022-05-13 16:00:00</td>\n",
       "      <td>REGULAR</td>\n",
       "      <td>220781</td>\n",
       "      <td>127335</td>\n",
       "      <td>2022-05-13</td>\n",
       "      <td>221038.0</td>\n",
       "      <td>127455.0</td>\n",
       "      <td>257.0</td>\n",
       "      <td>120.0</td>\n",
       "      <td>75.4</td>\n",
       "    </tr>\n",
       "    <tr>\n",
       "      <th>6506</th>\n",
       "      <td>R604</td>\n",
       "      <td>R108</td>\n",
       "      <td>03-00-05</td>\n",
       "      <td>BOROUGH HALL</td>\n",
       "      <td>2345R</td>\n",
       "      <td>2022-05-13</td>\n",
       "      <td>12:00:00</td>\n",
       "      <td>2022-05-13 12:00:00</td>\n",
       "      <td>REGULAR</td>\n",
       "      <td>220542</td>\n",
       "      <td>127222</td>\n",
       "      <td>2022-05-13</td>\n",
       "      <td>220781.0</td>\n",
       "      <td>127335.0</td>\n",
       "      <td>239.0</td>\n",
       "      <td>113.0</td>\n",
       "      <td>70.4</td>\n",
       "    </tr>\n",
       "    <tr>\n",
       "      <th>6505</th>\n",
       "      <td>R604</td>\n",
       "      <td>R108</td>\n",
       "      <td>03-00-05</td>\n",
       "      <td>BOROUGH HALL</td>\n",
       "      <td>2345R</td>\n",
       "      <td>2022-05-13</td>\n",
       "      <td>08:00:00</td>\n",
       "      <td>2022-05-13 08:00:00</td>\n",
       "      <td>REGULAR</td>\n",
       "      <td>220363</td>\n",
       "      <td>127078</td>\n",
       "      <td>2022-05-13</td>\n",
       "      <td>220542.0</td>\n",
       "      <td>127222.0</td>\n",
       "      <td>179.0</td>\n",
       "      <td>144.0</td>\n",
       "      <td>64.6</td>\n",
       "    </tr>\n",
       "    <tr>\n",
       "      <th>6504</th>\n",
       "      <td>R604</td>\n",
       "      <td>R108</td>\n",
       "      <td>03-00-05</td>\n",
       "      <td>BOROUGH HALL</td>\n",
       "      <td>2345R</td>\n",
       "      <td>2022-05-13</td>\n",
       "      <td>04:00:00</td>\n",
       "      <td>2022-05-13 04:00:00</td>\n",
       "      <td>REGULAR</td>\n",
       "      <td>220305</td>\n",
       "      <td>126993</td>\n",
       "      <td>2022-05-13</td>\n",
       "      <td>220363.0</td>\n",
       "      <td>127078.0</td>\n",
       "      <td>58.0</td>\n",
       "      <td>85.0</td>\n",
       "      <td>28.6</td>\n",
       "    </tr>\n",
       "    <tr>\n",
       "      <th>6503</th>\n",
       "      <td>R604</td>\n",
       "      <td>R108</td>\n",
       "      <td>03-00-05</td>\n",
       "      <td>BOROUGH HALL</td>\n",
       "      <td>2345R</td>\n",
       "      <td>2022-05-13</td>\n",
       "      <td>00:00:00</td>\n",
       "      <td>2022-05-13 00:00:00</td>\n",
       "      <td>REGULAR</td>\n",
       "      <td>220299</td>\n",
       "      <td>126984</td>\n",
       "      <td>2022-05-13</td>\n",
       "      <td>220305.0</td>\n",
       "      <td>126993.0</td>\n",
       "      <td>6.0</td>\n",
       "      <td>9.0</td>\n",
       "      <td>3.0</td>\n",
       "    </tr>\n",
       "  </tbody>\n",
       "</table>\n",
       "</div>"
      ],
      "text/plain": [
       "       C/A  UNIT       SCP       STATION LINENAME       DATE      TIME  \\\n",
       "6507  R604  R108  03-00-05  BOROUGH HALL    2345R 2022-05-13  16:00:00   \n",
       "6506  R604  R108  03-00-05  BOROUGH HALL    2345R 2022-05-13  12:00:00   \n",
       "6505  R604  R108  03-00-05  BOROUGH HALL    2345R 2022-05-13  08:00:00   \n",
       "6504  R604  R108  03-00-05  BOROUGH HALL    2345R 2022-05-13  04:00:00   \n",
       "6503  R604  R108  03-00-05  BOROUGH HALL    2345R 2022-05-13  00:00:00   \n",
       "\n",
       "                DATETIME     DESC  ENTRIES   EXITS  PREV_DATE  PREV_ENTRIES  \\\n",
       "6507 2022-05-13 16:00:00  REGULAR   220781  127335 2022-05-13      221038.0   \n",
       "6506 2022-05-13 12:00:00  REGULAR   220542  127222 2022-05-13      220781.0   \n",
       "6505 2022-05-13 08:00:00  REGULAR   220363  127078 2022-05-13      220542.0   \n",
       "6504 2022-05-13 04:00:00  REGULAR   220305  126993 2022-05-13      220363.0   \n",
       "6503 2022-05-13 00:00:00  REGULAR   220299  126984 2022-05-13      220305.0   \n",
       "\n",
       "      PREV_EXITS  DAILY_ENTRIES  DAILY_EXITS  LINE_DENSITY  \n",
       "6507    127455.0          257.0        120.0          75.4  \n",
       "6506    127335.0          239.0        113.0          70.4  \n",
       "6505    127222.0          179.0        144.0          64.6  \n",
       "6504    127078.0           58.0         85.0          28.6  \n",
       "6503    126993.0            6.0          9.0           3.0  "
      ]
     },
     "execution_count": 5,
     "metadata": {},
     "output_type": "execute_result"
    }
   ],
   "source": [
    "load_pickle('./mta_data_cleaned/mta_stations_30_40').head()"
   ]
  },
  {
   "cell_type": "code",
   "execution_count": 6,
   "id": "f73b27d1",
   "metadata": {},
   "outputs": [],
   "source": [
    "df = load_pickle('./mta_data_cleaned/mta_data_full')\n",
    "df.reset_index(inplace=True)\n"
   ]
  },
  {
   "cell_type": "code",
   "execution_count": 8,
   "id": "0bcdf2db",
   "metadata": {},
   "outputs": [
    {
     "data": {
      "text/html": [
       "<div>\n",
       "<style scoped>\n",
       "    .dataframe tbody tr th:only-of-type {\n",
       "        vertical-align: middle;\n",
       "    }\n",
       "\n",
       "    .dataframe tbody tr th {\n",
       "        vertical-align: top;\n",
       "    }\n",
       "\n",
       "    .dataframe thead th {\n",
       "        text-align: right;\n",
       "    }\n",
       "</style>\n",
       "<table border=\"1\" class=\"dataframe\">\n",
       "  <thead>\n",
       "    <tr style=\"text-align: right;\">\n",
       "      <th></th>\n",
       "      <th>DATE</th>\n",
       "      <th>STATION</th>\n",
       "      <th>DAILY_ENTRIES</th>\n",
       "      <th>DAILY_EXITS</th>\n",
       "      <th>LINE_DENSITY</th>\n",
       "    </tr>\n",
       "  </thead>\n",
       "  <tbody>\n",
       "    <tr>\n",
       "      <th>0</th>\n",
       "      <td>2017-12-30</td>\n",
       "      <td>AVENUE H</td>\n",
       "      <td>1359.0</td>\n",
       "      <td>1177.0</td>\n",
       "      <td>1268.0</td>\n",
       "    </tr>\n",
       "    <tr>\n",
       "      <th>1</th>\n",
       "      <td>2017-12-30</td>\n",
       "      <td>AVENUE J</td>\n",
       "      <td>2693.0</td>\n",
       "      <td>1302.0</td>\n",
       "      <td>1997.5</td>\n",
       "    </tr>\n",
       "    <tr>\n",
       "      <th>2</th>\n",
       "      <td>2017-12-30</td>\n",
       "      <td>AVENUE M</td>\n",
       "      <td>2265.0</td>\n",
       "      <td>875.0</td>\n",
       "      <td>1570.0</td>\n",
       "    </tr>\n",
       "    <tr>\n",
       "      <th>3</th>\n",
       "      <td>2017-12-30</td>\n",
       "      <td>AVENUE U</td>\n",
       "      <td>6038.0</td>\n",
       "      <td>2258.0</td>\n",
       "      <td>5548.0</td>\n",
       "    </tr>\n",
       "    <tr>\n",
       "      <th>4</th>\n",
       "      <td>2017-12-30</td>\n",
       "      <td>BOROUGH HALL</td>\n",
       "      <td>11287.0</td>\n",
       "      <td>7501.0</td>\n",
       "      <td>3757.6</td>\n",
       "    </tr>\n",
       "  </tbody>\n",
       "</table>\n",
       "</div>"
      ],
      "text/plain": [
       "        DATE       STATION  DAILY_ENTRIES  DAILY_EXITS  LINE_DENSITY\n",
       "0 2017-12-30      AVENUE H         1359.0       1177.0        1268.0\n",
       "1 2017-12-30      AVENUE J         2693.0       1302.0        1997.5\n",
       "2 2017-12-30      AVENUE M         2265.0        875.0        1570.0\n",
       "3 2017-12-30      AVENUE U         6038.0       2258.0        5548.0\n",
       "4 2017-12-30  BOROUGH HALL        11287.0       7501.0        3757.6"
      ]
     },
     "execution_count": 8,
     "metadata": {},
     "output_type": "execute_result"
    }
   ],
   "source": [
    "df.head()"
   ]
  },
  {
   "cell_type": "code",
   "execution_count": 7,
   "id": "69c3cd70",
   "metadata": {},
   "outputs": [
    {
     "data": {
      "text/plain": [
       "<AxesSubplot:xlabel='DATE'>"
      ]
     },
     "execution_count": 7,
     "metadata": {},
     "output_type": "execute_result"
    },
    {
     "data": {
      "image/png": "[encoded data removed]",
      "text/plain": [
       "<Figure size 432x288 with 1 Axes>"
      ]
     },
     "metadata": {
      "needs_background": "light"
     },
     "output_type": "display_data"
    },
    {
     "data": {
      "image/png": "[encoded data removed]",
      "text/plain": [
       "<Figure size 432x288 with 1 Axes>"
      ]
     },
     "metadata": {
      "needs_background": "light"
     },
     "output_type": "display_data"
    },
    {
     "data": {
      "image/png": "[encoded data removed]",
      "text/plain": [
       "<Figure size 432x288 with 1 Axes>"
      ]
     },
     "metadata": {
      "needs_background": "light"
     },
     "output_type": "display_data"
    }
   ],
   "source": [
    "temp = (df#[(df.DATE.dt.dayofweek > 5)&(df.LINE_DENSITY < 100000000)]\n",
    "    .groupby('DATE').sum())\n",
    "temp.reset_index(inplace=True)\n",
    "# temp = df.groupby('DATE').sum()\n",
    "temp.plot.line('DATE','DAILY_ENTRIES')\n",
    "temp.plot.line('DATE','DAILY_EXITS')\n",
    "temp.plot.line('DATE','LINE_DENSITY')"
   ]
  },
  {
   "cell_type": "code",
   "execution_count": 50,
   "id": "bf33ffd9",
   "metadata": {},
   "outputs": [
    {
     "data": {
      "text/html": [
       "<div>\n",
       "<style scoped>\n",
       "    .dataframe tbody tr th:only-of-type {\n",
       "        vertical-align: middle;\n",
       "    }\n",
       "\n",
       "    .dataframe tbody tr th {\n",
       "        vertical-align: top;\n",
       "    }\n",
       "\n",
       "    .dataframe thead th {\n",
       "        text-align: right;\n",
       "    }\n",
       "</style>\n",
       "<table border=\"1\" class=\"dataframe\">\n",
       "  <thead>\n",
       "    <tr style=\"text-align: right;\">\n",
       "      <th></th>\n",
       "      <th>DATE</th>\n",
       "      <th>DAILY_ENTRIES</th>\n",
       "      <th>DAILY_EXITS</th>\n",
       "      <th>LINE_DENSITY</th>\n",
       "      <th>DATE_OF_INTEREST</th>\n",
       "      <th>CASE_COUNT</th>\n",
       "      <th>probable_case_count</th>\n",
       "      <th>HOSPITALIZED_COUNT</th>\n",
       "      <th>DEATH_COUNT</th>\n",
       "      <th>DEATH_COUNT_PROBABLE</th>\n",
       "      <th>CASE_COUNT_7DAY_AVG</th>\n",
       "      <th>all_case_count_7day_avg</th>\n",
       "      <th>HOSP_COUNT_7DAY_AVG</th>\n",
       "      <th>DEATH_COUNT_7DAY_AVG</th>\n",
       "      <th>all_death_count_7day_avg</th>\n",
       "    </tr>\n",
       "  </thead>\n",
       "  <tbody>\n",
       "    <tr>\n",
       "      <th>0</th>\n",
       "      <td>2020-02-29</td>\n",
       "      <td>2.920760e+06</td>\n",
       "      <td>2.535655e+06</td>\n",
       "      <td>3.082079e+06</td>\n",
       "      <td>02/29/2020</td>\n",
       "      <td>1</td>\n",
       "      <td>0</td>\n",
       "      <td>1</td>\n",
       "      <td>0</td>\n",
       "      <td>0</td>\n",
       "      <td>0</td>\n",
       "      <td>0</td>\n",
       "      <td>0</td>\n",
       "      <td>0</td>\n",
       "      <td>0</td>\n",
       "    </tr>\n",
       "    <tr>\n",
       "      <th>1</th>\n",
       "      <td>2020-03-01</td>\n",
       "      <td>2.234216e+06</td>\n",
       "      <td>1.953210e+06</td>\n",
       "      <td>2.372123e+06</td>\n",
       "      <td>03/01/2020</td>\n",
       "      <td>0</td>\n",
       "      <td>0</td>\n",
       "      <td>1</td>\n",
       "      <td>0</td>\n",
       "      <td>0</td>\n",
       "      <td>0</td>\n",
       "      <td>0</td>\n",
       "      <td>0</td>\n",
       "      <td>0</td>\n",
       "      <td>0</td>\n",
       "    </tr>\n",
       "    <tr>\n",
       "      <th>2</th>\n",
       "      <td>2020-03-02</td>\n",
       "      <td>5.571754e+06</td>\n",
       "      <td>4.513982e+06</td>\n",
       "      <td>5.767868e+06</td>\n",
       "      <td>03/02/2020</td>\n",
       "      <td>0</td>\n",
       "      <td>0</td>\n",
       "      <td>2</td>\n",
       "      <td>0</td>\n",
       "      <td>0</td>\n",
       "      <td>0</td>\n",
       "      <td>0</td>\n",
       "      <td>0</td>\n",
       "      <td>0</td>\n",
       "      <td>0</td>\n",
       "    </tr>\n",
       "    <tr>\n",
       "      <th>3</th>\n",
       "      <td>2020-03-03</td>\n",
       "      <td>5.737157e+06</td>\n",
       "      <td>4.658798e+06</td>\n",
       "      <td>5.936575e+06</td>\n",
       "      <td>03/03/2020</td>\n",
       "      <td>1</td>\n",
       "      <td>0</td>\n",
       "      <td>7</td>\n",
       "      <td>0</td>\n",
       "      <td>0</td>\n",
       "      <td>0</td>\n",
       "      <td>0</td>\n",
       "      <td>0</td>\n",
       "      <td>0</td>\n",
       "      <td>0</td>\n",
       "    </tr>\n",
       "    <tr>\n",
       "      <th>4</th>\n",
       "      <td>2020-03-04</td>\n",
       "      <td>5.735428e+06</td>\n",
       "      <td>4.670542e+06</td>\n",
       "      <td>5.934603e+06</td>\n",
       "      <td>03/04/2020</td>\n",
       "      <td>5</td>\n",
       "      <td>0</td>\n",
       "      <td>2</td>\n",
       "      <td>0</td>\n",
       "      <td>0</td>\n",
       "      <td>0</td>\n",
       "      <td>0</td>\n",
       "      <td>0</td>\n",
       "      <td>0</td>\n",
       "      <td>0</td>\n",
       "    </tr>\n",
       "  </tbody>\n",
       "</table>\n",
       "</div>"
      ],
      "text/plain": [
       "        DATE  DAILY_ENTRIES   DAILY_EXITS  LINE_DENSITY DATE_OF_INTEREST  \\\n",
       "0 2020-02-29   2.920760e+06  2.535655e+06  3.082079e+06       02/29/2020   \n",
       "1 2020-03-01   2.234216e+06  1.953210e+06  2.372123e+06       03/01/2020   \n",
       "2 2020-03-02   5.571754e+06  4.513982e+06  5.767868e+06       03/02/2020   \n",
       "3 2020-03-03   5.737157e+06  4.658798e+06  5.936575e+06       03/03/2020   \n",
       "4 2020-03-04   5.735428e+06  4.670542e+06  5.934603e+06       03/04/2020   \n",
       "\n",
       "   CASE_COUNT  probable_case_count  HOSPITALIZED_COUNT  DEATH_COUNT  \\\n",
       "0           1                    0                   1            0   \n",
       "1           0                    0                   1            0   \n",
       "2           0                    0                   2            0   \n",
       "3           1                    0                   7            0   \n",
       "4           5                    0                   2            0   \n",
       "\n",
       "   DEATH_COUNT_PROBABLE  CASE_COUNT_7DAY_AVG  all_case_count_7day_avg  \\\n",
       "0                     0                    0                        0   \n",
       "1                     0                    0                        0   \n",
       "2                     0                    0                        0   \n",
       "3                     0                    0                        0   \n",
       "4                     0                    0                        0   \n",
       "\n",
       "   HOSP_COUNT_7DAY_AVG  DEATH_COUNT_7DAY_AVG  all_death_count_7day_avg  \n",
       "0                    0                     0                         0  \n",
       "1                    0                     0                         0  \n",
       "2                    0                     0                         0  \n",
       "3                    0                     0                         0  \n",
       "4                    0                     0                         0  "
      ]
     },
     "execution_count": 50,
     "metadata": {},
     "output_type": "execute_result"
    }
   ],
   "source": [
    "df = load_pickle('./mta_data_cleaned/mta_data_full')\n",
    "df.reset_index(inplace=True)\n",
    "df_covid = pd.read_csv('./covid_data_raw/COVID-19_Daily_Counts_of_Cases__Hospitalizations__and_Deaths.csv')\n",
    "\n",
    "# Retrieved list of columns from ~ df_covid.columns\n",
    "df_covid = df_covid[['DATE_OF_INTEREST', 'CASE_COUNT', 'probable_case_count',\n",
    "       'HOSPITALIZED_COUNT', 'DEATH_COUNT', 'DEATH_COUNT_PROBABLE',\n",
    "       'CASE_COUNT_7DAY_AVG', 'all_case_count_7day_avg', 'HOSP_COUNT_7DAY_AVG',\n",
    "       'DEATH_COUNT_7DAY_AVG', 'all_death_count_7day_avg']]\n",
    "\n",
    "df_covid['DATE'] = pd.to_datetime(df_covid.DATE_OF_INTEREST)\n",
    "\n",
    "df = pd.merge(df.groupby('DATE').sum(),\n",
    "              df_covid, on=['DATE', 'DATE'])\n",
    "\n",
    "pickle_file(df, './data_merged/mta_cases_daily')\n",
    "\n",
    "df.head()\n"
   ]
  },
  {
   "cell_type": "code",
   "execution_count": 43,
   "id": "cb86fd0b",
   "metadata": {},
   "outputs": [
    {
     "data": {
      "text/plain": [
       "<AxesSubplot:xlabel='DATE'>"
      ]
     },
     "execution_count": 43,
     "metadata": {},
     "output_type": "execute_result"
    },
    {
     "data": {
      "image/png": "[encoded data removed]",
      "text/plain": [
       "<Figure size 432x288 with 1 Axes>"
      ]
     },
     "metadata": {
      "needs_background": "light"
     },
     "output_type": "display_data"
    }
   ],
   "source": [
    "df.plot.line('DATE','CASE_COUNT')"
   ]
  },
  {
   "cell_type": "code",
   "execution_count": 26,
   "id": "30bc4771",
   "metadata": {},
   "outputs": [],
   "source": [
    "import matplotlib.pyplot as plt"
   ]
  },
  {
   "cell_type": "code",
   "execution_count": 44,
   "id": "e4a38541",
   "metadata": {},
   "outputs": [
    {
     "data": {
      "image/png": "[encoded data removed]",
      "text/plain": [
       "<Figure size 864x288 with 3 Axes>"
      ]
     },
     "metadata": {
      "needs_background": "light"
     },
     "output_type": "display_data"
    }
   ],
   "source": [
    "\n",
    "# plt.figure(figsize=(4,12))\n",
    "\n",
    "fig, ax = plt.subplots(figsize=(12,4))\n",
    "\n",
    "\n",
    "# Twin the x-axis twice to make independent y-axes.\n",
    "axes = [ax, ax.twinx(), ax.twinx()]\n",
    "\n",
    "# Make some space on the right side for the extra y-axis.\n",
    "fig.subplots_adjust(right=0.75)\n",
    "\n",
    "# Move the last y-axis spine over to the right by 20% of the width of the axes\n",
    "# axes[-1].spines['right'].set_position(('axes', 1.2))\n",
    "\n",
    "# To make the border of the right-most axis visible, we need to turn the frame\n",
    "# on. This hides the other plots, however, so we need to turn its fill off.\n",
    "axes[-1].set_frame_on(True)\n",
    "axes[-1].patch.set_visible(False)\n",
    "\n",
    "# And finally we get to plot things...\n",
    "colors = ('Red', 'Blue')\n",
    "i=0\n",
    "# df = df[df.DAILY_ENTRIES<1000000]\n",
    "for ax, color in zip(axes, colors):\n",
    "    if i ==0 :\n",
    "        ax.plot(df.DATE,df.DAILY_EXITS, color=color)\n",
    "        ax.set_ylabel('Daily Exits')\n",
    "    else: \n",
    "        ax.plot(df.DATE,df.CASE_COUNT, color=color)\n",
    "        ax.set_ylabel('Daily Cases')\n",
    "    # ax.set_ylabel('%s Thing' % color, color=color)\n",
    "    ax.tick_params(axis='y', colors=color)\n",
    "    i+= 1\n",
    "axes[0].set_xlabel('Date')\n",
    "\n",
    "\n",
    "plt.show()"
   ]
  },
  {
   "cell_type": "code",
   "execution_count": 46,
   "id": "84452eba",
   "metadata": {},
   "outputs": [
    {
     "name": "stdout",
     "output_type": "stream",
     "text": [
      "Correlation between Subway Entries and Covid Cases:\t0.01944282793550411\n",
      "Correlation between Subway Exits and Covid Cases:\t0.052264121865775406\n",
      "Correlation between Line Density and Covid Cases:\t0.03498084194455494\n"
     ]
    }
   ],
   "source": [
    "print(f'Correlation between Subway Entries and Covid Cases:\\t{df.DAILY_ENTRIES.corr(df.CASE_COUNT)}')\n",
    "print(f'Correlation between Subway Exits and Covid Cases:\\t{df.DAILY_EXITS.corr(df.CASE_COUNT)}')\n",
    "print(f'Correlation between Line Density and Covid Cases:\\t{df.LINE_DENSITY.corr(df.CASE_COUNT)}')"
   ]
  },
  {
   "cell_type": "code",
   "execution_count": 51,
   "id": "d100f792",
   "metadata": {},
   "outputs": [
    {
     "name": "stdout",
     "output_type": "stream",
     "text": [
      "Correlation between Line Density and Covid Cases 14 days later:\t0.06608657500296604\n",
      "Correlation between Line Density and Covid Cases 13 days later:\t0.008204611894177647\n",
      "Correlation between Line Density and Covid Cases 12 days later:\t-0.025630340572804795\n",
      "Correlation between Line Density and Covid Cases 11 days later:\t-0.0278848676000054\n",
      "Correlation between Line Density and Covid Cases 10 days later:\t-0.019304403772555462\n",
      "Correlation between Line Density and Covid Cases 9 days later:\t0.0033463835805082223\n",
      "Correlation between Line Density and Covid Cases 8 days later:\t0.03995052130955091\n",
      "Correlation between Line Density and Covid Cases 7 days later:\t0.04357365318804842\n",
      "Correlation between Line Density and Covid Cases 6 days later:\t-0.0068747732729571255\n",
      "Correlation between Line Density and Covid Cases 5 days later:\t-0.04435132222094351\n",
      "Correlation between Line Density and Covid Cases 4 days later:\t-0.0468776928804954\n",
      "Correlation between Line Density and Covid Cases 3 days later:\t-0.03664619939897019\n",
      "Correlation between Line Density and Covid Cases 2 days later:\t-0.010456894793531912\n",
      "Correlation between Line Density and Covid Cases 1 days later:\t0.03242083998723923\n"
     ]
    }
   ],
   "source": [
    "for x in range(-14,0):\n",
    "    print(f'Correlation between Line Density and Covid Cases {-x} days later:\\t{df.DAILY_EXITS.shift(x).corr(df.CASE_COUNT.iloc[:x])}')"
   ]
  },
  {
   "cell_type": "code",
   "execution_count": 52,
   "id": "f01e0ee5",
   "metadata": {},
   "outputs": [
    {
     "name": "stdout",
     "output_type": "stream",
     "text": [
      "Correlation between Line Density and Covid Cases 1 days before:\t0.0038720833810082012\n",
      "Correlation between Line Density and Covid Cases 2 days before:\t-0.030092380281745268\n",
      "Correlation between Line Density and Covid Cases 3 days before:\t-0.026211401354741887\n",
      "Correlation between Line Density and Covid Cases 4 days before:\t-0.006064872744751035\n",
      "Correlation between Line Density and Covid Cases 5 days before:\t0.029931513118827933\n",
      "Correlation between Line Density and Covid Cases 6 days before:\t0.08139067171608522\n",
      "Correlation between Line Density and Covid Cases 7 days before:\t0.10476390628926088\n",
      "Correlation between Line Density and Covid Cases 8 days before:\t0.06574418473562699\n",
      "Correlation between Line Density and Covid Cases 9 days before:\t0.039412554097323034\n",
      "Correlation between Line Density and Covid Cases 10 days before:\t0.05134674120679574\n",
      "Correlation between Line Density and Covid Cases 11 days before:\t0.07750668510764289\n",
      "Correlation between Line Density and Covid Cases 12 days before:\t0.1205840426533015\n",
      "Correlation between Line Density and Covid Cases 13 days before:\t0.17616182362238406\n"
     ]
    }
   ],
   "source": [
    "for x in range(1,14):\n",
    "    print(f'Correlation between Line Density and Covid Cases {x} days before:\\t{df.DAILY_EXITS.shift(x).corr(df.CASE_COUNT.iloc[x:])}')"
   ]
  }
 ],
 "metadata": {
  "kernelspec": {
   "display_name": "Python (Metis-Environment)",
   "language": "python",
   "name": "other-env"
  },
  "language_info": {
   "codemirror_mode": {
    "name": "ipython",
    "version": 3
   },
   "file_extension": ".py",
   "mimetype": "text/x-python",
   "name": "python",
   "nbconvert_exporter": "python",
   "pygments_lexer": "ipython3",
   "version": "3.10.4"
  }
 },
 "nbformat": 4,
 "nbformat_minor": 5
}
